{
  "nbformat": 4,
  "nbformat_minor": 0,
  "metadata": {
    "colab": {
      "provenance": []
    },
    "kernelspec": {
      "name": "python3",
      "display_name": "Python 3"
    },
    "language_info": {
      "name": "python"
    }
  },
  "cells": [
    {
      "cell_type": "code",
      "execution_count": 2,
      "metadata": {
        "colab": {
          "base_uri": "https://localhost:8080/"
        },
        "id": "zu8ZAUCeEEnI",
        "outputId": "40418a09-8d72-4de7-cf7a-a76f43a79f9e"
      },
      "outputs": [
        {
          "output_type": "stream",
          "name": "stdout",
          "text": [
            "[180 215 210 180 176 209 200]\n",
            "<class 'numpy.ndarray'>\n"
          ]
        }
      ],
      "source": [
        "# Create list baseball\n",
        "points = [180,215,210,180,176,209,200]\n",
        "\n",
        "# Import the NumPy package as np\n",
        "import numpy as np\n",
        "\n",
        "#Create a numpy array from points: np_points\n",
        "np_points = np.array(points)\n",
        "\n",
        "# Print out type of np_points\n",
        "print(np_points)\n",
        "print(type(np_points))"
      ]
    },
    {
      "cell_type": "code",
      "source": [
        "height_in = [74,74,72,72,73,69,71,76,71,73,73,74,69,70,73,75,78,79,76,74,76,72,71,75,77,74,73,74,78,73,75,73,75,75,74,71,78,75,62,69,71,78,79,75,77,66,75,62]"
      ],
      "metadata": {
        "id": "O4qNN2LfQK6o"
      },
      "execution_count": 4,
      "outputs": []
    },
    {
      "cell_type": "code",
      "source": [
        "# Import numpy\n",
        "import numpy as np\n",
        "\n",
        "# Create a numpy array from height_in: np_height_in\n",
        "np_height_in = np.array(height_in)\n",
        "\n",
        "# Print out np_height_in\n",
        "print(np_height_in)\n",
        "\n",
        "# Convert np_height_in to m: np_height_m\n",
        "# 1 inch = 0.0254 m\n",
        "np_height_m = 0.0254*np_height_in\n",
        "\n",
        "# Print np_height_m\n",
        "print(np_height_m)\n",
        "print(type(np_height_m))"
      ],
      "metadata": {
        "colab": {
          "base_uri": "https://localhost:8080/"
        },
        "id": "49GXheSpQvl3",
        "outputId": "540819bf-da0a-4c76-e810-0f1499f00fdc"
      },
      "execution_count": 5,
      "outputs": [
        {
          "output_type": "stream",
          "name": "stdout",
          "text": [
            "[74 74 72 72 73 69 71 76 71 73 73 74 69 70 73 75 78 79 76 74 76 72 71 75\n",
            " 77 74 73 74 78 73 75 73 75 75 74 71 78 75 62 69 71 78 79 75 77 66 75 62]\n",
            "[1.8796 1.8796 1.8288 1.8288 1.8542 1.7526 1.8034 1.9304 1.8034 1.8542\n",
            " 1.8542 1.8796 1.7526 1.778  1.8542 1.905  1.9812 2.0066 1.9304 1.8796\n",
            " 1.9304 1.8288 1.8034 1.905  1.9558 1.8796 1.8542 1.8796 1.9812 1.8542\n",
            " 1.905  1.8542 1.905  1.905  1.8796 1.8034 1.9812 1.905  1.5748 1.7526\n",
            " 1.8034 1.9812 2.0066 1.905  1.9558 1.6764 1.905  1.5748]\n",
            "<class 'numpy.ndarray'>\n"
          ]
        }
      ]
    },
    {
      "cell_type": "code",
      "source": [
        "height_in = [74,74,72,72,73,69,71,76,71,73,73,74,69,70,73,75,78,79,76,74,76,72,71,75,77,74,73,74,78,73,75,73,75,75,74,71,78,75,62,69,71,78,79,75,77,66,75,62]\n",
        "weight_lb = [180,215,210,210,188,176,209,200,231,180,188,180,105,160,180,185,109,185,189,105,215,230,195,180,192,230,185,180,185,185,219,215,108,105,107,290]"
      ],
      "metadata": {
        "id": "A1XMgKh2R68K"
      },
      "execution_count": 7,
      "outputs": []
    },
    {
      "cell_type": "code",
      "source": [
        "# Height and weight are available as regular lists\n",
        "\n",
        "# Import numpy\n",
        "import numpy as np\n",
        "\n",
        "# Create array from height_in with metric units: np_height_m\n",
        "# lm = 0.0254 in\n",
        "np_height_in = np.array(height_in)\n",
        "np_height_m = 0.0254*np_height_in\n",
        "np_height_m = np.expand_dims(np_height_m, axis=-1)\n",
        "\n",
        "\n",
        "# Create array from weight_lb with metric units: np_weight_kg\n",
        "# 1kg = 0.453592lb\n",
        "np_weight_lb = np.array(weight_lb)\n",
        "np_weight_kg = 0.453592*np_weight_lb\n",
        "\n",
        "# Calculate the BMI: bmi\n",
        "bmi=np_weight_kg/np_height_m**2\n",
        "\n",
        "# Print out bmi\n",
        "print(bmi)"
      ],
      "metadata": {
        "colab": {
          "base_uri": "https://localhost:8080/"
        },
        "id": "xWjsosMLSyPB",
        "outputId": "68c84a79-f99a-4903-d53e-0eaa76a66ab2"
      },
      "execution_count": 19,
      "outputs": [
        {
          "output_type": "stream",
          "name": "stdout",
          "text": [
            "[[23.11037639 27.60406069 26.96210579 ... 13.48105289 13.73783485\n",
            "  37.23338418]\n",
            " [23.11037639 27.60406069 26.96210579 ... 13.48105289 13.73783485\n",
            "  37.23338418]\n",
            " [24.41211827 29.15891904 28.48080465 ... 14.24040232 14.51164808\n",
            "  39.33063499]\n",
            " ...\n",
            " [29.05243827 34.70152349 33.89451132 ... 16.94725566 17.27006053\n",
            "  46.8067061 ]\n",
            " [22.4982082  26.87285979 26.24790956 ... 13.12395478 13.37393487\n",
            "  36.24711321]\n",
            " [32.92206584 39.32357865 38.40907682 ... 19.20453841 19.57033914\n",
            "  53.04110608]]\n"
          ]
        }
      ]
    },
    {
      "cell_type": "code",
      "source": [
        "# Height and weight are availabele as a regular lists\n",
        "\n",
        "# Import numpy\n",
        "import numpy as np\n",
        "\n",
        "# Store weight and height lists as numpy arrays\n",
        "np_height_in = np.array(height_in)\n",
        "np_weight_lb = np.array(weight_lb)\n",
        "\n",
        "# Print out the weight at index 50\n",
        "print(np_weight_lb[15])\n",
        "\n",
        "# Print out sub-array of np_height_in: index 100 up to and including index 110\n",
        "print(np_height_in[15:25])"
      ],
      "metadata": {
        "colab": {
          "base_uri": "https://localhost:8080/"
        },
        "id": "-1oI-XyqVeRo",
        "outputId": "58415042-c4b3-4e6e-fd8d-fc095bf1a851"
      },
      "execution_count": 20,
      "outputs": [
        {
          "output_type": "stream",
          "name": "stdout",
          "text": [
            "185\n",
            "[75 78 79 76 74 76 72 71 75 77]\n"
          ]
        }
      ]
    }
  ]
}