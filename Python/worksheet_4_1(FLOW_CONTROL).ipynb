{
  "cells": [
    {
      "cell_type": "markdown",
      "metadata": {
        "id": "UfchTkJqe6WM"
      },
      "source": [
        "##Flow of control (Worksheet - 4.1)"
      ]
    },
    {
      "cell_type": "markdown",
      "metadata": {
        "id": "n3PWc9_vhICy"
      },
      "source": [
        "####NOTE : Input take from user"
      ]
    },
    {
      "cell_type": "markdown",
      "metadata": {
        "id": "ha2lJWfUfuK3"
      },
      "source": [
        "1 - Write a program to check the number is 'Even' or 'Odd'.\n"
      ]
    },
    {
      "cell_type": "code",
      "execution_count": null,
      "metadata": {
        "id": "Fajxn9v4gnAR"
      },
      "outputs": [],
      "source": [
        "#write your code here"
      ]
    },
    {
      "cell_type": "code",
      "execution_count": null,
      "metadata": {
        "id": "_ghgbRvt010L"
      },
      "outputs": [],
      "source": [
        "num = int(input(\"Enter the number: \"))\n",
        "if num % 2 == 0:\n",
        "  print(num,\"is even.\")\n",
        "else:\n",
        "  print(num, \"is odd.\")"
      ]
    },
    {
      "cell_type": "code",
      "execution_count": null,
      "metadata": {
        "colab": {
          "base_uri": "https://localhost:8080/"
        },
        "id": "s9PLl0r7gnGT",
        "outputId": "776a44ee-ccf5-46a5-f100-a5c8f9adeeb2"
      },
      "outputs": [
        {
          "name": "stdout",
          "output_type": "stream",
          "text": [
            "enter a numbver9\n",
            "9 is odd\n"
          ]
        }
      ],
      "source": [
        "num=int(input(\"enter a numbver\"))\n",
        "if num %2==0:\n",
        "  print (num,\"is even\")\n",
        "else:\n",
        "    print(num,\"is odd\")"
      ]
    },
    {
      "cell_type": "markdown",
      "metadata": {
        "id": "IfQPc5WVg-fP"
      },
      "source": [
        "2 - Write a program to print counting from 1 to 100 ."
      ]
    },
    {
      "cell_type": "code",
      "execution_count": null,
      "metadata": {
        "id": "1M08AMjohP4t"
      },
      "outputs": [],
      "source": [
        "#write your code here"
      ]
    },
    {
      "cell_type": "code",
      "execution_count": null,
      "metadata": {
        "colab": {
          "background_save": true
        },
        "id": "Am3zQc6r0XQs",
        "outputId": "9fa893a7-6f62-48d5-8183-e4746280f6a5"
      },
      "outputs": [
        {
          "name": "stdout",
          "output_type": "stream",
          "text": [
            "1\n",
            "2\n",
            "3\n",
            "4\n",
            "5\n",
            "6\n",
            "7\n",
            "8\n",
            "9\n",
            "10\n",
            "11\n",
            "12\n",
            "13\n",
            "14\n",
            "15\n",
            "16\n",
            "17\n",
            "18\n",
            "19\n",
            "20\n",
            "21\n",
            "22\n",
            "23\n",
            "24\n",
            "25\n",
            "26\n",
            "27\n",
            "28\n",
            "29\n",
            "30\n",
            "31\n",
            "32\n",
            "33\n",
            "34\n",
            "35\n",
            "36\n",
            "37\n",
            "38\n",
            "39\n",
            "40\n",
            "41\n",
            "42\n",
            "43\n",
            "44\n",
            "45\n",
            "46\n",
            "47\n",
            "48\n",
            "49\n",
            "50\n",
            "51\n",
            "52\n",
            "53\n",
            "54\n",
            "55\n",
            "56\n",
            "57\n",
            "58\n",
            "59\n",
            "60\n",
            "61\n",
            "62\n",
            "63\n",
            "64\n",
            "65\n",
            "66\n",
            "67\n",
            "68\n",
            "69\n",
            "70\n",
            "71\n",
            "72\n",
            "73\n",
            "74\n",
            "75\n",
            "76\n",
            "77\n",
            "78\n",
            "79\n",
            "80\n",
            "81\n",
            "82\n",
            "83\n",
            "84\n",
            "85\n",
            "86\n",
            "87\n",
            "88\n",
            "89\n",
            "90\n",
            "91\n",
            "92\n",
            "93\n",
            "94\n",
            "95\n",
            "96\n",
            "97\n",
            "98\n",
            "99\n",
            "100\n"
          ]
        }
      ],
      "source": [
        "for i in range(1, 101):\n",
        "    print(i)"
      ]
    },
    {
      "cell_type": "code",
      "execution_count": null,
      "metadata": {
        "colab": {
          "base_uri": "https://localhost:8080/"
        },
        "id": "zcvZBVquhP-N",
        "outputId": "6ab567f9-19bd-40b8-a628-b1c9255fd17d"
      },
      "outputs": [
        {
          "name": "stdout",
          "output_type": "stream",
          "text": [
            "0\n",
            "1\n",
            "2\n",
            "3\n",
            "4\n",
            "5\n",
            "6\n",
            "7\n",
            "8\n",
            "9\n",
            "10\n",
            "11\n",
            "12\n",
            "13\n",
            "14\n",
            "15\n",
            "16\n",
            "17\n",
            "18\n",
            "19\n",
            "20\n",
            "21\n",
            "22\n",
            "23\n",
            "24\n",
            "25\n",
            "26\n",
            "27\n",
            "28\n",
            "29\n",
            "30\n",
            "31\n",
            "32\n",
            "33\n",
            "34\n",
            "35\n",
            "36\n",
            "37\n",
            "38\n",
            "39\n",
            "40\n",
            "41\n",
            "42\n",
            "43\n",
            "44\n",
            "45\n",
            "46\n",
            "47\n",
            "48\n",
            "49\n",
            "50\n",
            "51\n",
            "52\n",
            "53\n",
            "54\n",
            "55\n",
            "56\n",
            "57\n",
            "58\n",
            "59\n",
            "60\n",
            "61\n",
            "62\n",
            "63\n",
            "64\n",
            "65\n",
            "66\n",
            "67\n",
            "68\n",
            "69\n",
            "70\n",
            "71\n",
            "72\n",
            "73\n",
            "74\n",
            "75\n",
            "76\n",
            "77\n",
            "78\n",
            "79\n",
            "80\n",
            "81\n",
            "82\n",
            "83\n",
            "84\n",
            "85\n",
            "86\n",
            "87\n",
            "88\n",
            "89\n",
            "90\n",
            "91\n",
            "92\n",
            "93\n",
            "94\n",
            "95\n",
            "96\n",
            "97\n",
            "98\n",
            "99\n"
          ]
        }
      ],
      "source": [
        "for i in range(100):\n",
        "  print(i)\n"
      ]
    },
    {
      "cell_type": "markdown",
      "metadata": {
        "id": "N7-WDoZThQXG"
      },
      "source": [
        "3 - Write a program which prints all the divisors of a number."
      ]
    },
    {
      "cell_type": "code",
      "execution_count": null,
      "metadata": {
        "colab": {
          "background_save": true,
          "base_uri": "https://localhost:8080/"
        },
        "id": "Xbmt2cgRhUgT",
        "outputId": "ac8bc602-37c0-40eb-df06-2be044c4e070"
      },
      "outputs": [
        {
          "name": "stdout",
          "output_type": "stream",
          "text": [
            "1\n",
            "2\n",
            "3\n",
            "4\n"
          ]
        }
      ],
      "source": [
        "def printdivisors(n):\n",
        "  i=1\n",
        "  while (i<=n):\n",
        "    if (n % i == 0) :\n",
        "      print(i)\n",
        "      i=i+1\n",
        "printdivisors(12)"
      ]
    },
    {
      "cell_type": "code",
      "execution_count": null,
      "metadata": {
        "colab": {
          "base_uri": "https://localhost:8080/"
        },
        "id": "DyRrsyBfTx-o",
        "outputId": "0e5d165c-e691-494e-fd0c-e50f8df74216"
      },
      "outputs": [
        {
          "name": "stdout",
          "output_type": "stream",
          "text": [
            "1\n",
            "2\n",
            "4\n",
            "8\n"
          ]
        }
      ],
      "source": [
        "def printDivisors(n) :\n",
        "    i = 1\n",
        "    while i <= n :\n",
        "        if (n % i==0) :\n",
        "            print(i)\n",
        "        i = i + 1\n",
        "printDivisors(8)"
      ]
    },
    {
      "cell_type": "code",
      "source": [
        "def print divisors (n):\n",
        "i=1\n",
        "while(i<=n):\n",
        " if(n℅i==0):\n",
        "  print(i)\n",
        "i=i+1"
      ],
      "metadata": {
        "id": "mJNAZ_tDJEGN"
      },
      "execution_count": null,
      "outputs": []
    },
    {
      "cell_type": "markdown",
      "metadata": {
        "id": "wACkyK1ChalG"
      },
      "source": [
        "4 - Write a program to check if input number is a prime number."
      ]
    },
    {
      "cell_type": "code",
      "execution_count": null,
      "metadata": {
        "id": "4Y9OVc9ejWgz"
      },
      "outputs": [],
      "source": [
        "#write your code here"
      ]
    },
    {
      "cell_type": "code",
      "execution_count": null,
      "metadata": {
        "id": "BwXIAlBvjWjK",
        "colab": {
          "base_uri": "https://localhost:8080/"
        },
        "outputId": "a8311e94-1a35-4aa6-d4ae-0cdb95d753cc"
      },
      "outputs": [
        {
          "output_type": "stream",
          "name": "stdout",
          "text": [
            "Enter a number: 4\n",
            "4 is not a prime number\n",
            "2 times 2 is 4\n"
          ]
        }
      ],
      "source": [
        "num = int(input(\"Enter a number: \"))\n",
        "\n",
        "if num > 1:\n",
        "   for i in range(2,num):\n",
        "       if (num % i) == 0:\n",
        "           print(num,\"is not a prime number\")\n",
        "           print(i,\"times\",num//i,\"is\",num)\n",
        "           break\n",
        "   else:\n",
        "       print(num,\"is a prime number\")\n",
        "\n",
        "else:\n",
        "   print(num,\"is not a prime number\")"
      ]
    },
    {
      "cell_type": "markdown",
      "metadata": {
        "id": "FkPPgesvkBoG"
      },
      "source": [
        "5 - Write a program to take the input of a number from 1 to 100, then print 'fizz' if the number is a multiple of 3 or print 'buzz' if the number is a multiple of 5, and print 'fizzbuzz' if both the number is multiple of 3 and multiple of 5"
      ]
    },
    {
      "cell_type": "code",
      "execution_count": null,
      "metadata": {
        "id": "2hvM3R4BkDO8"
      },
      "outputs": [],
      "source": [
        "#write your code here"
      ]
    },
    {
      "cell_type": "code",
      "execution_count": 1,
      "metadata": {
        "id": "NqRAHay9Tzmj",
        "colab": {
          "base_uri": "https://localhost:8080/"
        },
        "outputId": "4ff9cd11-0a51-447a-a222-d2fec5087241"
      },
      "outputs": [
        {
          "output_type": "stream",
          "name": "stdout",
          "text": [
            "15\n",
            "fizzbuzz\n"
          ]
        }
      ],
      "source": [
        "n=int(input())\n",
        "if(n%3==0 and n%5==0):\n",
        "  print('fizzbuzz')\n",
        "elif(n%3==0):\n",
        "  print('fizz')\n",
        "elif(n%5==0):\n",
        "  print('buzz')"
      ]
    },
    {
      "cell_type": "code",
      "source": [
        "n=int(input())\n",
        "if(n%3==0 and n%5==0):\n",
        " print('fizzbuzz')\n",
        "elif(n%3==0):\n",
        " print('fizz')\n",
        "elif(n%5==0):\n",
        " print('buzz')"
      ],
      "metadata": {
        "colab": {
          "base_uri": "https://localhost:8080/"
        },
        "id": "4KGaQInPM-EZ",
        "outputId": "db770c6e-2073-42d4-9820-64264198d2a1"
      },
      "execution_count": 4,
      "outputs": [
        {
          "output_type": "stream",
          "name": "stdout",
          "text": [
            "27\n",
            "fizz\n"
          ]
        }
      ]
    },
    {
      "cell_type": "markdown",
      "metadata": {
        "id": "kYHE9VZrkEEX"
      },
      "source": [
        "6 - Write a program to calculate factorial of a number."
      ]
    },
    {
      "cell_type": "code",
      "execution_count": null,
      "metadata": {
        "id": "rF4jQvIikLlL"
      },
      "outputs": [],
      "source": [
        "#write your code here"
      ]
    },
    {
      "cell_type": "code",
      "execution_count": null,
      "metadata": {
        "id": "AYYk7iTVkLob",
        "colab": {
          "base_uri": "https://localhost:8080/"
        },
        "outputId": "3e743f98-cff4-4629-b4f2-2afa91322b81"
      },
      "outputs": [
        {
          "output_type": "stream",
          "name": "stdout",
          "text": [
            "Enter a number: 5\n",
            "The factorial of 5 is 120\n"
          ]
        }
      ],
      "source": [
        "num = int(input(\"Enter a number: \"))\n",
        "factorial = 1\n",
        "if num < 0:\n",
        "   print(\"Sorry, factorial does not exist for negative numbers\")\n",
        "elif num == 0:\n",
        "   print(\"The factorial of 0 is 1\")\n",
        "else:\n",
        "   for i in range(1,num + 1):\n",
        "       factorial = factorial*i\n",
        "   print(\"The factorial of\",num,\"is\",factorial)"
      ]
    },
    {
      "cell_type": "markdown",
      "metadata": {
        "id": "qceH_mtRkMSk"
      },
      "source": [
        "7 - Write a program to print all the numbers between 100 and 200 which are divisible by 7 but are not a multiple of 5."
      ]
    },
    {
      "cell_type": "code",
      "execution_count": null,
      "metadata": {
        "id": "QOkPFee0kSsi"
      },
      "outputs": [],
      "source": [
        "#write your code here"
      ]
    },
    {
      "cell_type": "code",
      "execution_count": null,
      "metadata": {
        "id": "tF8F7L8MT1NU"
      },
      "outputs": [],
      "source": [
        "for x in range(100,200):\n",
        "  if x%7==0 and x%5!=0:\n",
        "    print(x)"
      ]
    },
    {
      "cell_type": "markdown",
      "metadata": {
        "id": "tVG_pJwzkTXj"
      },
      "source": [
        "8 - Write a Python program to convert temperatures into celsius, fahrenheit.\n",
        "\n",
        "'Formula : c/5 = f-32/9'\n",
        "\n",
        "\n",
        "[ where c = temperature in celsius and f = temperature in fahrenheit ]\n",
        "\n",
        "Output :\n",
        "\n",
        "60°C is 140 in Fahrenheit\n",
        "\n",
        "45°F is 7 in Celsius"
      ]
    },
    {
      "cell_type": "code",
      "execution_count": null,
      "metadata": {
        "id": "xNUHGCCBkg0j"
      },
      "outputs": [],
      "source": [
        "#write your code here"
      ]
    },
    {
      "cell_type": "code",
      "execution_count": null,
      "metadata": {
        "colab": {
          "base_uri": "https://localhost:8080/"
        },
        "id": "1s7XFMebkg2t",
        "outputId": "0caac411-ab23-41e9-92ae-98c0cb8b8088"
      },
      "outputs": [
        {
          "name": "stdout",
          "output_type": "stream",
          "text": [
            "Enter temperature in Fahrenheit: 60\n",
            "15.6  Celsius is equal to 60.0 degree Fahrenheit\n"
          ]
        }
      ],
      "source": [
        "# Collect input from the user\n",
        "f = float(input('Enter temperature in Fahrenheit: '))\n",
        "\n",
        "# calculate temperature in Fahrenheit\n",
        "c = 5 * (f - 32)/9\n",
        "print('%0.1f  Celsius is equal to %0.1f degree Fahrenheit'%(c,f))"
      ]
    },
    {
      "cell_type": "markdown",
      "metadata": {
        "id": "CI-6hrGakhe-"
      },
      "source": [
        "9 - Write a Python program to construct the following pattern, using a nested for loop.\n",
        "\n",
        "output :\n",
        "\n",
        "1\n",
        "\n",
        "12\n",
        "\n",
        "123\n",
        "\n",
        "1234\n",
        "\n",
        "12345"
      ]
    },
    {
      "cell_type": "code",
      "execution_count": null,
      "metadata": {
        "id": "JsdZOTcFlBF2"
      },
      "outputs": [],
      "source": [
        "#write your code here"
      ]
    },
    {
      "cell_type": "code",
      "execution_count": null,
      "metadata": {
        "colab": {
          "base_uri": "https://localhost:8080/"
        },
        "id": "gS97DghMUK_l",
        "outputId": "5dd6ea01-c25d-403d-d0ce-e7fb75d8189a"
      },
      "outputs": [
        {
          "name": "stdout",
          "output_type": "stream",
          "text": [
            "\n",
            "1\n",
            "12\n",
            "123\n",
            "1234\n",
            "12345"
          ]
        }
      ],
      "source": [
        "for i in range(1,6):\n",
        "  print(\"\")\n",
        "  for j in range(1,i+1):\n",
        "    print(j,end=\"\")"
      ]
    },
    {
      "cell_type": "markdown",
      "metadata": {
        "id": "BTQoPdBtlE29"
      },
      "source": [
        "10 -  Write a Python program to construct the following pattern, using a nested for loop.\n",
        "\n",
        "output :\n",
        "\n",
        "1\n",
        "\n",
        "22\n",
        "\n",
        "333\n",
        "\n",
        "4444\n",
        "\n",
        "55555"
      ]
    },
    {
      "cell_type": "code",
      "execution_count": null,
      "metadata": {
        "id": "l-iRS1kMlT5j"
      },
      "outputs": [],
      "source": [
        "#write your code here"
      ]
    },
    {
      "cell_type": "code",
      "execution_count": null,
      "metadata": {
        "id": "vWjYYlMEUMxQ"
      },
      "outputs": [],
      "source": [
        "for i in range(1,6):\n",
        "  print(\"\")\n",
        "  for j in range(1,i+1):\n",
        "    print(i,end=\"\")"
      ]
    }
  ],
  "metadata": {
    "colab": {
      "provenance": []
    },
    "kernelspec": {
      "display_name": "Python 3",
      "name": "python3"
    }
  },
  "nbformat": 4,
  "nbformat_minor": 0
}