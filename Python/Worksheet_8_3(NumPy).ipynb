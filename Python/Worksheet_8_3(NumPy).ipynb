{
  "nbformat": 4,
  "nbformat_minor": 0,
  "metadata": {
    "colab": {
      "provenance": []
    },
    "kernelspec": {
      "name": "python3",
      "display_name": "Python 3"
    },
    "language_info": {
      "name": "python"
    }
  },
  "cells": [
    {
      "cell_type": "code",
      "execution_count": 4,
      "metadata": {
        "colab": {
          "base_uri": "https://localhost:8080/"
        },
        "id": "6jpAMiAZatA_",
        "outputId": "9888a31f-761b-44e8-8952-aac7ab0bcb0a"
      },
      "outputs": [
        {
          "output_type": "stream",
          "name": "stdout",
          "text": [
            "[[180.   78.4]\n",
            " [215.  102.7]\n",
            " [210.   98.5]\n",
            " [188.   75.2]]\n"
          ]
        },
        {
          "output_type": "execute_result",
          "data": {
            "text/plain": [
              "(4, 2)"
            ]
          },
          "metadata": {},
          "execution_count": 4
        }
      ],
      "source": [
        "# Create stocks, a list of lists\n",
        "stock =[[180,78.4],\n",
        "        [215,102.7],\n",
        "        [210,98.5],\n",
        "        [188,75.2]]\n",
        "\n",
        "# Import numpy\n",
        "import numpy as np\n",
        "\n",
        "# Create a 2D numpy array from stock: np_stock\n",
        "np_stock = np.array(stock)\n",
        "\n",
        "# Print out the type of np_stock\n",
        "print(np_stock)\n",
        "\n",
        "# Print out the shape of np_stock\n",
        "np_stock.shape"
      ]
    },
    {
      "cell_type": "code",
      "source": [
        "stock1 = [[74,180],[74,215],[72,210],[72,210],[73,188],[69,176],[69,210],[76,203],[83,260],[75,246],[74,186],[76,210],[72,198],[72,210],[75,180]]"
      ],
      "metadata": {
        "id": "_5zgoIWnEZl8"
      },
      "execution_count": 5,
      "outputs": []
    },
    {
      "cell_type": "code",
      "source": [
        "# Stock is available as a regular list of lists\n",
        "\n",
        "# Import numpy package\n",
        "import numpy as np\n",
        "\n",
        "# Create np_stock\n",
        "np_stock1 = np.array(stock1)\n",
        "\n",
        "# Print out the 10th row of np_stock\n",
        "print(np_stock1[9][:])\n",
        "\n",
        "# Select the entire second column of np_stock: np_second_stock\n",
        "np_second_stock = np_stock[:,1]\n",
        "\n",
        "# Print out value of 11th stock (First Column)\n",
        "np_stock1[9][0]\n"
      ],
      "metadata": {
        "colab": {
          "base_uri": "https://localhost:8080/"
        },
        "id": "MVdyoax8Fj0R",
        "outputId": "f0a3c97f-3f7a-4628-fa20-2dcd94d6c191"
      },
      "execution_count": 10,
      "outputs": [
        {
          "output_type": "stream",
          "name": "stdout",
          "text": [
            "[ 75 246]\n"
          ]
        },
        {
          "output_type": "execute_result",
          "data": {
            "text/plain": [
              "75"
            ]
          },
          "metadata": {},
          "execution_count": 10
        }
      ]
    },
    {
      "cell_type": "code",
      "source": [
        "np_stock1.shape"
      ],
      "metadata": {
        "colab": {
          "base_uri": "https://localhost:8080/"
        },
        "id": "WPYRcEC-GlZt",
        "outputId": "d80af5d0-d00b-45b0-ade2-2046071b0f9b"
      },
      "execution_count": 8,
      "outputs": [
        {
          "output_type": "execute_result",
          "data": {
            "text/plain": [
              "(15, 2)"
            ]
          },
          "metadata": {},
          "execution_count": 8
        }
      ]
    }
  ]
}