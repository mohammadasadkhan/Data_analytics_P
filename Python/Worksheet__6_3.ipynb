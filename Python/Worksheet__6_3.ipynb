{
  "nbformat": 4,
  "nbformat_minor": 0,
  "metadata": {
    "colab": {
      "provenance": []
    },
    "kernelspec": {
      "name": "python3",
      "display_name": "Python 3"
    }
  },
  "cells": [
    {
      "cell_type": "markdown",
      "metadata": {
        "id": "elFvStottTuT"
      },
      "source": [
        "\n",
        "##Dictionaries in Python Worksheet 6.3"
      ]
    },
    {
      "cell_type": "markdown",
      "metadata": {
        "id": "N_lStNl-ta3Z"
      },
      "source": [
        "Question - 1 : Write a python program to create a Dictionary with Key as First Character and Value as Words Starting with that Character\n",
        "\n",
        "i.e :  \n",
        "\n",
        "Input: Hello World\n",
        "\n",
        "Output:\n",
        "\n",
        "          {'H': ['Hello'],\n",
        "\n",
        "         'W': ['World']}\n"
      ]
    },
    {
      "cell_type": "code",
      "metadata": {
        "id": "9Cqjj9a5tkW2"
      },
      "source": [
        "#write your code here"
      ],
      "execution_count": null,
      "outputs": []
    },
    {
      "cell_type": "code",
      "metadata": {
        "id": "vzwQLvc6hbH-",
        "colab": {
          "base_uri": "https://localhost:8080/"
        },
        "outputId": "e530acea-29cb-4a1e-924f-796ba33c696c"
      },
      "source": [
        "string_input = 'Hello World'\n",
        "words = string_input.split()\n",
        "\n",
        "dictionary = {}\n",
        "\n",
        "for word in words:\n",
        "    if (word[0] not in dictionary.keys()):\n",
        "        dictionary[word[0]] = []\n",
        "        dictionary[word[0]].append(word)\n",
        "    else:\n",
        "        if (word not in dictionary[word[0]]):\n",
        "            dictionary[word[0]].append(word)\n",
        "\n",
        "print(dictionary)\n"
      ],
      "execution_count": 10,
      "outputs": [
        {
          "output_type": "stream",
          "name": "stdout",
          "text": [
            "{'H': ['Hello'], 'W': ['World']}\n"
          ]
        }
      ]
    },
    {
      "cell_type": "markdown",
      "metadata": {
        "id": "Yg0ZuQ_1tk0q"
      },
      "source": [
        "Question - 2 : Write a python program  to read roll numbers and marks of  four student and create a dictionary from it having roll numbers as keys and marks as values."
      ]
    },
    {
      "cell_type": "code",
      "metadata": {
        "id": "dPN8A1qOtm19"
      },
      "source": [
        "#write your code here."
      ],
      "execution_count": null,
      "outputs": []
    },
    {
      "cell_type": "code",
      "metadata": {
        "id": "e5HSX2JNhcHw",
        "colab": {
          "base_uri": "https://localhost:8080/"
        },
        "outputId": "fa1cc44c-0b65-495a-fe62-a29e5abb96dd"
      },
      "source": [
        "nro=[]\n",
        "mks=[]\n",
        "\n",
        "for a in range(4):\n",
        "  r = int(input(\"Enter the roll no. : \"))\n",
        "  m = float(input(\"Enter the roll Marks : \"))\n",
        "\n",
        "  nro.append(r)\n",
        "  mks.append(m)\n",
        "\n",
        "\n",
        "d={nro[0]:mks[0] , nro[1]:mks[1] , nro[2]:mks[2] ,nro[3]:mks[3]}\n",
        "\n",
        "print(d)"
      ],
      "execution_count": 9,
      "outputs": [
        {
          "output_type": "stream",
          "name": "stdout",
          "text": [
            "Enter the roll no. : 27\n",
            "Enter the roll Marks : 94\n",
            "Enter the roll no. : 28\n",
            "Enter the roll Marks : 88\n",
            "Enter the roll no. : 29\n",
            "Enter the roll Marks : 85\n",
            "Enter the roll no. : 30\n",
            "Enter the roll Marks : 45\n",
            "{27: 94.0, 28: 88.0, 29: 85.0, 30: 45.0}\n"
          ]
        }
      ]
    },
    {
      "cell_type": "markdown",
      "metadata": {
        "id": "Z5ZE7Ik7tn0E"
      },
      "source": [
        "Question - 3 : Write a python program  to delete a whole dictionaries.\n",
        "\n",
        "d = {\n",
        "\n",
        "  'a': 10 ,\n",
        "  'b' : 20,\n",
        "  'c' : 40 ,\n",
        "  'd' : 50\n",
        "\n",
        "}"
      ]
    },
    {
      "cell_type": "code",
      "metadata": {
        "id": "eUKNvUcWtsWm"
      },
      "source": [
        "#write your code here."
      ],
      "execution_count": null,
      "outputs": []
    },
    {
      "cell_type": "code",
      "metadata": {
        "id": "dfKCe5sbtscX",
        "colab": {
          "base_uri": "https://localhost:8080/"
        },
        "outputId": "ac98dfbd-90a7-4e40-c1cc-f577c17d1f77"
      },
      "source": [
        "d = {\n",
        "\n",
        "  'a': 10 ,\n",
        "  'b' : 20,\n",
        "  'c' : 40 ,\n",
        "  'd' : 50\n",
        "\n",
        "}\n",
        "\n",
        "d.clear()\n",
        "\n",
        "d"
      ],
      "execution_count": 8,
      "outputs": [
        {
          "output_type": "execute_result",
          "data": {
            "text/plain": [
              "{}"
            ]
          },
          "metadata": {},
          "execution_count": 8
        }
      ]
    },
    {
      "cell_type": "markdown",
      "metadata": {
        "id": "bAc35oqBtszL"
      },
      "source": [
        "Question - 4 : Write a python program to print a dictionary where the keys are numbers between 1 and 20 (both included) and the values are square of keys.\n"
      ]
    },
    {
      "cell_type": "code",
      "metadata": {
        "id": "AvhB1k4otvgz"
      },
      "source": [
        "#write your code here."
      ],
      "execution_count": null,
      "outputs": []
    },
    {
      "cell_type": "code",
      "metadata": {
        "id": "MpWJ1D3fheH0",
        "colab": {
          "base_uri": "https://localhost:8080/"
        },
        "outputId": "e143d59d-4832-4d3c-c16b-e98aa354930c"
      },
      "source": [
        "d=dict()\n",
        "for x in range(1,21):\n",
        "    d[x]=x**2\n",
        "print(d)"
      ],
      "execution_count": 7,
      "outputs": [
        {
          "output_type": "stream",
          "name": "stdout",
          "text": [
            "{1: 1, 2: 4, 3: 9, 4: 16, 5: 25, 6: 36, 7: 49, 8: 64, 9: 81, 10: 100, 11: 121, 12: 144, 13: 169, 14: 196, 15: 225, 16: 256, 17: 289, 18: 324, 19: 361, 20: 400}\n"
          ]
        }
      ]
    },
    {
      "cell_type": "markdown",
      "metadata": {
        "id": "KkNsnlQFtwK1"
      },
      "source": [
        "Question - 5 : Write a python program  to use pop() and popitem() functions on given dictionary.\n",
        "\n",
        "d = {\n",
        "\n",
        "  'a': 10 ,\n",
        "  'b' : 20,\n",
        "  'c' : 40 ,\n",
        "  'd' : 50\n",
        "\n",
        "}"
      ]
    },
    {
      "cell_type": "code",
      "metadata": {
        "id": "K93cfAKXtyZV"
      },
      "source": [
        "#write your code here."
      ],
      "execution_count": null,
      "outputs": []
    },
    {
      "cell_type": "code",
      "metadata": {
        "id": "QnOMTrVbtyfP",
        "colab": {
          "base_uri": "https://localhost:8080/"
        },
        "outputId": "174b11ee-7009-479a-854d-e123f2bbbae6"
      },
      "source": [
        "d = {\n",
        "\n",
        "  'a': 10 ,\n",
        "  'b' : 20,\n",
        "  'c' : 40 ,\n",
        "  'd' : 50\n",
        "\n",
        "}\n",
        "d.pop('a')\n",
        "\n",
        "d.popitem() # delete last elements\n",
        "\n",
        "d"
      ],
      "execution_count": 6,
      "outputs": [
        {
          "output_type": "execute_result",
          "data": {
            "text/plain": [
              "{'b': 20, 'c': 40}"
            ]
          },
          "metadata": {},
          "execution_count": 6
        }
      ]
    },
    {
      "cell_type": "markdown",
      "metadata": {
        "id": "AlsTO4IrtzAF"
      },
      "source": [
        "Question - 6 : Write a python program  to update a dictionary (add some keys , values).\n",
        "\n",
        "d = {\n",
        "\n",
        "  'a': 10 ,\n",
        "  'b' : 20,\n",
        "  'c' : 40 ,\n",
        "  'd' : 50\n",
        "\n",
        "}"
      ]
    },
    {
      "cell_type": "code",
      "metadata": {
        "id": "kFZ89quWt044"
      },
      "source": [
        "#write your code here."
      ],
      "execution_count": null,
      "outputs": []
    },
    {
      "cell_type": "code",
      "metadata": {
        "id": "R_vIRXeVhgaM",
        "colab": {
          "base_uri": "https://localhost:8080/"
        },
        "outputId": "cb0a6b04-c0e2-40a2-abe3-eb1ba3e0ae09"
      },
      "source": [
        "d = {1: \"one\", 2: \"three\"}\n",
        "d1 = {2: \"two\"}\n",
        "\n",
        "# updates the value of key 2\n",
        "d.update(d1)\n",
        "d1 = {3: \"three\"}\n",
        "# adds element with key 3\n",
        "d.update(d1)\n",
        "\n",
        "d"
      ],
      "execution_count": 5,
      "outputs": [
        {
          "output_type": "execute_result",
          "data": {
            "text/plain": [
              "{1: 'one', 2: 'two', 3: 'three'}"
            ]
          },
          "metadata": {},
          "execution_count": 5
        }
      ]
    },
    {
      "cell_type": "markdown",
      "metadata": {
        "id": "cWgTAyETt1V8"
      },
      "source": [
        "Question - 7 : Write a python program  to create a phone dictionary for all friends and print each keys and values pair in separate lines.\n",
        "\n",
        "ouput :\n",
        "\n",
        "rajit : 9010203040\n",
        "\n",
        "nikhil : 9910203040\n",
        "\n",
        "gaurav : 8810203040\n"
      ]
    },
    {
      "cell_type": "code",
      "metadata": {
        "id": "M2X4Ttbgt34A"
      },
      "source": [
        "#write your code here."
      ],
      "execution_count": null,
      "outputs": []
    },
    {
      "cell_type": "code",
      "metadata": {
        "id": "8xXZyJalhhdw",
        "colab": {
          "base_uri": "https://localhost:8080/"
        },
        "outputId": "cb9d9b4a-2792-4142-b707-485c029d30d2"
      },
      "source": [
        "phone = {\"rajit\":9010203040 , \"nikhil\":9910203040 , \"gaurav\":8810203040}\n",
        "\n",
        "for name in phone:\n",
        "  print(name , \" : \",phone[name])"
      ],
      "execution_count": 4,
      "outputs": [
        {
          "output_type": "stream",
          "name": "stdout",
          "text": [
            "rajit  :  9010203040\n",
            "nikhil  :  9910203040\n",
            "gaurav  :  8810203040\n"
          ]
        }
      ]
    },
    {
      "cell_type": "markdown",
      "metadata": {
        "id": "AsmjIGrtt4Ww"
      },
      "source": [
        "Question - 8 : Write a python program  to create empty dictionary by two way.\n",
        "\n"
      ]
    },
    {
      "cell_type": "code",
      "metadata": {
        "id": "ontMagNTt6RI"
      },
      "source": [
        "#write your code here."
      ],
      "execution_count": null,
      "outputs": []
    },
    {
      "cell_type": "code",
      "metadata": {
        "id": "rzBgYJGLhkKL",
        "colab": {
          "base_uri": "https://localhost:8080/"
        },
        "outputId": "fcf7509b-ddd1-4cf5-8014-955bedcc55eb"
      },
      "source": [
        "# first way to create empty\n",
        "\n",
        "d= {}\n",
        "\n",
        "#second  way of create empty dictionary\n",
        "d1 = dict()\n",
        "d"
      ],
      "execution_count": 3,
      "outputs": [
        {
          "output_type": "execute_result",
          "data": {
            "text/plain": [
              "{}"
            ]
          },
          "metadata": {},
          "execution_count": 3
        }
      ]
    },
    {
      "cell_type": "markdown",
      "metadata": {
        "id": "eob590Abt6wa"
      },
      "source": [
        "Question - 9 : Write a python program to print only even indexes value.\n",
        "\n",
        "d = {\n",
        "\n",
        "  'a': 10 ,\n",
        "  'b' : 20,\n",
        "  'c' : 42 ,\n",
        "  'd' : 50 ,\n",
        "  'e' : 61 ,\n",
        "  'f' : 70 ,\n",
        "  'g' : 81 ,\n",
        "  'h' : 100\n",
        "\n",
        "}"
      ]
    },
    {
      "cell_type": "code",
      "metadata": {
        "id": "Lb7hHadBt8l7"
      },
      "source": [
        "#write your code here."
      ],
      "execution_count": null,
      "outputs": []
    },
    {
      "cell_type": "code",
      "metadata": {
        "id": "Nz7e7awMhk_j",
        "colab": {
          "base_uri": "https://localhost:8080/"
        },
        "outputId": "73a67631-50d9-4d8e-ee10-2ed7aa1c39b6"
      },
      "source": [
        "d = {\n",
        "\n",
        "  'a': 10 ,\n",
        "  'b' : 20,\n",
        "  'c' : 42 ,\n",
        "  'd' : 50 ,\n",
        "  'e' : 61 ,\n",
        "  'f' : 70 ,\n",
        "  'g' : 81 ,\n",
        "  'h' : 100\n",
        "\n",
        "}\n",
        "\n",
        "\n",
        "lt = list(d.values())\n",
        "lt1= []\n",
        "for x in range(0 , len(lt)):\n",
        "  if lt[x]%2==0:\n",
        "    lt1.append(lt[x])\n",
        "  else:\n",
        "    pass\n",
        "\n",
        "lt1"
      ],
      "execution_count": 2,
      "outputs": [
        {
          "output_type": "execute_result",
          "data": {
            "text/plain": [
              "[10, 20, 42, 50, 70, 100]"
            ]
          },
          "metadata": {},
          "execution_count": 2
        }
      ]
    },
    {
      "cell_type": "markdown",
      "metadata": {
        "id": "PTjI7zOLt9D8"
      },
      "source": [
        "Question - 10 : Write a python program to create a dict object from explicit key-value pairs using the assignment operator (=) :"
      ]
    },
    {
      "cell_type": "code",
      "metadata": {
        "id": "uU2yN-KluAoo"
      },
      "source": [
        "#write your code here."
      ],
      "execution_count": null,
      "outputs": []
    },
    {
      "cell_type": "code",
      "metadata": {
        "id": "HfLLnFFGhnNT",
        "colab": {
          "base_uri": "https://localhost:8080/"
        },
        "outputId": "415a362c-e44b-4c79-cf2e-b80bdaab50f4"
      },
      "source": [
        "dict_assigned = dict(a=0, b=1, c=2)\n",
        "dict_assigned"
      ],
      "execution_count": 1,
      "outputs": [
        {
          "output_type": "execute_result",
          "data": {
            "text/plain": [
              "{'a': 0, 'b': 1, 'c': 2}"
            ]
          },
          "metadata": {},
          "execution_count": 1
        }
      ]
    }
  ]
}