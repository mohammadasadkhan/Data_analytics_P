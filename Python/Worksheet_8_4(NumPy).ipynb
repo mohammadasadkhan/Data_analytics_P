{
  "nbformat": 4,
  "nbformat_minor": 0,
  "metadata": {
    "colab": {
      "provenance": []
    },
    "kernelspec": {
      "name": "python3",
      "display_name": "Python 3"
    },
    "language_info": {
      "name": "python"
    }
  },
  "cells": [
    {
      "cell_type": "code",
      "source": [
        "# Importing the package\n",
        "import numpy as np"
      ],
      "metadata": {
        "id": "h3fRbvlIIDTR"
      },
      "execution_count": 6,
      "outputs": []
    },
    {
      "cell_type": "markdown",
      "source": [
        "### [**numpy.arange**](https://numpy.org/doc/stable/reference/generated/numpy.arange.html)"
      ],
      "metadata": {
        "id": "K1wbDJr2IPsO"
      }
    },
    {
      "cell_type": "code",
      "execution_count": 7,
      "metadata": {
        "colab": {
          "base_uri": "https://localhost:8080/"
        },
        "id": "TxWyJawqHxu1",
        "outputId": "f93d826d-b678-4f2b-c0af-0b804a9a851b"
      },
      "outputs": [
        {
          "output_type": "execute_result",
          "data": {
            "text/plain": [
              "array([ 0,  1,  2,  3,  4,  5,  6,  7,  8,  9, 10, 11, 12, 13, 14])"
            ]
          },
          "metadata": {},
          "execution_count": 7
        }
      ],
      "source": [
        "# Generating range upto 15\n",
        "np.arange(15)"
      ]
    },
    {
      "cell_type": "code",
      "source": [
        "x = np.arange(1,16)"
      ],
      "metadata": {
        "id": "IOhpr8l6JfTX"
      },
      "execution_count": 8,
      "outputs": []
    },
    {
      "cell_type": "code",
      "source": [
        "type(x)"
      ],
      "metadata": {
        "colab": {
          "base_uri": "https://localhost:8080/"
        },
        "id": "fGI13XmJJqS_",
        "outputId": "686c197b-d759-4f9c-f4e3-4e7eadc70448"
      },
      "execution_count": null,
      "outputs": [
        {
          "output_type": "execute_result",
          "data": {
            "text/plain": [
              "numpy.ndarray"
            ]
          },
          "metadata": {},
          "execution_count": 6
        }
      ]
    },
    {
      "cell_type": "code",
      "source": [
        "# Printing the variable of the range\n",
        "print(x)"
      ],
      "metadata": {
        "colab": {
          "base_uri": "https://localhost:8080/"
        },
        "id": "Gmb9J4arIsXR",
        "outputId": "89de24e5-ca55-4296-88d6-a080e2325a9a"
      },
      "execution_count": null,
      "outputs": [
        {
          "output_type": "stream",
          "name": "stdout",
          "text": [
            "[ 1  2  3  4  5  6  7  8  9 10 11 12 13 14 15]\n"
          ]
        }
      ]
    },
    {
      "cell_type": "code",
      "source": [
        "# Checking if the elements are greater than 6\n",
        "print(x>6)"
      ],
      "metadata": {
        "colab": {
          "base_uri": "https://localhost:8080/"
        },
        "id": "-5FtpAsLIx57",
        "outputId": "6c2598eb-3c03-41c6-927c-67a458b8b3fe"
      },
      "execution_count": null,
      "outputs": [
        {
          "output_type": "stream",
          "name": "stdout",
          "text": [
            "[False False False False False False  True  True  True  True  True  True\n",
            "  True  True  True]\n"
          ]
        }
      ]
    },
    {
      "cell_type": "code",
      "source": [
        "# Another single condition\n",
        "print(x == 6)"
      ],
      "metadata": {
        "colab": {
          "base_uri": "https://localhost:8080/"
        },
        "id": "owtjQCDCI4Tm",
        "outputId": "77aac52b-e63b-42c6-8192-d367edcb59f5"
      },
      "execution_count": null,
      "outputs": [
        {
          "output_type": "stream",
          "name": "stdout",
          "text": [
            "[False False False False False  True False False False False False False\n",
            " False False False]\n"
          ]
        }
      ]
    },
    {
      "cell_type": "code",
      "source": [
        "# Double condition using &\n",
        "x1 = (x==6) & (x==7)\n",
        "print(x1)"
      ],
      "metadata": {
        "colab": {
          "base_uri": "https://localhost:8080/"
        },
        "id": "MNYdq8I9I8fV",
        "outputId": "da998c6a-0cfa-4362-ef08-ef7fea208afb"
      },
      "execution_count": null,
      "outputs": [
        {
          "output_type": "stream",
          "name": "stdout",
          "text": [
            "[False False False False False False False False False False False False\n",
            " False False False]\n"
          ]
        }
      ]
    },
    {
      "cell_type": "code",
      "source": [
        "# Double condition using |\n",
        "x2 = (x==6) | (x==7)\n",
        "print(x2)"
      ],
      "metadata": {
        "colab": {
          "base_uri": "https://localhost:8080/"
        },
        "id": "CkUwiYOnJBUe",
        "outputId": "00327389-b8bf-4222-de35-939d10e282a2"
      },
      "execution_count": 9,
      "outputs": [
        {
          "output_type": "stream",
          "name": "stdout",
          "text": [
            "[False False False False False  True  True False False False False False\n",
            " False False False]\n"
          ]
        }
      ]
    },
    {
      "cell_type": "code",
      "source": [
        "# Using ~ operator for oppositing\n",
        "print(~x2)"
      ],
      "metadata": {
        "id": "hi_tVbK9JFUv",
        "colab": {
          "base_uri": "https://localhost:8080/"
        },
        "outputId": "9c4a2bec-667f-4f98-cada-0ef34c0ffc1f"
      },
      "execution_count": 10,
      "outputs": [
        {
          "output_type": "stream",
          "name": "stdout",
          "text": [
            "[ True  True  True  True  True False False  True  True  True  True  True\n",
            "  True  True  True]\n"
          ]
        }
      ]
    },
    {
      "cell_type": "code",
      "source": [
        "# Slicing all the elements if the elements are greater than 6\n",
        "x[x>6]"
      ],
      "metadata": {
        "colab": {
          "base_uri": "https://localhost:8080/"
        },
        "id": "HDcmDewnVvE5",
        "outputId": "3ac793fd-a7c7-4682-8bd6-5dabd56d4cd3"
      },
      "execution_count": 12,
      "outputs": [
        {
          "output_type": "execute_result",
          "data": {
            "text/plain": [
              "array([ 7,  8,  9, 10, 11, 12, 13, 14, 15])"
            ]
          },
          "metadata": {},
          "execution_count": 12
        }
      ]
    },
    {
      "cell_type": "code",
      "source": [
        "# Slicing all the elements if the elements are less than 5\n",
        "x[x<5]"
      ],
      "metadata": {
        "colab": {
          "base_uri": "https://localhost:8080/"
        },
        "id": "6gB6-9baWA9Z",
        "outputId": "052271c6-340e-4f10-9f29-a57109d3d2fb"
      },
      "execution_count": 14,
      "outputs": [
        {
          "output_type": "execute_result",
          "data": {
            "text/plain": [
              "array([1, 2, 3, 4])"
            ]
          },
          "metadata": {},
          "execution_count": 14
        }
      ]
    }
  ]
}