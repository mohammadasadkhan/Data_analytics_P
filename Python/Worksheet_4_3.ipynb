{
  "nbformat": 4,
  "nbformat_minor": 0,
  "metadata": {
    "colab": {
      "provenance": []
    },
    "kernelspec": {
      "name": "python3",
      "display_name": "Python 3"
    }
  },
  "cells": [
    {
      "cell_type": "markdown",
      "metadata": {
        "id": "jO2U2xUfEDa3"
      },
      "source": [
        "##Flow of control - Worksheet(4.3)\n"
      ]
    },
    {
      "cell_type": "markdown",
      "metadata": {
        "id": "HtP09yhsEJl6"
      },
      "source": [
        "1 - Write a Python program to get the Fibonacci series between 0 to 50.\n",
        "\n",
        "Note : The Fibonacci Series is the series of numbers :\n",
        "0, 1, 1, 2, 3, 5, 8, 13, 21, ....\n",
        "\n",
        "Every next number is found by adding up the two numbers before it.\n",
        "\n",
        "Expected Output : 1 1 2 3 5 8 13 21 34."
      ]
    },
    {
      "cell_type": "code",
      "metadata": {
        "id": "j_Lv6z8qEn6z"
      },
      "source": [
        "#write your code here."
      ],
      "execution_count": null,
      "outputs": []
    },
    {
      "cell_type": "code",
      "metadata": {
        "id": "meMAwhjK5MgY",
        "colab": {
          "base_uri": "https://localhost:8080/"
        },
        "outputId": "5bcf4133-1da0-42d5-82e3-11691b9b98f2"
      },
      "source": [
        "n = int(input(\"Enter the value of 'n': \"))\n",
        "a = 0\n",
        "b = 1\n",
        "sum = 0\n",
        "count = 1\n",
        "print(\"Fibonacci Series: \", end = \" \")\n",
        "while(count <= n):\n",
        "  print(sum, end = \" \")\n",
        "  count += 1\n",
        "  a = b\n",
        "  b = sum\n",
        "  sum = a + b"
      ],
      "execution_count": 11,
      "outputs": [
        {
          "output_type": "stream",
          "name": "stdout",
          "text": [
            "Enter the value of 'n': 9\n",
            "Fibonacci Series:  0 1 1 2 3 5 8 13 21 "
          ]
        }
      ]
    },
    {
      "cell_type": "markdown",
      "metadata": {
        "id": "R_W5y6a4Eoc5"
      },
      "source": [
        "2 - Write a Python program that accepts a string and calculate the number of digits and letters.\n",
        "\n",
        "Input : Python 3.2\n",
        "\n",
        "Output :\n",
        "\n",
        "Letters 6\n",
        "\n",
        "Digits 2"
      ]
    },
    {
      "cell_type": "code",
      "metadata": {
        "id": "_8dizBdHE35u"
      },
      "source": [
        "#write your code here"
      ],
      "execution_count": null,
      "outputs": []
    },
    {
      "cell_type": "code",
      "metadata": {
        "id": "X8mONffP5Ofg",
        "outputId": "31e42bde-e14f-4fa8-9a36-2b8d9cc712da",
        "colab": {
          "base_uri": "https://localhost:8080/"
        }
      },
      "source": [
        "string = \"python 3.2\"\n",
        "\n",
        "total_digits = 0\n",
        "total_letters = 0\n",
        "\n",
        "\n",
        "for s in string:\n",
        "\n",
        "    if s.isnumeric():\n",
        "        total_digits += 1\n",
        "\n",
        "    else:\n",
        "        total_letters += 1\n",
        "\n",
        "print(\"Total letters found :\", total_letters)\n",
        "\n",
        "print(\"Total digits found :\", total_digits)\n",
        "#write your code here."
      ],
      "execution_count": 10,
      "outputs": [
        {
          "output_type": "stream",
          "name": "stdout",
          "text": [
            "Total letters found : 8\n",
            "Total digits found : 2\n"
          ]
        }
      ]
    },
    {
      "cell_type": "markdown",
      "metadata": {
        "id": "f4cOWCVvE4hw"
      },
      "source": [
        "3 - Write a Python program to construct the following pattern, using a nested for loop.\n",
        "\n",
        "1\n",
        "\n",
        "1 1  \n",
        "\n",
        "1 1 1\n",
        "\n",
        "1 1 1 1\n",
        "\n",
        "1 1 1 1 1\n",
        "\n",
        "1 1 1 1\n",
        "\n",
        "1 1 1\n",
        "\n",
        "1 1\n",
        "\n",
        "1"
      ]
    },
    {
      "cell_type": "code",
      "metadata": {
        "id": "J8NHQGs-FUDF"
      },
      "source": [
        "#write your code here."
      ],
      "execution_count": null,
      "outputs": []
    },
    {
      "cell_type": "code",
      "metadata": {
        "id": "-fXIrRro5TcA",
        "colab": {
          "base_uri": "https://localhost:8080/"
        },
        "outputId": "17e6b34a-0abb-4031-d5e0-051651baeb6a"
      },
      "source": [
        "rows = 5\n",
        "for i in range(0, rows):\n",
        "    for j in range(0, i + 1):\n",
        "        print(\"1\", end=' ')\n",
        "    print(\"\\r\")\n",
        "\n",
        "for i in range(rows, 0, -1):\n",
        "    for j in range(0, i - 1):\n",
        "        print(\"1\", end=' ')\n",
        "    print(\"\\r\")"
      ],
      "execution_count": 12,
      "outputs": [
        {
          "output_type": "stream",
          "name": "stdout",
          "text": [
            "1 \r\n",
            "1 1 \r\n",
            "1 1 1 \r\n",
            "1 1 1 1 \r\n",
            "1 1 1 1 1 \r\n",
            "1 1 1 1 \r\n",
            "1 1 1 \r\n",
            "1 1 \r\n",
            "1 \r\n",
            "\r\n"
          ]
        }
      ]
    },
    {
      "cell_type": "markdown",
      "metadata": {
        "id": "CX9P0ZubFdYp"
      },
      "source": [
        "4 -  Write a Python program to construct the following pattern, using a nested for loop.\n",
        "\n",
        "1 0 1 0 1\n",
        "\n",
        "1 0 1 0 1\n",
        "\n",
        "1 0 1 0 1\n",
        "\n",
        "1 0 1 0 1\n",
        "\n",
        "1 0 1 0 1"
      ]
    },
    {
      "cell_type": "code",
      "metadata": {
        "id": "ucHxt1QOFzt_"
      },
      "source": [
        "#write your code here."
      ],
      "execution_count": null,
      "outputs": []
    },
    {
      "cell_type": "code",
      "metadata": {
        "id": "Pahh-j_K5UPi",
        "colab": {
          "base_uri": "https://localhost:8080/"
        },
        "outputId": "16078fbb-9975-4c45-e2f7-962cfcf7e4b3"
      },
      "source": [
        "for i in range(1,6):\n",
        "  print(\"\")\n",
        "  for j in range(1,6):\n",
        "    if j%2==0:\n",
        "      print(\"0\" , end= \" \")\n",
        "    else:\n",
        "      print(\"1\" , end= \" \")"
      ],
      "execution_count": 7,
      "outputs": [
        {
          "output_type": "stream",
          "name": "stdout",
          "text": [
            "\n",
            "1 0 1 0 1 \n",
            "1 0 1 0 1 \n",
            "1 0 1 0 1 \n",
            "1 0 1 0 1 \n",
            "1 0 1 0 1 "
          ]
        }
      ]
    },
    {
      "cell_type": "markdown",
      "metadata": {
        "id": "tPePE1GRF0Xu"
      },
      "source": [
        "5 -  Write a Python program to construct the following pattern, using a nested for loop.\n",
        "\n",
        "1 2 2 2 2\n",
        "\n",
        "2 1 2 2 2\n",
        "\n",
        "2 2 1 2 2\n",
        "\n",
        "2 2 2 1 2\n",
        "\n",
        "2 2 2 2 1\n"
      ]
    },
    {
      "cell_type": "code",
      "metadata": {
        "id": "LygOywYHGbV0"
      },
      "source": [
        "#write your code here."
      ],
      "execution_count": null,
      "outputs": []
    },
    {
      "cell_type": "code",
      "metadata": {
        "id": "l8xYcNCvGbcT",
        "colab": {
          "base_uri": "https://localhost:8080/"
        },
        "outputId": "88a517c2-db0c-4301-97d7-94e418f47a9f"
      },
      "source": [
        "for i in range(1,6):\n",
        "  print(\"\")\n",
        "  a = 0\n",
        "  for j in range(1,6):\n",
        "    a += 1\n",
        "    if i==a:\n",
        "      print(\"1\" , end= \" \")\n",
        "    else:\n",
        "      print(\"2\" , end= \" \")"
      ],
      "execution_count": 6,
      "outputs": [
        {
          "output_type": "stream",
          "name": "stdout",
          "text": [
            "\n",
            "1 2 2 2 2 \n",
            "2 1 2 2 2 \n",
            "2 2 1 2 2 \n",
            "2 2 2 1 2 \n",
            "2 2 2 2 1 "
          ]
        }
      ]
    },
    {
      "cell_type": "markdown",
      "metadata": {
        "id": "EldUtlMyGiz2"
      },
      "source": [
        "6 -  Write a Python program to construct the following pattern, using a nested for loop.\n",
        "\n",
        "\n",
        "5 4 3 2 1\n",
        "\n",
        "5 4 3 2 1\n",
        "\n",
        "5 4 3 2 1\n",
        "\n",
        "5 4 3 2 1\n",
        "\n",
        "5 4 3 2 1\n",
        "      \n"
      ]
    },
    {
      "cell_type": "code",
      "metadata": {
        "id": "lCVR6TMRHEPP"
      },
      "source": [
        "#write your code here."
      ],
      "execution_count": null,
      "outputs": []
    },
    {
      "cell_type": "code",
      "metadata": {
        "id": "Gn4JKMZFHEV4",
        "colab": {
          "base_uri": "https://localhost:8080/"
        },
        "outputId": "b2e379a6-b23a-4b0e-fc3c-138c88638c03"
      },
      "source": [
        "for i in range(1,6):\n",
        "  print(\"\")\n",
        "  for j in range(5 ,0 , -1):\n",
        "     print(j , end= \" \")"
      ],
      "execution_count": 5,
      "outputs": [
        {
          "output_type": "stream",
          "name": "stdout",
          "text": [
            "\n",
            "5 4 3 2 1 \n",
            "5 4 3 2 1 \n",
            "5 4 3 2 1 \n",
            "5 4 3 2 1 \n",
            "5 4 3 2 1 "
          ]
        }
      ]
    },
    {
      "cell_type": "markdown",
      "metadata": {
        "id": "VUE3GJCyHExU"
      },
      "source": [
        "7 - Write a program print the following pattern using for loop\n",
        "\n",
        "5 4 3 2 1\n",
        "\n",
        "4 3 2 1\n",
        "\n",
        "3 2 1\n",
        "\n",
        "2 1\n",
        "\n",
        "1"
      ]
    },
    {
      "cell_type": "code",
      "metadata": {
        "id": "N5bHE5WUHNAp"
      },
      "source": [
        "#write your code here."
      ],
      "execution_count": null,
      "outputs": []
    },
    {
      "cell_type": "code",
      "metadata": {
        "id": "ZONsL4th5XOH",
        "colab": {
          "base_uri": "https://localhost:8080/"
        },
        "outputId": "57f2f1e8-a48b-40a3-e377-723c597ccfa4"
      },
      "source": [
        "for i in range(1,6):\n",
        "  print(\"\")\n",
        "  for j in range(6-i ,0 , -1):\n",
        "     print(j , end= \" \")"
      ],
      "execution_count": 4,
      "outputs": [
        {
          "output_type": "stream",
          "name": "stdout",
          "text": [
            "\n",
            "5 4 3 2 1 \n",
            "4 3 2 1 \n",
            "3 2 1 \n",
            "2 1 \n",
            "1 "
          ]
        }
      ]
    },
    {
      "cell_type": "markdown",
      "metadata": {
        "id": "npvJK7rFHONC"
      },
      "source": [
        "8 - Write a program to reverse the below string using for loop.\n",
        "\n",
        "st = \"I am Rajit\"\n"
      ]
    },
    {
      "cell_type": "code",
      "metadata": {
        "id": "4_mm3-bnHXXb"
      },
      "source": [
        "#write your code here."
      ],
      "execution_count": null,
      "outputs": []
    },
    {
      "cell_type": "code",
      "metadata": {
        "id": "S1oS7w3G5YDR",
        "colab": {
          "base_uri": "https://localhost:8080/"
        },
        "outputId": "fa4b35dc-37b3-4059-f70e-8263709c4b3d"
      },
      "source": [
        "st = \" I am Rajit\"\n",
        "\n",
        "n = len(st) - 1\n",
        "\n",
        "while n>=0:\n",
        "  st1 = st[n]\n",
        "  n -= 1\n",
        "  print(st1 , end= \" \")\n"
      ],
      "execution_count": 3,
      "outputs": [
        {
          "output_type": "stream",
          "name": "stdout",
          "text": [
            "t i j a R   m a   I   "
          ]
        }
      ]
    },
    {
      "cell_type": "markdown",
      "metadata": {
        "id": "N2ud_wfCHYbf"
      },
      "source": [
        "9 - Write a program print the following pattern using for loop\n",
        "\n",
        "1 1 1 1 1\n",
        "\n",
        "0 0 0 0 0\n",
        "\n",
        "1 1 1 1 1\n",
        "\n",
        "0 0 0 0 0\n",
        "\n",
        "1 1 1 1 1\n"
      ]
    },
    {
      "cell_type": "code",
      "metadata": {
        "id": "M2nnMQdJ5dyU"
      },
      "source": [
        "#write your code here."
      ],
      "execution_count": null,
      "outputs": []
    },
    {
      "cell_type": "code",
      "metadata": {
        "id": "4BSYikYl5ZHG",
        "colab": {
          "base_uri": "https://localhost:8080/"
        },
        "outputId": "8f881976-b042-499a-d491-85f706c987ab"
      },
      "source": [
        "for i in range(1, 6):\n",
        "  print(\"\")\n",
        "  for j in range(1,6):\n",
        "    if i%2==0:\n",
        "      print('0' , end=\" \")\n",
        "    else:\n",
        "      print('1' , end=\" \")"
      ],
      "execution_count": 2,
      "outputs": [
        {
          "output_type": "stream",
          "name": "stdout",
          "text": [
            "\n",
            "1 1 1 1 1 \n",
            "0 0 0 0 0 \n",
            "1 1 1 1 1 \n",
            "0 0 0 0 0 \n",
            "1 1 1 1 1 "
          ]
        }
      ]
    },
    {
      "cell_type": "markdown",
      "metadata": {
        "id": "0BCiQbax5eZF"
      },
      "source": [
        "10 - Write a program to count similar letter to giving string.\n",
        "\n",
        "S = \" i am python programmer\"."
      ]
    },
    {
      "cell_type": "code",
      "metadata": {
        "id": "gGdCxpd55-xr"
      },
      "source": [
        "#write your code here."
      ],
      "execution_count": null,
      "outputs": []
    },
    {
      "cell_type": "code",
      "metadata": {
        "id": "sjKhEmkB5aC7",
        "colab": {
          "base_uri": "https://localhost:8080/"
        },
        "outputId": "6a184e53-4d9c-4e34-e7be-bd52b99016ef"
      },
      "source": [
        "chars = \"abcdefghijklmnopqrstuvwxyz\"\n",
        "check_string = \"i am python programmer\"\n",
        "\n",
        "for char in chars:\n",
        "  count = check_string.count(char)\n",
        "  if count > 1:\n",
        "    print(char, count)"
      ],
      "execution_count": 1,
      "outputs": [
        {
          "output_type": "stream",
          "name": "stdout",
          "text": [
            "a 2\n",
            "m 3\n",
            "o 2\n",
            "p 2\n",
            "r 3\n"
          ]
        }
      ]
    }
  ]
}