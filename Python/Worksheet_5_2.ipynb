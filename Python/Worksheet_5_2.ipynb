{
  "cells": [
    {
      "cell_type": "markdown",
      "metadata": {
        "id": "m6EKSDgsKdeQ"
      },
      "source": [
        "##List Manipulation - Worksheet(5.2)"
      ]
    },
    {
      "cell_type": "markdown",
      "metadata": {
        "id": "u8IkeR1AKgUx"
      },
      "source": [
        "1 - Write a Python program to print a marged list after removing the 1st and 3th elements from first list LT.  \n",
        "\n",
        "LT =  ['Red', 'Green', 'White', 'Black', 'Pink', 'Yellow']\n",
        "\n",
        "lt = ['Pink', 'Yellow']\n",
        "\n"
      ]
    },
    {
      "cell_type": "code",
      "execution_count": null,
      "metadata": {
        "id": "QZciFbtohpvS"
      },
      "outputs": [],
      "source": [
        "#write your code here."
      ]
    },
    {
      "cell_type": "code",
      "execution_count": 2,
      "metadata": {
        "id": "KUHQ_3p0LY4m",
        "colab": {
          "base_uri": "https://localhost:8080/"
        },
        "outputId": "297875c4-8e11-4bde-df3a-1a48ee369458"
      },
      "outputs": [
        {
          "output_type": "stream",
          "name": "stdout",
          "text": [
            "['Red', 'White', 'Black', 'Yellow', 'Pink', 'Yellow']\n"
          ]
        }
      ],
      "source": [
        "LT = ['Red' , 'Green' , 'White' , 'Black' , \"Pink\" , \"Yellow\"]\n",
        "lt = [\"Pink\" , \"Yellow\"]\n",
        "\n",
        "LT.pop(1)\n",
        "LT.pop(3)\n",
        "\n",
        "print(LT+lt)"
      ]
    },
    {
      "cell_type": "markdown",
      "metadata": {
        "id": "q6I5ndI2Lam_"
      },
      "source": [
        "2 - . Write a Python program to print the numbers of a specified list after removing even numbers from it.\n",
        "\n",
        "lt = [1,2,3,4,5,6,7,8,9,10,12,12,13,15]\n"
      ]
    },
    {
      "cell_type": "code",
      "execution_count": null,
      "metadata": {
        "id": "6NWOWM7fLqgT"
      },
      "outputs": [],
      "source": [
        "#write your code here."
      ]
    },
    {
      "cell_type": "code",
      "execution_count": 3,
      "metadata": {
        "id": "Ld0-Plp8hrsZ",
        "colab": {
          "base_uri": "https://localhost:8080/"
        },
        "outputId": "4e102783-0ea7-4f91-b979-e86189869d77"
      },
      "outputs": [
        {
          "output_type": "execute_result",
          "data": {
            "text/plain": [
              "[1, 3, 5, 7, 9, 13, 15]"
            ]
          },
          "metadata": {},
          "execution_count": 3
        }
      ],
      "source": [
        "lt=[1,2,3,4,5,6,7,8,9,10,12,12,13,15]\n",
        "\n",
        "lt1=[]\n",
        "\n",
        "n = len(lt)\n",
        "\n",
        "for x in range(0, n):\n",
        "  if lt[x]%2==0:\n",
        "    pass\n",
        "  else:\n",
        "    lt1.append(lt[x])\n",
        "\n",
        "lt1"
      ]
    },
    {
      "cell_type": "markdown",
      "metadata": {
        "id": "TtZRc2J2LrNd"
      },
      "source": [
        "3 - Write a Python program to generate all permutations of a list ."
      ]
    },
    {
      "cell_type": "code",
      "execution_count": null,
      "metadata": {
        "id": "UNGxudqBMD4w"
      },
      "outputs": [],
      "source": [
        "#write your code here."
      ]
    },
    {
      "cell_type": "code",
      "execution_count": 4,
      "metadata": {
        "id": "UuBCH_0Bhs-3",
        "colab": {
          "base_uri": "https://localhost:8080/"
        },
        "outputId": "6df9014c-241f-4f64-96cb-2856bfb0b581"
      },
      "outputs": [
        {
          "output_type": "stream",
          "name": "stdout",
          "text": [
            "[(1, 2, 3), (1, 3, 2), (2, 1, 3), (2, 3, 1), (3, 1, 2), (3, 2, 1)]\n"
          ]
        }
      ],
      "source": [
        "import itertools\n",
        "print(list(itertools.permutations([1,2,3])))"
      ]
    },
    {
      "cell_type": "markdown",
      "metadata": {
        "id": "aGIbtGtYMEaE"
      },
      "source": [
        "4 - Write a Python program to get the difference between the two lists.\n",
        "\n",
        "lt = [1,2,3,4,5,7,9]\n",
        "\n",
        "lt1 = [2,3,4,5,6,7]\n"
      ]
    },
    {
      "cell_type": "code",
      "execution_count": null,
      "metadata": {
        "id": "L2WosjelNY6M"
      },
      "outputs": [],
      "source": [
        "#write your code here."
      ]
    },
    {
      "cell_type": "code",
      "execution_count": 5,
      "metadata": {
        "colab": {
          "base_uri": "https://localhost:8080/"
        },
        "id": "p-6lHup8NY_t",
        "outputId": "49002eeb-7c08-4884-fbab-cd5325c85f1d"
      },
      "outputs": [
        {
          "output_type": "stream",
          "name": "stdout",
          "text": [
            "[1, 9]\n"
          ]
        }
      ],
      "source": [
        "lt=[1,2,3,4,5,7,9]\n",
        "lt1= [2,3,4,5,6,7]\n",
        "\n",
        "\n",
        "list_difference = []\n",
        "for item in lt:\n",
        "  if item not in lt1:\n",
        "    list_difference.append(item)\n",
        "\n",
        "print(list_difference)\n"
      ]
    },
    {
      "cell_type": "markdown",
      "metadata": {
        "id": "2ekVQ4HTNZxj"
      },
      "source": [
        "5 - Write a Python program to find the index of an item in a specified list.\n",
        "\n",
        "item = 'R'\n",
        "\n",
        "lt = ['A' , 'R' , 'S' , 'z']\n"
      ]
    },
    {
      "cell_type": "code",
      "execution_count": null,
      "metadata": {
        "id": "r09QhS9rNv1q"
      },
      "outputs": [],
      "source": [
        "#write your code here."
      ]
    },
    {
      "cell_type": "code",
      "execution_count": 6,
      "metadata": {
        "id": "i34qj0IfhwIX",
        "colab": {
          "base_uri": "https://localhost:8080/"
        },
        "outputId": "06172c35-e9cc-46e7-86aa-0a548dda684d"
      },
      "outputs": [
        {
          "output_type": "stream",
          "name": "stdout",
          "text": [
            "1\n"
          ]
        }
      ],
      "source": [
        "lt = ['A' , 'R' , 'S' , 'Z']\n",
        "\n",
        "n=len(lt)\n",
        "\n",
        "for x in range(0 , n):\n",
        "  if 'R' in lt[x]:\n",
        "    print(x)\n",
        "    break\n",
        "  else:\n",
        "    pass\n"
      ]
    },
    {
      "cell_type": "markdown",
      "metadata": {
        "id": "JyNEfTXnNzNf"
      },
      "source": [
        "6 - Write a Python program to append a second list into the first list.\n",
        "\n",
        "lt = [1,2,3,4,5,6]\n",
        "\n",
        "lt1 = [7,8,9,10,11]\n"
      ]
    },
    {
      "cell_type": "code",
      "execution_count": null,
      "metadata": {
        "id": "ZDSxj7ctOM7B"
      },
      "outputs": [],
      "source": [
        "#write your code here."
      ]
    },
    {
      "cell_type": "code",
      "execution_count": 8,
      "metadata": {
        "id": "Woq29vNThxWX",
        "colab": {
          "base_uri": "https://localhost:8080/"
        },
        "outputId": "08970da6-f463-4f47-af85-b767803f8efe"
      },
      "outputs": [
        {
          "output_type": "execute_result",
          "data": {
            "text/plain": [
              "[7, 8, 9, 10, 10, 1, 2, 3, 4, 5, 6]"
            ]
          },
          "metadata": {},
          "execution_count": 8
        }
      ],
      "source": [
        "lt = [1,2,3,4,5,6]\n",
        "\n",
        "lt1= [7,8,9,10,10]\n",
        "\n",
        "n=len(lt)\n",
        "\n",
        "for  x in range(0 , n):\n",
        "  lt1.append(lt[x])\n",
        "\n",
        "lt1"
      ]
    },
    {
      "cell_type": "markdown",
      "metadata": {
        "id": "MqRTXKDhOOAY"
      },
      "source": [
        "7 - Write a Python program to create a list by concatenating a given list which range goes from 1 to n.\n",
        "\n",
        "lt = ['p', 'q']\n",
        "\n",
        "n = 5\n",
        "\n",
        "\n",
        " Output : ['p1', 'q1', 'p2', 'q2', 'p3', 'q3', 'p4', 'q4', 'p5', 'q5']"
      ]
    },
    {
      "cell_type": "code",
      "execution_count": null,
      "metadata": {
        "id": "ESZ2eE9lOrZi"
      },
      "outputs": [],
      "source": [
        "#write your code here."
      ]
    },
    {
      "cell_type": "code",
      "execution_count": 7,
      "metadata": {
        "id": "b2XA1REwhyUm",
        "colab": {
          "base_uri": "https://localhost:8080/"
        },
        "outputId": "355b4643-abc6-4c8c-b77f-7451b2eee4fb"
      },
      "outputs": [
        {
          "output_type": "stream",
          "name": "stdout",
          "text": [
            "['p1', 'q1', 'p2', 'q2', 'p3', 'q3', 'p4', 'q4', 'p5', 'q5']\n"
          ]
        }
      ],
      "source": [
        "my_list = ['p', 'q']\n",
        "n = 5\n",
        "new_list = ['{}{}'.format(x, y) for y in range(1, n+1) for x in my_list]\n",
        "print(new_list)"
      ]
    },
    {
      "cell_type": "markdown",
      "metadata": {
        "id": "AM-M6P21OsHq"
      },
      "source": [
        "8 - Write a Python program to convert a list of multiple integers into a single integer.\n",
        "\n",
        "lt =  [12, 34, 56]\n",
        "\n",
        "Output: 123456"
      ]
    },
    {
      "cell_type": "code",
      "execution_count": null,
      "metadata": {
        "id": "_sepW7zbPJ-O"
      },
      "outputs": [],
      "source": [
        "#write your code here."
      ]
    },
    {
      "cell_type": "code",
      "execution_count": null,
      "metadata": {
        "colab": {
          "base_uri": "https://localhost:8080/"
        },
        "id": "0yLaS8V6hzZC",
        "outputId": "59067ac7-8112-4983-81a5-54ae2a859905"
      },
      "outputs": [
        {
          "name": "stdout",
          "output_type": "stream",
          "text": [
            "123456"
          ]
        }
      ],
      "source": [
        "lt=[12,34,56]\n",
        "\n",
        "for i in lt:\n",
        "    print(i, end=\"\")"
      ]
    },
    {
      "cell_type": "markdown",
      "metadata": {
        "id": "0PrY5j8DPKwB"
      },
      "source": [
        "9 - Write a Python program to convert a string into a list."
      ]
    },
    {
      "cell_type": "code",
      "execution_count": null,
      "metadata": {
        "id": "xiaiFFN8Phce"
      },
      "outputs": [],
      "source": [
        "#write your code here."
      ]
    },
    {
      "cell_type": "code",
      "execution_count": 9,
      "metadata": {
        "id": "seniviiuh04g",
        "colab": {
          "base_uri": "https://localhost:8080/"
        },
        "outputId": "44449fc0-1c86-4608-80b5-01686d9d12a9"
      },
      "outputs": [
        {
          "output_type": "stream",
          "name": "stdout",
          "text": [
            "['J', 'o', 'b', 'a', 'a', 'j']\n"
          ]
        }
      ],
      "source": [
        "s= 'Jobaaj'\n",
        "\n",
        "print(list(s))"
      ]
    },
    {
      "cell_type": "markdown",
      "metadata": {
        "id": "AGFZEEMGPiUc"
      },
      "source": [
        "10 -  Write a Python program to replace the last element in a list with another list.\n",
        "\n",
        "lt = [1, 3, 5, 7, 9, 10]\n",
        "\n",
        "lt1 =  [2, 4, 6, 8]\n",
        "\n",
        "Output: [1, 3, 5, 7, 9, 2, 4, 6, 8]"
      ]
    },
    {
      "cell_type": "code",
      "execution_count": null,
      "metadata": {
        "id": "ZRkGBLV8RJjt"
      },
      "outputs": [],
      "source": [
        "#write your code here."
      ]
    },
    {
      "cell_type": "code",
      "execution_count": 10,
      "metadata": {
        "id": "zrJRiDW1irVJ",
        "colab": {
          "base_uri": "https://localhost:8080/"
        },
        "outputId": "521e89c0-80a8-4cc3-b9de-84a547e63102"
      },
      "outputs": [
        {
          "output_type": "stream",
          "name": "stdout",
          "text": [
            "[1, 3, 5, 7, 9, 2, 4, 6, 8]\n"
          ]
        }
      ],
      "source": [
        "lt = [1, 3, 5, 7, 9, 10]\n",
        "\n",
        "lt1 =  [2, 4, 6, 8]\n",
        "\n",
        "lt.pop()\n",
        "\n",
        "print(lt+lt1)"
      ]
    }
  ],
  "metadata": {
    "colab": {
      "provenance": []
    },
    "kernelspec": {
      "display_name": "Python 3",
      "name": "python3"
    }
  },
  "nbformat": 4,
  "nbformat_minor": 0
}