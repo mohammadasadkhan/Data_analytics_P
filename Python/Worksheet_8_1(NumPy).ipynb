{
  "nbformat": 4,
  "nbformat_minor": 0,
  "metadata": {
    "colab": {
      "provenance": []
    },
    "kernelspec": {
      "name": "python3",
      "display_name": "Python 3"
    },
    "language_info": {
      "name": "python"
    }
  },
  "cells": [
    {
      "cell_type": "markdown",
      "source": [
        "**Numpy**"
      ],
      "metadata": {
        "id": "zIFfSa3czspO"
      }
    },
    {
      "cell_type": "code",
      "execution_count": 4,
      "metadata": {
        "id": "Loy7-JVCCFNb"
      },
      "outputs": [],
      "source": [
        "height=[1.43,1.45,1.76,1.34,1.7]\n",
        "weight=[65.4,47.34,49.00,52.23,62.23]"
      ]
    },
    {
      "cell_type": "code",
      "source": [
        "#calculate BMI using list\n",
        "bgi = weight/height**2"
      ],
      "metadata": {
        "colab": {
          "base_uri": "https://localhost:8080/",
          "height": 192
        },
        "id": "c3HFmCbsGwix",
        "outputId": "a02b76ca-a36a-459e-9fd4-468610efa979"
      },
      "execution_count": null,
      "outputs": [
        {
          "output_type": "error",
          "ename": "NameError",
          "evalue": "ignored",
          "traceback": [
            "\u001b[0;31m---------------------------------------------------------------------------\u001b[0m",
            "\u001b[0;31mNameError\u001b[0m                                 Traceback (most recent call last)",
            "\u001b[0;32m<ipython-input-1-bd9dd4054c2b>\u001b[0m in \u001b[0;36m<cell line: 2>\u001b[0;34m()\u001b[0m\n\u001b[1;32m      1\u001b[0m \u001b[0;31m#calculate BMI\u001b[0m\u001b[0;34m\u001b[0m\u001b[0;34m\u001b[0m\u001b[0m\n\u001b[0;32m----> 2\u001b[0;31m \u001b[0mbgi\u001b[0m \u001b[0;34m=\u001b[0m \u001b[0mweight\u001b[0m\u001b[0;34m/\u001b[0m\u001b[0mheight\u001b[0m\u001b[0;34m**\u001b[0m\u001b[0;36m2\u001b[0m\u001b[0;34m\u001b[0m\u001b[0;34m\u001b[0m\u001b[0m\n\u001b[0m",
            "\u001b[0;31mNameError\u001b[0m: name 'weight' is not defined"
          ]
        }
      ]
    },
    {
      "cell_type": "code",
      "source": [
        "#import numpy\n",
        "import numpy as np"
      ],
      "metadata": {
        "id": "5HpTmzGyHH9t"
      },
      "execution_count": 1,
      "outputs": []
    },
    {
      "cell_type": "code",
      "source": [
        "# Convert list into numpay\n",
        "np_height=np.array(height)\n",
        "np_weight=np.array(weight)"
      ],
      "metadata": {
        "id": "zTAUcgY7HOkV"
      },
      "execution_count": 7,
      "outputs": []
    },
    {
      "cell_type": "code",
      "source": [
        "type(np_height)"
      ],
      "metadata": {
        "colab": {
          "base_uri": "https://localhost:8080/"
        },
        "id": "0Cs95DvRHbHU",
        "outputId": "3ef1c0b2-f391-4557-9273-feabf3da7bca"
      },
      "execution_count": null,
      "outputs": [
        {
          "output_type": "execute_result",
          "data": {
            "text/plain": [
              "numpy.ndarray"
            ]
          },
          "metadata": {},
          "execution_count": 11
        }
      ]
    },
    {
      "cell_type": "code",
      "source": [
        "type(height)"
      ],
      "metadata": {
        "colab": {
          "base_uri": "https://localhost:8080/"
        },
        "id": "_yWcTMb4HeLE",
        "outputId": "91998952-cc10-4a2a-ab29-456b27f5463f"
      },
      "execution_count": null,
      "outputs": [
        {
          "output_type": "execute_result",
          "data": {
            "text/plain": [
              "list"
            ]
          },
          "metadata": {},
          "execution_count": 8
        }
      ]
    },
    {
      "cell_type": "code",
      "source": [
        "# calculate BMI using numpy\n",
        "np_BMI = np_weight/np_height**2\n",
        "np_BMI"
      ],
      "metadata": {
        "colab": {
          "base_uri": "https://localhost:8080/"
        },
        "id": "DBVaEFYHHhzl",
        "outputId": "920ad49f-1bd8-4ead-b5e1-c62e9190eb4b"
      },
      "execution_count": 9,
      "outputs": [
        {
          "output_type": "execute_result",
          "data": {
            "text/plain": [
              "array([31.98200401, 22.51605232, 15.81869835, 29.0877701 , 21.53287197])"
            ]
          },
          "metadata": {},
          "execution_count": 9
        }
      ]
    },
    {
      "cell_type": "markdown",
      "source": [
        "### **Why it worked in Numpy?**\n",
        "NumPy provides an N-dimension array type, the ndarry, which describes a collection of \"items\" of the same type."
      ],
      "metadata": {
        "id": "UGCaGxDn0wX8"
      }
    },
    {
      "cell_type": "code",
      "source": [
        "x = np.array([1.0,\"is\",True])"
      ],
      "metadata": {
        "id": "heVlgR_Npy0S"
      },
      "execution_count": 2,
      "outputs": []
    },
    {
      "cell_type": "code",
      "source": [
        "type(x)"
      ],
      "metadata": {
        "colab": {
          "base_uri": "https://localhost:8080/"
        },
        "id": "who_dGbKp_SP",
        "outputId": "73ab7a30-d98f-48f4-e5b5-cbd9ef96f83d"
      },
      "execution_count": 3,
      "outputs": [
        {
          "output_type": "execute_result",
          "data": {
            "text/plain": [
              "numpy.ndarray"
            ]
          },
          "metadata": {},
          "execution_count": 3
        }
      ]
    },
    {
      "cell_type": "code",
      "source": [
        "# Addition in lists & NumPy"
      ],
      "metadata": {
        "id": "iLUq4yGPqN_r"
      },
      "execution_count": null,
      "outputs": []
    },
    {
      "cell_type": "code",
      "source": [
        "# Add list\n",
        "x = height+weight\n",
        "x"
      ],
      "metadata": {
        "colab": {
          "base_uri": "https://localhost:8080/"
        },
        "id": "DXWw5LpfqXKY",
        "outputId": "9e5399ee-1d01-42ea-819e-14649bfaa234"
      },
      "execution_count": 6,
      "outputs": [
        {
          "output_type": "execute_result",
          "data": {
            "text/plain": [
              "[1.43, 1.45, 1.76, 1.34, 1.7, 65.4, 47.34, 49.0, 52.23, 62.23]"
            ]
          },
          "metadata": {},
          "execution_count": 6
        }
      ]
    },
    {
      "cell_type": "code",
      "source": [
        "# Using NumPy\n",
        "y = np_height+np_weight\n",
        "y"
      ],
      "metadata": {
        "colab": {
          "base_uri": "https://localhost:8080/"
        },
        "id": "GWSY4rzaq1Zl",
        "outputId": "7973ff21-9d6f-4f74-b93e-a8f743541e51"
      },
      "execution_count": 8,
      "outputs": [
        {
          "output_type": "execute_result",
          "data": {
            "text/plain": [
              "array([66.83, 48.79, 50.76, 53.57, 63.93])"
            ]
          },
          "metadata": {},
          "execution_count": 8
        }
      ]
    },
    {
      "cell_type": "code",
      "source": [
        "# NumPy Subsetting\n",
        "np_BMI"
      ],
      "metadata": {
        "colab": {
          "base_uri": "https://localhost:8080/"
        },
        "id": "boUuxS0ECWgN",
        "outputId": "c959c2bd-ca17-404f-a829-ce152de70040"
      },
      "execution_count": 10,
      "outputs": [
        {
          "output_type": "execute_result",
          "data": {
            "text/plain": [
              "array([31.98200401, 22.51605232, 15.81869835, 29.0877701 , 21.53287197])"
            ]
          },
          "metadata": {},
          "execution_count": 10
        }
      ]
    },
    {
      "cell_type": "code",
      "source": [
        "# Index\n",
        "np_BMI[1]"
      ],
      "metadata": {
        "colab": {
          "base_uri": "https://localhost:8080/"
        },
        "id": "Hewe_dtXC4_2",
        "outputId": "fe2f560d-b237-44d3-a8eb-e7104ab04aac"
      },
      "execution_count": 11,
      "outputs": [
        {
          "output_type": "execute_result",
          "data": {
            "text/plain": [
              "22.516052318668255"
            ]
          },
          "metadata": {},
          "execution_count": 11
        }
      ]
    },
    {
      "cell_type": "code",
      "source": [
        "# Boolen\n",
        "np_BMI>22"
      ],
      "metadata": {
        "colab": {
          "base_uri": "https://localhost:8080/"
        },
        "id": "qqXD8U6eC4xT",
        "outputId": "b9ff1a44-1e10-4822-f7d0-8272d97b8d5c"
      },
      "execution_count": 12,
      "outputs": [
        {
          "output_type": "execute_result",
          "data": {
            "text/plain": [
              "array([ True,  True, False,  True, False])"
            ]
          },
          "metadata": {},
          "execution_count": 12
        }
      ]
    },
    {
      "cell_type": "code",
      "source": [
        "# Single Value\n",
        "np_BMI[np_BMI>22]"
      ],
      "metadata": {
        "colab": {
          "base_uri": "https://localhost:8080/"
        },
        "id": "r7ANAutYDEtE",
        "outputId": "1dd29d2f-5b78-4b80-a98e-74d3e9388c40"
      },
      "execution_count": 13,
      "outputs": [
        {
          "output_type": "execute_result",
          "data": {
            "text/plain": [
              "array([31.98200401, 22.51605232, 29.0877701 ])"
            ]
          },
          "metadata": {},
          "execution_count": 13
        }
      ]
    }
  ]
}