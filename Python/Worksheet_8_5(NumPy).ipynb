{
  "nbformat": 4,
  "nbformat_minor": 0,
  "metadata": {
    "colab": {
      "provenance": []
    },
    "kernelspec": {
      "name": "python3",
      "display_name": "Python 3"
    },
    "language_info": {
      "name": "python"
    }
  },
  "cells": [
    {
      "cell_type": "code",
      "execution_count": 1,
      "metadata": {
        "id": "ZgrsnQnHWdhe"
      },
      "outputs": [],
      "source": [
        "# Importing numpy package\n",
        "import numpy as np"
      ]
    },
    {
      "cell_type": "markdown",
      "source": [
        "### [**numpy.random.randint**](https://numpy.org/doc/stable/reference/random/generated/numpy.random.randint.html)"
      ],
      "metadata": {
        "id": "C36HUVG3Wp7k"
      }
    },
    {
      "cell_type": "code",
      "source": [
        "# Generate 10 random integers\n",
        "np.random.randint(51,101,50)"
      ],
      "metadata": {
        "colab": {
          "base_uri": "https://localhost:8080/"
        },
        "id": "peEH_hgmXDa9",
        "outputId": "286c2567-5275-4ab5-c8b0-b18c7133da73"
      },
      "execution_count": 2,
      "outputs": [
        {
          "output_type": "execute_result",
          "data": {
            "text/plain": [
              "array([ 81,  68,  76,  67,  78,  92,  84,  59,  55,  88,  95, 100,  89,\n",
              "        85,  72,  81,  83,  92,  87,  52,  97,  91,  60,  98,  80,  84,\n",
              "        61,  80,  86,  77,  98,  92,  60,  78,  76,  79,  81,  61,  99,\n",
              "        82,  66,  98,  58,  84,  86,  56,  68,  67,  58,  83])"
            ]
          },
          "metadata": {},
          "execution_count": 2
        }
      ]
    },
    {
      "cell_type": "code",
      "source": [
        "# Generate 10 integers between 1 to 50\n",
        "np.random.randint(1,50,10)"
      ],
      "metadata": {
        "colab": {
          "base_uri": "https://localhost:8080/"
        },
        "id": "mYS8UTCCXK6B",
        "outputId": "efc6e1f6-e86f-4497-b64f-4d07d31ca933"
      },
      "execution_count": 3,
      "outputs": [
        {
          "output_type": "execute_result",
          "data": {
            "text/plain": [
              "array([31, 13,  8, 32, 29, 19, 20, 39, 31, 31])"
            ]
          },
          "metadata": {},
          "execution_count": 3
        }
      ]
    },
    {
      "cell_type": "markdown",
      "source": [
        "### **random.seed**\n",
        "What of we want to fix the random generation of the number. Then we can fix the initial point of random number generation. So, basically we use numpy.random.seed to fix the initial point of the some algorithm."
      ],
      "metadata": {
        "id": "P26EVZKmXVWE"
      }
    },
    {
      "cell_type": "code",
      "source": [
        "# Creating same random number using random.seed\n",
        "np.random.seed(13)\n",
        "np.random.randint(1,50,3)"
      ],
      "metadata": {
        "colab": {
          "base_uri": "https://localhost:8080/"
        },
        "id": "1fcMhNcmXRjR",
        "outputId": "47b0ed72-0df7-49a3-ce89-8fd6163535b5"
      },
      "execution_count": 6,
      "outputs": [
        {
          "output_type": "execute_result",
          "data": {
            "text/plain": [
              "array([19, 49, 11])"
            ]
          },
          "metadata": {},
          "execution_count": 6
        }
      ]
    },
    {
      "cell_type": "code",
      "source": [
        "# Create an array of numpy integer from 1 to 50\n",
        "x1 = np.arange(1,51)\n",
        "x1"
      ],
      "metadata": {
        "colab": {
          "base_uri": "https://localhost:8080/"
        },
        "id": "QlFaduMPYF2b",
        "outputId": "7cb5ed38-fa9e-4d32-9e8a-9853defab794"
      },
      "execution_count": 7,
      "outputs": [
        {
          "output_type": "execute_result",
          "data": {
            "text/plain": [
              "array([ 1,  2,  3,  4,  5,  6,  7,  8,  9, 10, 11, 12, 13, 14, 15, 16, 17,\n",
              "       18, 19, 20, 21, 22, 23, 24, 25, 26, 27, 28, 29, 30, 31, 32, 33, 34,\n",
              "       35, 36, 37, 38, 39, 40, 41, 42, 43, 44, 45, 46, 47, 48, 49, 50])"
            ]
          },
          "metadata": {},
          "execution_count": 7
        }
      ]
    },
    {
      "cell_type": "code",
      "source": [
        "# Shuffling the array randomly using random.shuffle\n",
        "np.random.shuffle(x1)\n",
        "x1"
      ],
      "metadata": {
        "colab": {
          "base_uri": "https://localhost:8080/"
        },
        "id": "Vyb3Ml5DYNDE",
        "outputId": "6c39e901-9eeb-4f3b-8bde-38efc1081c6d"
      },
      "execution_count": 11,
      "outputs": [
        {
          "output_type": "execute_result",
          "data": {
            "text/plain": [
              "array([18, 16, 30, 36, 14, 26, 46, 40, 29,  5,  7, 13, 38,  4, 21, 32,  3,\n",
              "        2, 42, 24,  6, 50, 34, 23, 27, 11, 33, 28, 31, 22, 44, 25, 19,  1,\n",
              "       17, 45,  8, 15, 35, 20, 43, 10, 39, 12, 48, 47, 41,  9, 49, 37])"
            ]
          },
          "metadata": {},
          "execution_count": 11
        }
      ]
    },
    {
      "cell_type": "code",
      "source": [
        "# Sorting the array using sort function\n",
        "x1.sort()\n",
        "x1"
      ],
      "metadata": {
        "colab": {
          "base_uri": "https://localhost:8080/"
        },
        "id": "424rdlk7YVNj",
        "outputId": "83f17dc1-777f-4ad9-f917-7417e8f7c46b"
      },
      "execution_count": 13,
      "outputs": [
        {
          "output_type": "execute_result",
          "data": {
            "text/plain": [
              "array([ 1,  2,  3,  4,  5,  6,  7,  8,  9, 10, 11, 12, 13, 14, 15, 16, 17,\n",
              "       18, 19, 20, 21, 22, 23, 24, 25, 26, 27, 28, 29, 30, 31, 32, 33, 34,\n",
              "       35, 36, 37, 38, 39, 40, 41, 42, 43, 44, 45, 46, 47, 48, 49, 50])"
            ]
          },
          "metadata": {},
          "execution_count": 13
        }
      ]
    },
    {
      "cell_type": "code",
      "source": [
        "# Sortng in reverse order\n",
        "x1[::-1]"
      ],
      "metadata": {
        "colab": {
          "base_uri": "https://localhost:8080/"
        },
        "id": "g06oZwP7YZCZ",
        "outputId": "174aaf6e-5644-4ff3-fb97-e1536d130690"
      },
      "execution_count": 14,
      "outputs": [
        {
          "output_type": "execute_result",
          "data": {
            "text/plain": [
              "array([50, 49, 48, 47, 46, 45, 44, 43, 42, 41, 40, 39, 38, 37, 36, 35, 34,\n",
              "       33, 32, 31, 30, 29, 28, 27, 26, 25, 24, 23, 22, 21, 20, 19, 18, 17,\n",
              "       16, 15, 14, 13, 12, 11, 10,  9,  8,  7,  6,  5,  4,  3,  2,  1])"
            ]
          },
          "metadata": {},
          "execution_count": 14
        }
      ]
    },
    {
      "cell_type": "markdown",
      "source": [
        "**Using numpy.random.choice to generate random options from a given choice.**"
      ],
      "metadata": {
        "id": "hBlBalOaaHzH"
      }
    },
    {
      "cell_type": "code",
      "source": [
        "# Importing choise from numpy.random\n",
        "from numpy.random import choice"
      ],
      "metadata": {
        "id": "RzWtXdbJZh34"
      },
      "execution_count": 15,
      "outputs": []
    },
    {
      "cell_type": "code",
      "source": [
        "choice([\"ROCK\",\"PAPER\",\"SCISSOR\"],8)"
      ],
      "metadata": {
        "colab": {
          "base_uri": "https://localhost:8080/"
        },
        "id": "ny08hNTda5Oy",
        "outputId": "2f86de1d-8957-40a8-bc99-8c1bd17f74bd"
      },
      "execution_count": 16,
      "outputs": [
        {
          "output_type": "execute_result",
          "data": {
            "text/plain": [
              "array(['ROCK', 'SCISSOR', 'SCISSOR', 'ROCK', 'PAPER', 'ROCK', 'ROCK',\n",
              "       'PAPER'], dtype='<U7')"
            ]
          },
          "metadata": {},
          "execution_count": 16
        }
      ]
    },
    {
      "cell_type": "code",
      "source": [
        "# Using np.random.choice\n",
        "x2 = np.random.choice(x1, size=100)\n",
        "print(x2)"
      ],
      "metadata": {
        "colab": {
          "base_uri": "https://localhost:8080/"
        },
        "id": "h4Zj5LiiabdM",
        "outputId": "f5f77006-1808-499b-abc8-3a86a79ca6c6"
      },
      "execution_count": 19,
      "outputs": [
        {
          "output_type": "stream",
          "name": "stdout",
          "text": [
            "[10 47 19  9 38 15 13  3 49 45 45 15 27 49 19 49  6 25 31 10 29 41 26 47\n",
            " 27 41 31  6 24 15 40 19 36 21 21  6  5 15 44  2 50 39 16 13 23 25 25 43\n",
            " 20 17 39 10 32  3  5 44 46 25  7 16 17  9 42 15 33 36 32 47 22  4 28 33\n",
            " 38 21 45 24 16 47 35 42 21 29 40 43 12 32 16  2 35 25 34 28 34 31 50 32\n",
            " 13 37 43 19]\n"
          ]
        }
      ]
    },
    {
      "cell_type": "code",
      "source": [
        "len(np.unique(x2))"
      ],
      "metadata": {
        "colab": {
          "base_uri": "https://localhost:8080/"
        },
        "id": "ODkkWbARb0Pc",
        "outputId": "c28d3401-a7d0-49f4-ae98-b5f61cfc03c1"
      },
      "execution_count": 21,
      "outputs": [
        {
          "output_type": "execute_result",
          "data": {
            "text/plain": [
              "43"
            ]
          },
          "metadata": {},
          "execution_count": 21
        }
      ]
    },
    {
      "cell_type": "code",
      "source": [
        "# Removing duplicate elements using unique function\n",
        "np.unique(x2, return_index = True, return_counts = True)"
      ],
      "metadata": {
        "colab": {
          "base_uri": "https://localhost:8080/"
        },
        "id": "1ejEL_YmajVa",
        "outputId": "1c7d9b70-e65e-4a86-d508-f862857f6631"
      },
      "execution_count": 20,
      "outputs": [
        {
          "output_type": "execute_result",
          "data": {
            "text/plain": [
              "(array([ 2,  3,  4,  5,  6,  7,  9, 10, 12, 13, 15, 16, 17, 19, 20, 21, 22,\n",
              "        23, 24, 25, 26, 27, 28, 29, 31, 32, 33, 34, 35, 36, 37, 38, 39, 40,\n",
              "        41, 42, 43, 44, 45, 46, 47, 49, 50]),\n",
              " array([39,  7, 69, 36, 16, 58,  3,  0, 84,  6,  5, 42, 49,  2, 48, 33, 68,\n",
              "        44, 28, 17, 22, 12, 70, 20, 18, 52, 64, 90, 78, 32, 97,  4, 41, 30,\n",
              "        21, 62, 47, 38,  9, 56,  1,  8, 40]),\n",
              " array([2, 2, 1, 2, 3, 1, 2, 3, 1, 3, 5, 4, 2, 4, 1, 4, 1, 1, 2, 5, 1, 2,\n",
              "        2, 2, 3, 4, 2, 2, 2, 2, 1, 2, 2, 2, 2, 2, 3, 2, 3, 1, 4, 3, 2]))"
            ]
          },
          "metadata": {},
          "execution_count": 20
        }
      ]
    },
    {
      "cell_type": "markdown",
      "source": [
        "# **This array show the number in array: **\n",
        "(array([ 2,  3,  4,  5,  6,  7,  9, 10, 12, 13, 15, 16, 17, 19, 20, 21, 22,\n",
        "        23, 24, 25, 26, 27, 28, 29, 31, 32, 33, 34, 35, 36, 37, 38, 39, 40,\n",
        "        41, 42, 43, 44, 45, 46, 47, 49, 50]),\n",
        "\n",
        "# **THis array show the index: **\n",
        " array([39,  7, 69, 36, 16, 58,  3,  0, 84,  6,  5, 42, 49,  2, 48, 33, 68,\n",
        "        44, 28, 17, 22, 12, 70, 20, 18, 52, 64, 90, 78, 32, 97,  4, 41, 30,\n",
        "        21, 62, 47, 38,  9, 56,  1,  8, 40]),\n",
        "\n",
        "# **This array show the repetation: **\n",
        " array([2, 2, 1, 2, 3, 1, 2, 3, 1, 3, 5, 4, 2, 4, 1, 4, 1, 1, 2, 5, 1, 2,\n",
        "        2, 2, 3, 4, 2, 2, 2, 2, 1, 2, 2, 2, 2, 2, 3, 2, 3, 1, 4, 3, 2]))"
      ],
      "metadata": {
        "id": "xUQgq7G6b9dm"
      }
    }
  ]
}