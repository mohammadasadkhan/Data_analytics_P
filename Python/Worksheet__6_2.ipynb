{
  "nbformat": 4,
  "nbformat_minor": 0,
  "metadata": {
    "colab": {
      "provenance": []
    },
    "kernelspec": {
      "name": "python3",
      "display_name": "Python 3"
    }
  },
  "cells": [
    {
      "cell_type": "markdown",
      "metadata": {
        "id": "S7tNhK7oaP1W"
      },
      "source": [
        "##Dictionaries  in python Worksheet 6.2"
      ]
    },
    {
      "cell_type": "markdown",
      "metadata": {
        "id": "KB2E0fPtaR_7"
      },
      "source": [
        "Question -1 : Write a python program  to combine two dictionary adding values for common keys.\n",
        "\n",
        "\n",
        "d1 = {'a': 100, 'b': 200, 'c':300}\n",
        "\n",
        "d2 = {'a': 300, 'b': 200, 'd':400}\n",
        "\n",
        " output: {'a': 400, 'b': 400, 'd': 400, 'c': 300}\n"
      ]
    },
    {
      "cell_type": "code",
      "metadata": {
        "id": "fVlij3tAeKcx"
      },
      "source": [
        "#write your code here"
      ],
      "execution_count": null,
      "outputs": []
    },
    {
      "cell_type": "code",
      "metadata": {
        "id": "ePZJfV_YAzP0",
        "colab": {
          "base_uri": "https://localhost:8080/"
        },
        "outputId": "abbd1577-72b6-45c0-de4e-1c41a7b318a3"
      },
      "source": [
        "#first solution\n",
        "\n",
        "from collections import Counter\n",
        "d1 = {'a': 100, 'b': 200, 'c':300}\n",
        "d2 = {'a': 300, 'b': 200, 'd':400}\n",
        "d = Counter(d1) + Counter(d2)\n",
        "print(d)"
      ],
      "execution_count": 1,
      "outputs": [
        {
          "output_type": "stream",
          "name": "stdout",
          "text": [
            "Counter({'a': 400, 'b': 400, 'd': 400, 'c': 300})\n"
          ]
        }
      ]
    },
    {
      "cell_type": "markdown",
      "metadata": {
        "id": "rodX5aNtaZuw"
      },
      "source": [
        "Question - 2 : Write a python program to print all unique values in a dictionary.\n",
        "\n",
        "Data : [{\"V\":\"S001\"}, {\"V\": \"S002\"}, {\"VI\": \"S001\"}, {\"VI\": \"S005\"},\n",
        "\n",
        "{\"VII\":\"S005\"}, {\"V\":\"S009\"},{\"VIII\":\"S007\"}]\n",
        "\n",
        "Output : Unique Values: {'S005', 'S002', 'S007', 'S001', 'S009'}"
      ]
    },
    {
      "cell_type": "code",
      "metadata": {
        "id": "2gfE541TaaUu"
      },
      "source": [
        "#write your code here"
      ],
      "execution_count": null,
      "outputs": []
    },
    {
      "cell_type": "code",
      "metadata": {
        "id": "MT0sCeomeLso",
        "colab": {
          "base_uri": "https://localhost:8080/"
        },
        "outputId": "a3dcad09-2495-47d2-b345-31aee7e368d5"
      },
      "source": [
        "L = [{\"V\":\"S001\"}, {\"V\": \"S002\"}, {\"VI\": \"S001\"}, {\"VI\": \"S005\"}, {\"VII\":\"S005\"}, {\"V\":\"S009\"},{\"VIII\":\"S007\"}]\n",
        "\n",
        "#print(\"Original List: \",L)\n",
        "\n",
        "u_value = set( val for dic in L for val in dic.values())\n",
        "\n",
        "print(\"Unique Values: \",u_value)"
      ],
      "execution_count": 2,
      "outputs": [
        {
          "output_type": "stream",
          "name": "stdout",
          "text": [
            "Unique Values:  {'S007', 'S005', 'S001', 'S009', 'S002'}\n"
          ]
        }
      ]
    },
    {
      "cell_type": "markdown",
      "metadata": {
        "id": "mozA8TEkabOj"
      },
      "source": [
        "Question -3 : Write a python program  to create and display all combinations of letters, selecting each letter from a different key in a dictionary.\n",
        "\n",
        "\n",
        " dt = {'1':['a','b'],\n",
        "\n",
        "  '2':['c','d']\n",
        "  \n",
        "  }\n",
        "\n",
        "Output:\n",
        "\n",
        "ac\n",
        "\n",
        "ad\n",
        "\n",
        "bc\n",
        "\n",
        "bd"
      ]
    },
    {
      "cell_type": "code",
      "metadata": {
        "id": "bxU4cAvgadHR"
      },
      "source": [
        "#write your code here"
      ],
      "execution_count": null,
      "outputs": []
    },
    {
      "cell_type": "code",
      "metadata": {
        "id": "u4Mp76I1eNW6",
        "colab": {
          "base_uri": "https://localhost:8080/"
        },
        "outputId": "be862313-eda2-446b-d974-fcc07491a64f"
      },
      "source": [
        "d = {'1':['a','b'], '2':['c','d']}\n",
        "a,b = d.values()\n",
        "for i in a:\n",
        "  for j in b:\n",
        "    print(i+j)"
      ],
      "execution_count": 3,
      "outputs": [
        {
          "output_type": "stream",
          "name": "stdout",
          "text": [
            "ac\n",
            "ad\n",
            "bc\n",
            "bd\n"
          ]
        }
      ]
    },
    {
      "cell_type": "markdown",
      "metadata": {
        "id": "fBeOzNqmadgN"
      },
      "source": [
        "Question - 4 : Write a python program to  find the highest 3 values in a dictionary.\n",
        "\n",
        "\n",
        "\n",
        "my_dict = {'a':500, 'b':5874, 'c': 560,'d':400, 'e':5874, 'f': 20}  \n",
        "\n",
        "Output:\n",
        "\n",
        "['b', 'e', 'c']"
      ]
    },
    {
      "cell_type": "code",
      "metadata": {
        "id": "DbNrLJ2Zaf7S"
      },
      "source": [
        "#write your code here"
      ],
      "execution_count": null,
      "outputs": []
    },
    {
      "cell_type": "code",
      "metadata": {
        "id": "M-3D9pK7ePAr",
        "colab": {
          "base_uri": "https://localhost:8080/"
        },
        "outputId": "1390ed25-745c-4f2e-a596-c66dbdb221e2"
      },
      "source": [
        "my_dict = {'a':500, 'b':5874, 'c': 560,'d':400, 'e':5874, 'f': 20}\n",
        "m = []\n",
        "s = []\n",
        "for values in my_dict.values():\n",
        "  m.append(values)\n",
        "  m.sort(reverse = True)\n",
        "for k,v in my_dict.items():\n",
        "  if v in m[:3]:\n",
        "    s.append(k)\n",
        "print(s)"
      ],
      "execution_count": 4,
      "outputs": [
        {
          "output_type": "stream",
          "name": "stdout",
          "text": [
            "['b', 'c', 'e']\n"
          ]
        }
      ]
    },
    {
      "cell_type": "markdown",
      "metadata": {
        "id": "XSnvWbVxagiN"
      },
      "source": [
        "Question - 5 : Write a python program to create a dictionary from a string.\n",
        "\n",
        "Note: Track the count of the letters from the string.\n",
        "\n",
        "str1 = 'Jobaaj'\n",
        "\n",
        "Output :\n",
        "{'J': 1, 'o': 1, 'b': 1, 'a': 2, 'j': 1}"
      ]
    },
    {
      "cell_type": "code",
      "metadata": {
        "id": "2Z-CWhUxaiOS"
      },
      "source": [
        "#write your code here"
      ],
      "execution_count": null,
      "outputs": []
    },
    {
      "cell_type": "code",
      "metadata": {
        "id": "IC5qMjEXeP6P",
        "colab": {
          "base_uri": "https://localhost:8080/"
        },
        "outputId": "bf52c493-bd4b-4d61-ea7d-dd61db0cb071"
      },
      "source": [
        "my_str = 'Jobaaj'\n",
        "\n",
        "d = {}\n",
        "\n",
        "for x in my_str:\n",
        "  if x in d:\n",
        "    d[x] = d[x] + 1\n",
        "  else:\n",
        "    d[x] = 1\n",
        "\n",
        "print(d)"
      ],
      "execution_count": 5,
      "outputs": [
        {
          "output_type": "stream",
          "name": "stdout",
          "text": [
            "{'J': 1, 'o': 1, 'b': 1, 'a': 2, 'j': 1}\n"
          ]
        }
      ]
    },
    {
      "cell_type": "markdown",
      "metadata": {
        "id": "LuhnJog6aiqd"
      },
      "source": [
        "Question - 6 : Write a python program  to create a dictionary grouping a sequence of key-value pairs into a dictionary of lists.\n",
        "\n",
        "\n",
        " dt = [('yellow', 1), ('blue', 2), ('yellow', 3), ('blue', 4), ('red', 1)]\n",
        "\n",
        "Grouping a sequence of key-value pairs into a dictionary of lists:\n",
        "\n",
        "{'yellow': [1, 3], 'blue': [2, 4], 'red': [1]}"
      ]
    },
    {
      "cell_type": "code",
      "metadata": {
        "id": "YcA7dtQnakP8"
      },
      "source": [
        "#write your code here"
      ],
      "execution_count": null,
      "outputs": []
    },
    {
      "cell_type": "code",
      "metadata": {
        "id": "aIFDQssQeRBH",
        "colab": {
          "base_uri": "https://localhost:8080/"
        },
        "outputId": "b9e34679-5aa3-407d-a226-5bfa28b6e981"
      },
      "source": [
        "class_roll = [('yellow', 1), ('blue', 2), ('yellow', 3), ('blue', 4), ('red', 1)]\n",
        "newdict = {}\n",
        "for i in class_roll:\n",
        "  newdict.setdefault(i[0],[]).append(i[1])\n",
        "  newlist = []\n",
        "for k, v in newdict.items():\n",
        "  a=(k,v)\n",
        "  newlist.append(a)\n",
        "\n",
        "print(newlist)"
      ],
      "execution_count": 6,
      "outputs": [
        {
          "output_type": "stream",
          "name": "stdout",
          "text": [
            "[('yellow', [1, 3]), ('blue', [2, 4]), ('red', [1])]\n"
          ]
        }
      ]
    },
    {
      "cell_type": "markdown",
      "metadata": {
        "id": "ai1RjaR_aksX"
      },
      "source": [
        "Question - 7 : Write a python program to check all values are same in a dictionary.\n",
        "\n",
        "DT =\n",
        "{'Cierra Vega': 12, 'Alden Cantrell': 12, 'Kierra Gentry': 12, 'Pierre Cox': 12}\n",
        "\n",
        "Check all are 12 in the dictionary.\n",
        "\n",
        "True\n",
        "\n",
        "Check all are 10 in the dictionary.\n",
        "\n",
        "False"
      ]
    },
    {
      "cell_type": "code",
      "metadata": {
        "id": "K6oI7j8wamlL"
      },
      "source": [
        "#write your code here"
      ],
      "execution_count": null,
      "outputs": []
    },
    {
      "cell_type": "code",
      "metadata": {
        "id": "JITqoyqXBCZI",
        "colab": {
          "base_uri": "https://localhost:8080/"
        },
        "outputId": "34b31e32-6173-49e4-ad73-86ebd37e317e"
      },
      "source": [
        "marks = {'Cierra Vega': 12, 'Alden Cantrell': 12, 'Kierra Gentry': 12, 'Pierre Cox': 12}\n",
        "\n",
        "val = marks.values()\n",
        "\n",
        "lt = list(val)\n",
        "\n",
        "n = 12\n",
        "\n",
        "for x in range(0 , len(lt)):\n",
        "  if n == lt[x]:\n",
        "    res = \"True\"\n",
        "  else:\n",
        "    res = \"False\"\n",
        "\n",
        "print(f'all are {n} in the dictionary ',res)\n"
      ],
      "execution_count": 7,
      "outputs": [
        {
          "output_type": "stream",
          "name": "stdout",
          "text": [
            "all are 12 in the dictionary  True\n"
          ]
        }
      ]
    },
    {
      "cell_type": "markdown",
      "metadata": {
        "id": "TjQxiad6anF_"
      },
      "source": [
        "Question - 8 : Write a python program  to filter(search) the height and width of students, which are stored in a dictionary.\n",
        "\n",
        "DT =\n",
        "{'Cierra Vega': (6.2, 70), 'Alden Cantrell': (5.9, 65), 'Kierra Gentry': (6.0, 68), 'Pierre Cox': (5.8, 66)}\n",
        "\n",
        "\n",
        "input = Height > 6ft and Weight> 70kg:\n",
        "\n",
        "output = {'Cierra Vega': (6.2, 70)}"
      ]
    },
    {
      "cell_type": "code",
      "metadata": {
        "id": "mq0VnHheao0u"
      },
      "source": [
        "#write your code here"
      ],
      "execution_count": null,
      "outputs": []
    },
    {
      "cell_type": "code",
      "metadata": {
        "id": "d2XzzkxkeTes",
        "colab": {
          "base_uri": "https://localhost:8080/"
        },
        "outputId": "d3e115cf-36fa-42ca-cf60-e495d6d51aff"
      },
      "source": [
        "students ={'Cierra Vega': (6.2, 70), 'Alden Cantrell': (5.9, 65), 'Kierra Gentry': (6.0, 68), 'Pierre Cox': (5.8, 66)}\n",
        "result = {k: s for k, s in students.items() if s[0] >=6.0 and s[1] >=70}\n",
        "print(result )"
      ],
      "execution_count": 8,
      "outputs": [
        {
          "output_type": "stream",
          "name": "stdout",
          "text": [
            "{'Cierra Vega': (6.2, 70)}\n"
          ]
        }
      ]
    },
    {
      "cell_type": "markdown",
      "metadata": {
        "id": "ij9nDPBAapNt"
      },
      "source": [
        "Question - 9 : Write a python program to get maximum of each key Dictionary List.\n",
        "\n",
        "\n",
        "Examples:\n",
        "\n",
        "Input : test_list = [{“Gfg” : 8, “is” : 1, “Best” : 9}, {“Gfg” : 2, “is” : 9, “Best” : 1}, {“Gfg” : 5, “is” : 10, “Best” : 7}]\n",
        "\n",
        "Output : {‘Gfg’: 8, ‘is’: 10, ‘Best’: 9}\n",
        ""
      ]
    },
    {
      "cell_type": "code",
      "metadata": {
        "id": "skCrsf9Maqf9"
      },
      "source": [
        "#write your code here"
      ],
      "execution_count": null,
      "outputs": []
    },
    {
      "cell_type": "code",
      "metadata": {
        "id": "0rO3n0iXeVdf",
        "colab": {
          "base_uri": "https://localhost:8080/"
        },
        "outputId": "5f01319e-0543-411a-c9d3-91b61dc23eea"
      },
      "source": [
        "test_list = [{\"Gfg\": 8, \"is\": 1, \"Best\": 9},\n",
        "             {\"Gfg\": 2, \"is\": 9, \"Best\": 1},\n",
        "             {\"Gfg\": 5, \"is\": 10, \"Best\": 7}]\n",
        "\n",
        "\n",
        "#print(\"The original list is : \" + str(test_list))\n",
        "\n",
        "\n",
        "res = {}\n",
        "for dic in test_list:\n",
        "    for key, val in dic.items():\n",
        "        if key in res:\n",
        "            res[key] = max(res[key], val)\n",
        "        else:\n",
        "            res[key] = val\n",
        "\n",
        "print(\"All keys maximum : \" + str(res))"
      ],
      "execution_count": 9,
      "outputs": [
        {
          "output_type": "stream",
          "name": "stdout",
          "text": [
            "All keys maximum : {'Gfg': 8, 'is': 10, 'Best': 9}\n"
          ]
        }
      ]
    },
    {
      "cell_type": "markdown",
      "metadata": {
        "id": "-z0Ji38paq7G"
      },
      "source": [
        "Question - 10 : Write a  Python Program to display keys with same values in a dictionary List\n",
        "\n",
        "Examples:\n",
        "\n",
        "Input =  test_list = [{“Gfg”: 5, “is” : 8, “best” : 0}, {“Gfg”: 5, “is” : 1, “best” : 0}, {“Gfg”: 5, “is” : 0, “best” : 0}]\n",
        "\n",
        "Output = [‘Gfg’, ‘best’]\n",
        "\n",
        "\n",
        "Explanation = All Gfg = 5 and = 0 its values are similiar  in all dictionaries."
      ]
    },
    {
      "cell_type": "code",
      "metadata": {
        "id": "X5zQCm5DatDq"
      },
      "source": [
        "#write your code here"
      ],
      "execution_count": null,
      "outputs": []
    },
    {
      "cell_type": "code",
      "metadata": {
        "id": "qwYyVMn5atbi",
        "colab": {
          "base_uri": "https://localhost:8080/"
        },
        "outputId": "5aad1094-437c-456b-d6cf-66aa4b66523f"
      },
      "source": [
        "test_list = [{\"Gfg\": 5, \"is\": 8, \"best\": 0},\n",
        "             {\"Gfg\": 5, \"is\": 1, \"best\": 0},\n",
        "             {\"Gfg\": 5, \"is\": 0, \"best\": 0}]\n",
        "\n",
        "\n",
        "#print(\"The original list is : \" + str(test_list))\n",
        "\n",
        "keys = list(test_list[0].keys())\n",
        "\n",
        "res = []\n",
        "for key in keys:\n",
        "    flag = 1\n",
        "    for ele in test_list:\n",
        "        if test_list[0][key] != ele[key]:\n",
        "            flag = 0\n",
        "            break\n",
        "\n",
        "    if flag:\n",
        "        res.append(key)\n",
        "\n",
        "print(\"Similar values keys : \" + str(res))"
      ],
      "execution_count": 10,
      "outputs": [
        {
          "output_type": "stream",
          "name": "stdout",
          "text": [
            "Similar values keys : ['Gfg', 'best']\n"
          ]
        }
      ]
    }
  ]
}