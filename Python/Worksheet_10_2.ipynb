{
  "nbformat": 4,
  "nbformat_minor": 0,
  "metadata": {
    "colab": {
      "provenance": []
    },
    "kernelspec": {
      "name": "python3",
      "display_name": "Python 3"
    },
    "language_info": {
      "name": "python"
    }
  },
  "cells": [
    {
      "cell_type": "markdown",
      "source": [
        "# **Analyzing numerical Series**"
      ],
      "metadata": {
        "id": "WWKyX4_8fd7k"
      }
    },
    {
      "cell_type": "code",
      "execution_count": 2,
      "metadata": {
        "id": "-iKkmwXqXuA-"
      },
      "outputs": [],
      "source": [
        "# Importing the library\n",
        "import pandas as pd"
      ]
    },
    {
      "cell_type": "code",
      "source": [
        "# Read the data\n",
        "df = pd.read_csv(\"/content/drive/MyDrive/Project/Practice set/athlete_events.csv\", index_col=\"ID\")"
      ],
      "metadata": {
        "id": "eb3LWZF_foKI"
      },
      "execution_count": 3,
      "outputs": []
    },
    {
      "cell_type": "code",
      "source": [
        "df.head()"
      ],
      "metadata": {
        "colab": {
          "base_uri": "https://localhost:8080/",
          "height": 237
        },
        "id": "ZoQu7-sIKZ-5",
        "outputId": "cb8e5e84-f8f8-4a1e-c37a-396ecf33747b"
      },
      "execution_count": 4,
      "outputs": [
        {
          "output_type": "execute_result",
          "data": {
            "text/plain": [
              "                        Name Sex   Age  Height  Weight            Team  NOC  \\\n",
              "ID                                                                            \n",
              "1                  A Dijiang   M  24.0   180.0    80.0           China  CHN   \n",
              "2                   A Lamusi   M  23.0   170.0    60.0           China  CHN   \n",
              "3        Gunnar Nielsen Aaby   M  24.0     NaN     NaN         Denmark  DEN   \n",
              "4       Edgar Lindenau Aabye   M  34.0     NaN     NaN  Denmark/Sweden  DEN   \n",
              "5   Christine Jacoba Aaftink   F  21.0   185.0    82.0     Netherlands  NED   \n",
              "\n",
              "          Games  Year  Season       City          Sport  \\\n",
              "ID                                                        \n",
              "1   1992 Summer  1992  Summer  Barcelona     Basketball   \n",
              "2   2012 Summer  2012  Summer     London           Judo   \n",
              "3   1920 Summer  1920  Summer  Antwerpen       Football   \n",
              "4   1900 Summer  1900  Summer      Paris     Tug-Of-War   \n",
              "5   1988 Winter  1988  Winter    Calgary  Speed Skating   \n",
              "\n",
              "                               Event Medal  \n",
              "ID                                          \n",
              "1        Basketball Men's Basketball   NaN  \n",
              "2       Judo Men's Extra-Lightweight   NaN  \n",
              "3            Football Men's Football   NaN  \n",
              "4        Tug-Of-War Men's Tug-Of-War  Gold  \n",
              "5   Speed Skating Women's 500 metres   NaN  "
            ],
            "text/html": [
              "\n",
              "  <div id=\"df-351ef580-4657-4433-b931-5adfa1ebe948\" class=\"colab-df-container\">\n",
              "    <div>\n",
              "<style scoped>\n",
              "    .dataframe tbody tr th:only-of-type {\n",
              "        vertical-align: middle;\n",
              "    }\n",
              "\n",
              "    .dataframe tbody tr th {\n",
              "        vertical-align: top;\n",
              "    }\n",
              "\n",
              "    .dataframe thead th {\n",
              "        text-align: right;\n",
              "    }\n",
              "</style>\n",
              "<table border=\"1\" class=\"dataframe\">\n",
              "  <thead>\n",
              "    <tr style=\"text-align: right;\">\n",
              "      <th></th>\n",
              "      <th>Name</th>\n",
              "      <th>Sex</th>\n",
              "      <th>Age</th>\n",
              "      <th>Height</th>\n",
              "      <th>Weight</th>\n",
              "      <th>Team</th>\n",
              "      <th>NOC</th>\n",
              "      <th>Games</th>\n",
              "      <th>Year</th>\n",
              "      <th>Season</th>\n",
              "      <th>City</th>\n",
              "      <th>Sport</th>\n",
              "      <th>Event</th>\n",
              "      <th>Medal</th>\n",
              "    </tr>\n",
              "    <tr>\n",
              "      <th>ID</th>\n",
              "      <th></th>\n",
              "      <th></th>\n",
              "      <th></th>\n",
              "      <th></th>\n",
              "      <th></th>\n",
              "      <th></th>\n",
              "      <th></th>\n",
              "      <th></th>\n",
              "      <th></th>\n",
              "      <th></th>\n",
              "      <th></th>\n",
              "      <th></th>\n",
              "      <th></th>\n",
              "      <th></th>\n",
              "    </tr>\n",
              "  </thead>\n",
              "  <tbody>\n",
              "    <tr>\n",
              "      <th>1</th>\n",
              "      <td>A Dijiang</td>\n",
              "      <td>M</td>\n",
              "      <td>24.0</td>\n",
              "      <td>180.0</td>\n",
              "      <td>80.0</td>\n",
              "      <td>China</td>\n",
              "      <td>CHN</td>\n",
              "      <td>1992 Summer</td>\n",
              "      <td>1992</td>\n",
              "      <td>Summer</td>\n",
              "      <td>Barcelona</td>\n",
              "      <td>Basketball</td>\n",
              "      <td>Basketball Men's Basketball</td>\n",
              "      <td>NaN</td>\n",
              "    </tr>\n",
              "    <tr>\n",
              "      <th>2</th>\n",
              "      <td>A Lamusi</td>\n",
              "      <td>M</td>\n",
              "      <td>23.0</td>\n",
              "      <td>170.0</td>\n",
              "      <td>60.0</td>\n",
              "      <td>China</td>\n",
              "      <td>CHN</td>\n",
              "      <td>2012 Summer</td>\n",
              "      <td>2012</td>\n",
              "      <td>Summer</td>\n",
              "      <td>London</td>\n",
              "      <td>Judo</td>\n",
              "      <td>Judo Men's Extra-Lightweight</td>\n",
              "      <td>NaN</td>\n",
              "    </tr>\n",
              "    <tr>\n",
              "      <th>3</th>\n",
              "      <td>Gunnar Nielsen Aaby</td>\n",
              "      <td>M</td>\n",
              "      <td>24.0</td>\n",
              "      <td>NaN</td>\n",
              "      <td>NaN</td>\n",
              "      <td>Denmark</td>\n",
              "      <td>DEN</td>\n",
              "      <td>1920 Summer</td>\n",
              "      <td>1920</td>\n",
              "      <td>Summer</td>\n",
              "      <td>Antwerpen</td>\n",
              "      <td>Football</td>\n",
              "      <td>Football Men's Football</td>\n",
              "      <td>NaN</td>\n",
              "    </tr>\n",
              "    <tr>\n",
              "      <th>4</th>\n",
              "      <td>Edgar Lindenau Aabye</td>\n",
              "      <td>M</td>\n",
              "      <td>34.0</td>\n",
              "      <td>NaN</td>\n",
              "      <td>NaN</td>\n",
              "      <td>Denmark/Sweden</td>\n",
              "      <td>DEN</td>\n",
              "      <td>1900 Summer</td>\n",
              "      <td>1900</td>\n",
              "      <td>Summer</td>\n",
              "      <td>Paris</td>\n",
              "      <td>Tug-Of-War</td>\n",
              "      <td>Tug-Of-War Men's Tug-Of-War</td>\n",
              "      <td>Gold</td>\n",
              "    </tr>\n",
              "    <tr>\n",
              "      <th>5</th>\n",
              "      <td>Christine Jacoba Aaftink</td>\n",
              "      <td>F</td>\n",
              "      <td>21.0</td>\n",
              "      <td>185.0</td>\n",
              "      <td>82.0</td>\n",
              "      <td>Netherlands</td>\n",
              "      <td>NED</td>\n",
              "      <td>1988 Winter</td>\n",
              "      <td>1988</td>\n",
              "      <td>Winter</td>\n",
              "      <td>Calgary</td>\n",
              "      <td>Speed Skating</td>\n",
              "      <td>Speed Skating Women's 500 metres</td>\n",
              "      <td>NaN</td>\n",
              "    </tr>\n",
              "  </tbody>\n",
              "</table>\n",
              "</div>\n",
              "    <div class=\"colab-df-buttons\">\n",
              "\n",
              "  <div class=\"colab-df-container\">\n",
              "    <button class=\"colab-df-convert\" onclick=\"convertToInteractive('df-351ef580-4657-4433-b931-5adfa1ebe948')\"\n",
              "            title=\"Convert this dataframe to an interactive table.\"\n",
              "            style=\"display:none;\">\n",
              "\n",
              "  <svg xmlns=\"http://www.w3.org/2000/svg\" height=\"24px\" viewBox=\"0 -960 960 960\">\n",
              "    <path d=\"M120-120v-720h720v720H120Zm60-500h600v-160H180v160Zm220 220h160v-160H400v160Zm0 220h160v-160H400v160ZM180-400h160v-160H180v160Zm440 0h160v-160H620v160ZM180-180h160v-160H180v160Zm440 0h160v-160H620v160Z\"/>\n",
              "  </svg>\n",
              "    </button>\n",
              "\n",
              "  <style>\n",
              "    .colab-df-container {\n",
              "      display:flex;\n",
              "      gap: 12px;\n",
              "    }\n",
              "\n",
              "    .colab-df-convert {\n",
              "      background-color: #E8F0FE;\n",
              "      border: none;\n",
              "      border-radius: 50%;\n",
              "      cursor: pointer;\n",
              "      display: none;\n",
              "      fill: #1967D2;\n",
              "      height: 32px;\n",
              "      padding: 0 0 0 0;\n",
              "      width: 32px;\n",
              "    }\n",
              "\n",
              "    .colab-df-convert:hover {\n",
              "      background-color: #E2EBFA;\n",
              "      box-shadow: 0px 1px 2px rgba(60, 64, 67, 0.3), 0px 1px 3px 1px rgba(60, 64, 67, 0.15);\n",
              "      fill: #174EA6;\n",
              "    }\n",
              "\n",
              "    .colab-df-buttons div {\n",
              "      margin-bottom: 4px;\n",
              "    }\n",
              "\n",
              "    [theme=dark] .colab-df-convert {\n",
              "      background-color: #3B4455;\n",
              "      fill: #D2E3FC;\n",
              "    }\n",
              "\n",
              "    [theme=dark] .colab-df-convert:hover {\n",
              "      background-color: #434B5C;\n",
              "      box-shadow: 0px 1px 3px 1px rgba(0, 0, 0, 0.15);\n",
              "      filter: drop-shadow(0px 1px 2px rgba(0, 0, 0, 0.3));\n",
              "      fill: #FFFFFF;\n",
              "    }\n",
              "  </style>\n",
              "\n",
              "    <script>\n",
              "      const buttonEl =\n",
              "        document.querySelector('#df-351ef580-4657-4433-b931-5adfa1ebe948 button.colab-df-convert');\n",
              "      buttonEl.style.display =\n",
              "        google.colab.kernel.accessAllowed ? 'block' : 'none';\n",
              "\n",
              "      async function convertToInteractive(key) {\n",
              "        const element = document.querySelector('#df-351ef580-4657-4433-b931-5adfa1ebe948');\n",
              "        const dataTable =\n",
              "          await google.colab.kernel.invokeFunction('convertToInteractive',\n",
              "                                                    [key], {});\n",
              "        if (!dataTable) return;\n",
              "\n",
              "        const docLinkHtml = 'Like what you see? Visit the ' +\n",
              "          '<a target=\"_blank\" href=https://colab.research.google.com/notebooks/data_table.ipynb>data table notebook</a>'\n",
              "          + ' to learn more about interactive tables.';\n",
              "        element.innerHTML = '';\n",
              "        dataTable['output_type'] = 'display_data';\n",
              "        await google.colab.output.renderOutput(dataTable, element);\n",
              "        const docLink = document.createElement('div');\n",
              "        docLink.innerHTML = docLinkHtml;\n",
              "        element.appendChild(docLink);\n",
              "      }\n",
              "    </script>\n",
              "  </div>\n",
              "\n",
              "\n",
              "<div id=\"df-f52686b8-7405-4576-8184-aa0de8f7da2c\">\n",
              "  <button class=\"colab-df-quickchart\" onclick=\"quickchart('df-f52686b8-7405-4576-8184-aa0de8f7da2c')\"\n",
              "            title=\"Suggest charts.\"\n",
              "            style=\"display:none;\">\n",
              "\n",
              "<svg xmlns=\"http://www.w3.org/2000/svg\" height=\"24px\"viewBox=\"0 0 24 24\"\n",
              "     width=\"24px\">\n",
              "    <g>\n",
              "        <path d=\"M19 3H5c-1.1 0-2 .9-2 2v14c0 1.1.9 2 2 2h14c1.1 0 2-.9 2-2V5c0-1.1-.9-2-2-2zM9 17H7v-7h2v7zm4 0h-2V7h2v10zm4 0h-2v-4h2v4z\"/>\n",
              "    </g>\n",
              "</svg>\n",
              "  </button>\n",
              "\n",
              "<style>\n",
              "  .colab-df-quickchart {\n",
              "      --bg-color: #E8F0FE;\n",
              "      --fill-color: #1967D2;\n",
              "      --hover-bg-color: #E2EBFA;\n",
              "      --hover-fill-color: #174EA6;\n",
              "      --disabled-fill-color: #AAA;\n",
              "      --disabled-bg-color: #DDD;\n",
              "  }\n",
              "\n",
              "  [theme=dark] .colab-df-quickchart {\n",
              "      --bg-color: #3B4455;\n",
              "      --fill-color: #D2E3FC;\n",
              "      --hover-bg-color: #434B5C;\n",
              "      --hover-fill-color: #FFFFFF;\n",
              "      --disabled-bg-color: #3B4455;\n",
              "      --disabled-fill-color: #666;\n",
              "  }\n",
              "\n",
              "  .colab-df-quickchart {\n",
              "    background-color: var(--bg-color);\n",
              "    border: none;\n",
              "    border-radius: 50%;\n",
              "    cursor: pointer;\n",
              "    display: none;\n",
              "    fill: var(--fill-color);\n",
              "    height: 32px;\n",
              "    padding: 0;\n",
              "    width: 32px;\n",
              "  }\n",
              "\n",
              "  .colab-df-quickchart:hover {\n",
              "    background-color: var(--hover-bg-color);\n",
              "    box-shadow: 0 1px 2px rgba(60, 64, 67, 0.3), 0 1px 3px 1px rgba(60, 64, 67, 0.15);\n",
              "    fill: var(--button-hover-fill-color);\n",
              "  }\n",
              "\n",
              "  .colab-df-quickchart-complete:disabled,\n",
              "  .colab-df-quickchart-complete:disabled:hover {\n",
              "    background-color: var(--disabled-bg-color);\n",
              "    fill: var(--disabled-fill-color);\n",
              "    box-shadow: none;\n",
              "  }\n",
              "\n",
              "  .colab-df-spinner {\n",
              "    border: 2px solid var(--fill-color);\n",
              "    border-color: transparent;\n",
              "    border-bottom-color: var(--fill-color);\n",
              "    animation:\n",
              "      spin 1s steps(1) infinite;\n",
              "  }\n",
              "\n",
              "  @keyframes spin {\n",
              "    0% {\n",
              "      border-color: transparent;\n",
              "      border-bottom-color: var(--fill-color);\n",
              "      border-left-color: var(--fill-color);\n",
              "    }\n",
              "    20% {\n",
              "      border-color: transparent;\n",
              "      border-left-color: var(--fill-color);\n",
              "      border-top-color: var(--fill-color);\n",
              "    }\n",
              "    30% {\n",
              "      border-color: transparent;\n",
              "      border-left-color: var(--fill-color);\n",
              "      border-top-color: var(--fill-color);\n",
              "      border-right-color: var(--fill-color);\n",
              "    }\n",
              "    40% {\n",
              "      border-color: transparent;\n",
              "      border-right-color: var(--fill-color);\n",
              "      border-top-color: var(--fill-color);\n",
              "    }\n",
              "    60% {\n",
              "      border-color: transparent;\n",
              "      border-right-color: var(--fill-color);\n",
              "    }\n",
              "    80% {\n",
              "      border-color: transparent;\n",
              "      border-right-color: var(--fill-color);\n",
              "      border-bottom-color: var(--fill-color);\n",
              "    }\n",
              "    90% {\n",
              "      border-color: transparent;\n",
              "      border-bottom-color: var(--fill-color);\n",
              "    }\n",
              "  }\n",
              "</style>\n",
              "\n",
              "  <script>\n",
              "    async function quickchart(key) {\n",
              "      const quickchartButtonEl =\n",
              "        document.querySelector('#' + key + ' button');\n",
              "      quickchartButtonEl.disabled = true;  // To prevent multiple clicks.\n",
              "      quickchartButtonEl.classList.add('colab-df-spinner');\n",
              "      try {\n",
              "        const charts = await google.colab.kernel.invokeFunction(\n",
              "            'suggestCharts', [key], {});\n",
              "      } catch (error) {\n",
              "        console.error('Error during call to suggestCharts:', error);\n",
              "      }\n",
              "      quickchartButtonEl.classList.remove('colab-df-spinner');\n",
              "      quickchartButtonEl.classList.add('colab-df-quickchart-complete');\n",
              "    }\n",
              "    (() => {\n",
              "      let quickchartButtonEl =\n",
              "        document.querySelector('#df-f52686b8-7405-4576-8184-aa0de8f7da2c button');\n",
              "      quickchartButtonEl.style.display =\n",
              "        google.colab.kernel.accessAllowed ? 'block' : 'none';\n",
              "    })();\n",
              "  </script>\n",
              "</div>\n",
              "    </div>\n",
              "  </div>\n"
            ]
          },
          "metadata": {},
          "execution_count": 4
        }
      ]
    },
    {
      "cell_type": "code",
      "source": [
        "# Assign one of the series to a variable\n",
        "b = df.Weight"
      ],
      "metadata": {
        "id": "J8C7MhX9fsxr"
      },
      "execution_count": 5,
      "outputs": []
    },
    {
      "cell_type": "code",
      "source": [
        "# Check the datatype\n",
        "type(b)"
      ],
      "metadata": {
        "id": "X5dVW3Nvfw20",
        "colab": {
          "base_uri": "https://localhost:8080/"
        },
        "outputId": "3fc1c5d2-060c-4efb-efb6-4fc05559bd98"
      },
      "execution_count": 6,
      "outputs": [
        {
          "output_type": "execute_result",
          "data": {
            "text/plain": [
              "pandas.core.series.Series"
            ]
          },
          "metadata": {},
          "execution_count": 6
        }
      ]
    },
    {
      "cell_type": "code",
      "source": [
        "type(df)"
      ],
      "metadata": {
        "colab": {
          "base_uri": "https://localhost:8080/"
        },
        "id": "xlJrvCc0K2ch",
        "outputId": "0ebae2d6-09b0-40a5-b6d7-b14d055111a1"
      },
      "execution_count": 7,
      "outputs": [
        {
          "output_type": "execute_result",
          "data": {
            "text/plain": [
              "pandas.core.frame.DataFrame"
            ]
          },
          "metadata": {},
          "execution_count": 7
        }
      ]
    },
    {
      "cell_type": "code",
      "source": [
        "# Get the count()\n",
        "b.count()"
      ],
      "metadata": {
        "id": "h9k9Ar3ifwts",
        "colab": {
          "base_uri": "https://localhost:8080/"
        },
        "outputId": "cd59fc51-79eb-44bc-c43f-7d2470c73651"
      },
      "execution_count": 8,
      "outputs": [
        {
          "output_type": "execute_result",
          "data": {
            "text/plain": [
              "208241"
            ]
          },
          "metadata": {},
          "execution_count": 8
        }
      ]
    },
    {
      "cell_type": "code",
      "source": [
        "# Check the size\n",
        "b.size"
      ],
      "metadata": {
        "id": "zqzz50F5fwqU",
        "colab": {
          "base_uri": "https://localhost:8080/"
        },
        "outputId": "df0a5139-32b5-4505-c63f-8f3d8b853594"
      },
      "execution_count": 9,
      "outputs": [
        {
          "output_type": "execute_result",
          "data": {
            "text/plain": [
              "271116"
            ]
          },
          "metadata": {},
          "execution_count": 9
        }
      ]
    },
    {
      "cell_type": "code",
      "source": [
        "# Check the length\n",
        "len(b)"
      ],
      "metadata": {
        "id": "alPm9Sa9fwns",
        "colab": {
          "base_uri": "https://localhost:8080/"
        },
        "outputId": "949ffda6-5719-4824-e6f5-175371f1779c"
      },
      "execution_count": 11,
      "outputs": [
        {
          "output_type": "execute_result",
          "data": {
            "text/plain": [
              "271116"
            ]
          },
          "metadata": {},
          "execution_count": 11
        }
      ]
    },
    {
      "cell_type": "code",
      "source": [
        "# Check the sum()\n",
        "b.sum()"
      ],
      "metadata": {
        "id": "byqEHCprfwk6",
        "colab": {
          "base_uri": "https://localhost:8080/"
        },
        "outputId": "73608546-73a6-4cae-92ad-81240bdaff24"
      },
      "execution_count": 12,
      "outputs": [
        {
          "output_type": "execute_result",
          "data": {
            "text/plain": [
              "14723137.0"
            ]
          },
          "metadata": {},
          "execution_count": 12
        }
      ]
    },
    {
      "cell_type": "code",
      "source": [
        "# Difference between pandas method sum() and in-built function sum()\n",
        "\n",
        "# In-built function to sum all the value with null value so they give not proper ansewer\n",
        "# But in series using sum() method to ignore tha null value and sum all the value and give answer"
      ],
      "metadata": {
        "id": "DJ3hWtkVfwiN"
      },
      "execution_count": null,
      "outputs": []
    },
    {
      "cell_type": "code",
      "source": [
        "# Check mean ()\n",
        "b.mean()"
      ],
      "metadata": {
        "id": "ieUQgJtWfwfd",
        "colab": {
          "base_uri": "https://localhost:8080/"
        },
        "outputId": "21beb54e-eea7-458e-dfdf-0cd3288a28cb"
      },
      "execution_count": 13,
      "outputs": [
        {
          "output_type": "execute_result",
          "data": {
            "text/plain": [
              "70.70239290053351"
            ]
          },
          "metadata": {},
          "execution_count": 13
        }
      ]
    },
    {
      "cell_type": "code",
      "source": [
        "# Check median()\n",
        "b.median()"
      ],
      "metadata": {
        "id": "BM4UBSNbfwcs",
        "colab": {
          "base_uri": "https://localhost:8080/"
        },
        "outputId": "08daaec0-5f05-4138-d0fc-04e5d55cdc91"
      },
      "execution_count": 14,
      "outputs": [
        {
          "output_type": "execute_result",
          "data": {
            "text/plain": [
              "70.0"
            ]
          },
          "metadata": {},
          "execution_count": 14
        }
      ]
    },
    {
      "cell_type": "code",
      "source": [
        "# Check std()\n",
        "b.std()"
      ],
      "metadata": {
        "id": "CuW87c_VfwZ5",
        "colab": {
          "base_uri": "https://localhost:8080/"
        },
        "outputId": "2f9630ae-e364-4a2a-c6de-93062fdd5cd2"
      },
      "execution_count": 15,
      "outputs": [
        {
          "output_type": "execute_result",
          "data": {
            "text/plain": [
              "14.348019999019392"
            ]
          },
          "metadata": {},
          "execution_count": 15
        }
      ]
    },
    {
      "cell_type": "code",
      "source": [
        "# Check min()\n",
        "b.min()"
      ],
      "metadata": {
        "colab": {
          "base_uri": "https://localhost:8080/"
        },
        "id": "_Ms-g_NdL_8x",
        "outputId": "ebabe099-fffb-4f67-8075-8aa30b04b948"
      },
      "execution_count": 17,
      "outputs": [
        {
          "output_type": "execute_result",
          "data": {
            "text/plain": [
              "25.0"
            ]
          },
          "metadata": {},
          "execution_count": 17
        }
      ]
    },
    {
      "cell_type": "code",
      "source": [
        "# Check max()\n",
        "b.max()"
      ],
      "metadata": {
        "colab": {
          "base_uri": "https://localhost:8080/"
        },
        "id": "bAFXDavJL_55",
        "outputId": "b43551f8-4c7a-4ba6-ebeb-06ef1e76e118"
      },
      "execution_count": 18,
      "outputs": [
        {
          "output_type": "execute_result",
          "data": {
            "text/plain": [
              "214.0"
            ]
          },
          "metadata": {},
          "execution_count": 18
        }
      ]
    },
    {
      "cell_type": "code",
      "source": [
        "# Check unique() values\n",
        "b.unique()"
      ],
      "metadata": {
        "colab": {
          "base_uri": "https://localhost:8080/"
        },
        "id": "nbqpK3usL_27",
        "outputId": "8af7c0c6-77d3-45b0-f5fe-1d4d8a521aa7"
      },
      "execution_count": 19,
      "outputs": [
        {
          "output_type": "execute_result",
          "data": {
            "text/plain": [
              "array([ 80.        ,  60.        ,          nan,  82.        ,\n",
              "        75.        ,  72.        ,  96.        ,  76.5       ,\n",
              "        70.        ,  55.5       ,  65.        ,  85.        ,\n",
              "        64.        , 130.        , 125.        ,  89.        ,\n",
              "        77.        ,  76.        ,  98.        ,  78.        ,\n",
              "        73.        ,  93.        ,  74.        , 106.        ,\n",
              "        58.        ,  66.        ,  71.        ,  90.        ,\n",
              "        87.        ,  49.        ,  48.        ,  83.        ,\n",
              "        86.        ,  55.        ,  67.        ,  97.        ,\n",
              "       105.        ,  43.        ,  79.        ,  51.        ,\n",
              "        88.        ,  62.        ,  53.        , 104.        ,\n",
              "        57.        ,  63.        ,  52.        ,  91.        ,\n",
              "        94.        ,  56.        ,  68.        ,  61.        ,\n",
              "        69.        ,  46.        , 100.        ,  81.        ,\n",
              "        92.        , 120.        ,  95.        ,  59.        ,\n",
              "        50.        , 117.5       ,  54.        ,  47.        ,\n",
              "       117.        ,  84.        , 102.        ,  40.        ,\n",
              "       115.        , 110.        ,  45.        ,  99.        ,\n",
              "       109.        ,  69.5       , 135.        ,  38.        ,\n",
              "        77.5       , 103.        , 163.        , 113.        ,\n",
              "        42.        ,  91.5       ,  82.5       ,  68.5       ,\n",
              "       116.        , 107.        ,  96.5       ,  83.5       ,\n",
              "        44.        , 122.        , 102.5       ,  71.5       ,\n",
              "       156.        , 150.        , 160.        ,  95.5       ,\n",
              "       101.        , 146.        , 138.        , 112.        ,\n",
              "       108.        , 140.        , 141.        ,  63.5       ,\n",
              "       114.        , 118.        ,  52.5       , 127.        ,\n",
              "        39.        ,  73.5       , 155.        ,  74.5       ,\n",
              "        32.        , 143.        , 133.        ,  70.5       ,\n",
              "       126.        ,  53.5       , 121.        ,  67.5       ,\n",
              "       111.        , 123.5       ,  41.        ,  36.        ,\n",
              "       132.        , 128.        ,  65.5       ,  98.5       ,\n",
              "       124.        ,  59.5       ,  66.5       , 127.5       ,\n",
              "        35.        , 144.        ,  58.5       , 214.        ,\n",
              "        81.5       ,  37.        , 146.5       , 116.5       ,\n",
              "       148.        , 123.        ,  89.5       , 133.5       ,\n",
              "        86.5       ,  85.5       , 101.5       , 154.        ,\n",
              "       139.        ,  57.5       , 136.        ,  54.5       ,\n",
              "       137.        , 170.        ,  30.        ,  25.        ,\n",
              "        77.33333333, 131.        ,  79.5       ,  34.        ,\n",
              "       119.        , 134.        ,  33.        , 109.5       ,\n",
              "        90.5       , 129.        , 147.        ,  56.5       ,\n",
              "        78.5       , 165.        ,  88.5       ,  62.5       ,\n",
              "        60.5       , 158.        ,  75.5       , 190.        ,\n",
              "        64.5       , 145.        , 121.5       ,  61.5       ,\n",
              "       161.        , 176.5       ,  87.5       , 100.5       ,\n",
              "       149.        , 152.        , 108.5       ,  28.        ,\n",
              "        48.5       , 138.5       ,  72.5       , 129.5       ,\n",
              "       131.5       , 167.        ,  84.5       ,  49.5       ,\n",
              "        51.5       , 112.5       , 118.5       , 142.        ,\n",
              "        80.5       , 106.5       , 107.5       ,  31.        ,\n",
              "       135.5       , 137.5       ,  93.5       ,  97.5       ,\n",
              "       103.5       , 175.        , 151.        , 198.        ,\n",
              "       178.        ,  92.5       , 180.        , 104.5       ,\n",
              "       105.5       , 122.5       , 182.        ,  74.66666667,\n",
              "       130.5       ])"
            ]
          },
          "metadata": {},
          "execution_count": 19
        }
      ]
    },
    {
      "cell_type": "code",
      "source": [
        "# Check length of unique() values\n",
        "len(b.unique())"
      ],
      "metadata": {
        "colab": {
          "base_uri": "https://localhost:8080/"
        },
        "id": "SkzPOva1L_zX",
        "outputId": "80818c89-37a2-44ad-cbec-3b387fd2e769"
      },
      "execution_count": 20,
      "outputs": [
        {
          "output_type": "execute_result",
          "data": {
            "text/plain": [
              "221"
            ]
          },
          "metadata": {},
          "execution_count": 20
        }
      ]
    },
    {
      "cell_type": "code",
      "source": [
        "# Check unique() values dropping na values using unique()method\n",
        "b.nunique()"
      ],
      "metadata": {
        "colab": {
          "base_uri": "https://localhost:8080/"
        },
        "id": "9nnU7K9fL_wX",
        "outputId": "47a8e988-a245-4250-c6c7-99ec760df209"
      },
      "execution_count": 21,
      "outputs": [
        {
          "output_type": "execute_result",
          "data": {
            "text/plain": [
              "220"
            ]
          },
          "metadata": {},
          "execution_count": 21
        }
      ]
    },
    {
      "cell_type": "code",
      "source": [
        "# Explore the option in value_counts()\n",
        "# Sort, ascending, normalize, bins\n",
        "# Check the unique values using value _counts()\n",
        "b.value_counts()"
      ],
      "metadata": {
        "colab": {
          "base_uri": "https://localhost:8080/"
        },
        "id": "x2KqskKLM-EI",
        "outputId": "37830037-7ac3-4fa9-dc82-6112284a6234"
      },
      "execution_count": 22,
      "outputs": [
        {
          "output_type": "execute_result",
          "data": {
            "text/plain": [
              "70.0     9625\n",
              "60.0     7994\n",
              "75.0     7810\n",
              "68.0     7284\n",
              "65.0     7236\n",
              "         ... \n",
              "190.0       1\n",
              "180.0       1\n",
              "149.0       1\n",
              "48.5        1\n",
              "198.0       1\n",
              "Name: Weight, Length: 220, dtype: int64"
            ]
          },
          "metadata": {},
          "execution_count": 22
        }
      ]
    },
    {
      "cell_type": "code",
      "source": [
        "b.value_counts(ascending=True)"
      ],
      "metadata": {
        "colab": {
          "base_uri": "https://localhost:8080/"
        },
        "id": "aZoV220FSKKc",
        "outputId": "543a18ff-0536-4d3a-ba04-d9330a4d88c5"
      },
      "execution_count": 23,
      "outputs": [
        {
          "output_type": "execute_result",
          "data": {
            "text/plain": [
              "149.0       1\n",
              "190.0       1\n",
              "48.5        1\n",
              "180.0       1\n",
              "178.0       1\n",
              "         ... \n",
              "65.0     7236\n",
              "68.0     7284\n",
              "75.0     7810\n",
              "60.0     7994\n",
              "70.0     9625\n",
              "Name: Weight, Length: 220, dtype: int64"
            ]
          },
          "metadata": {},
          "execution_count": 23
        }
      ]
    },
    {
      "cell_type": "code",
      "source": [
        "b.value_counts(normalize=True).mul(100).round(0)"
      ],
      "metadata": {
        "colab": {
          "base_uri": "https://localhost:8080/"
        },
        "id": "dG0nCdZLSSH1",
        "outputId": "bf38b981-1cb7-4a43-bff0-ffbe16155b29"
      },
      "execution_count": 25,
      "outputs": [
        {
          "output_type": "execute_result",
          "data": {
            "text/plain": [
              "70.0     5.0\n",
              "60.0     4.0\n",
              "75.0     4.0\n",
              "68.0     3.0\n",
              "65.0     3.0\n",
              "        ... \n",
              "190.0    0.0\n",
              "180.0    0.0\n",
              "149.0    0.0\n",
              "48.5     0.0\n",
              "198.0    0.0\n",
              "Name: Weight, Length: 220, dtype: float64"
            ]
          },
          "metadata": {},
          "execution_count": 25
        }
      ]
    },
    {
      "cell_type": "code",
      "source": [
        "b.value_counts(bins=10)"
      ],
      "metadata": {
        "colab": {
          "base_uri": "https://localhost:8080/"
        },
        "id": "jbl9F0VZSkTL",
        "outputId": "a1dbc55c-06b0-4b5c-dc9e-9fb1dcd32e6b"
      },
      "execution_count": 27,
      "outputs": [
        {
          "output_type": "execute_result",
          "data": {
            "text/plain": [
              "(62.8, 81.7]      103919\n",
              "(43.9, 62.8]       59523\n",
              "(81.7, 100.6]      36880\n",
              "(100.6, 119.5]      3876\n",
              "(24.81, 43.9]       2539\n",
              "(119.5, 138.4]      1253\n",
              "(138.4, 157.3]       200\n",
              "(157.3, 176.2]        41\n",
              "(176.2, 195.1]         7\n",
              "(195.1, 214.0]         3\n",
              "Name: Weight, dtype: int64"
            ]
          },
          "metadata": {},
          "execution_count": 27
        }
      ]
    },
    {
      "cell_type": "code",
      "source": [
        "b.value_counts(bins=10,ascending=True)"
      ],
      "metadata": {
        "colab": {
          "base_uri": "https://localhost:8080/"
        },
        "id": "J_cNFCKdS0Zw",
        "outputId": "d2048517-fcca-4711-a1c8-4b638f091147"
      },
      "execution_count": 28,
      "outputs": [
        {
          "output_type": "execute_result",
          "data": {
            "text/plain": [
              "(195.1, 214.0]         3\n",
              "(176.2, 195.1]         7\n",
              "(157.3, 176.2]        41\n",
              "(138.4, 157.3]       200\n",
              "(119.5, 138.4]      1253\n",
              "(24.81, 43.9]       2539\n",
              "(100.6, 119.5]      3876\n",
              "(81.7, 100.6]      36880\n",
              "(43.9, 62.8]       59523\n",
              "(62.8, 81.7]      103919\n",
              "Name: Weight, dtype: int64"
            ]
          },
          "metadata": {},
          "execution_count": 28
        }
      ]
    }
  ]
}