{
  "cells": [
    {
      "cell_type": "markdown",
      "metadata": {
        "id": "5KH5YkdxOkHP"
      },
      "source": [
        "##Dictionaries in Python Worksheet 6.1"
      ]
    },
    {
      "cell_type": "markdown",
      "metadata": {
        "id": "rqltvI4BOufo"
      },
      "source": [
        "Question - 1 : Write a python  program to given below are the two lists convert it into the dictionary .\n",
        "\n",
        "keys = ['Ten', 'Twenty', 'Thirty']\n",
        "\n",
        "values = [10, 20, 30]"
      ]
    },
    {
      "cell_type": "code",
      "execution_count": null,
      "metadata": {
        "colab": {
          "base_uri": "https://localhost:8080/"
        },
        "id": "0hbKtF8HYn70",
        "outputId": "33437a04-88e4-4bdf-f8ed-6771d9afeec5"
      },
      "outputs": [
        {
          "data": {
            "text/plain": [
              "dict_keys(['ten', 'twenty', 'thirty'])"
            ]
          },
          "execution_count": 4,
          "metadata": {},
          "output_type": "execute_result"
        }
      ],
      "source": [
        "dict1={\"ten\":10,\"twenty\":20,\"thirty\":30}\n",
        "dict1.keys()"
      ]
    },
    {
      "cell_type": "code",
      "execution_count": null,
      "metadata": {
        "colab": {
          "base_uri": "https://localhost:8080/"
        },
        "id": "PMBPBMOlQAGX",
        "outputId": "d5673b70-087c-457f-9093-6a8cd1964212"
      },
      "outputs": [
        {
          "data": {
            "text/plain": [
              "dict_values([10, 20, 30])"
            ]
          },
          "execution_count": 7,
          "metadata": {},
          "output_type": "execute_result"
        }
      ],
      "source": [
        "dict1.values()"
      ]
    },
    {
      "cell_type": "code",
      "execution_count": null,
      "metadata": {
        "colab": {
          "base_uri": "https://localhost:8080/"
        },
        "id": "FC6mIKlXaMcB",
        "outputId": "a9dcccd0-5c55-463a-8c95-50a832da06c5"
      },
      "outputs": [
        {
          "data": {
            "text/plain": [
              "10"
            ]
          },
          "execution_count": 10,
          "metadata": {},
          "output_type": "execute_result"
        }
      ],
      "source": [
        "dict1[\"ten\"]"
      ]
    },
    {
      "cell_type": "code",
      "execution_count": null,
      "metadata": {
        "colab": {
          "base_uri": "https://localhost:8080/"
        },
        "id": "md-3KryiWTSu",
        "outputId": "d93c43d9-7533-4c04-9d13-26b2becc9080"
      },
      "outputs": [
        {
          "data": {
            "text/plain": [
              "{'Ten': [10, 20, 30], 'Twenty': [10, 20, 30], 'Thirty': [10, 20, 30]}"
            ]
          },
          "execution_count": 1,
          "metadata": {},
          "output_type": "execute_result"
        }
      ],
      "source": [
        "keys = ['Ten', 'Twenty', 'Thirty']\n",
        "\n",
        "values = [10, 20, 30]\n",
        "\n",
        "d = {}.fromkeys(keys , values)\n",
        "\n",
        "d\n",
        "\n"
      ]
    },
    {
      "cell_type": "markdown",
      "metadata": {
        "id": "0gQJoxNIQA29"
      },
      "source": [
        "Question - 2 : Write a python program to delete set of keys from Python Dictionary\n",
        "\n",
        "MyDict = {\n",
        "  \"name\": \"Rajit\",\n",
        "  \"age\":20,\n",
        "  \"salary\": 8000000000,\n",
        "  \"city\": \"Agra\"\n",
        "  \n",
        "}\n",
        "\n",
        "keysToRemove = [\"name\", \"salary\"]\n",
        "\n",
        "output:\n",
        "\n",
        "{ 'age': 20 , 'city': 'Agra'}"
      ]
    },
    {
      "cell_type": "code",
      "execution_count": null,
      "metadata": {
        "id": "i-bThFZUQE-_"
      },
      "outputs": [],
      "source": [
        "#write your code here"
      ]
    },
    {
      "cell_type": "code",
      "execution_count": 6,
      "metadata": {
        "colab": {
          "base_uri": "https://localhost:8080/"
        },
        "id": "ftADSRNAa8Yr",
        "outputId": "aa217aef-8e61-48e9-d732-8c35f26d78c0"
      },
      "outputs": [
        {
          "output_type": "execute_result",
          "data": {
            "text/plain": [
              "{'name': 'rajit', 'age': 20, 'salery': 8000000000, 'city': 'agra'}"
            ]
          },
          "metadata": {},
          "execution_count": 6
        }
      ],
      "source": [
        "dict1={\"name\":\"rajit\",\"age\":20,\"salery\":8000000000,\"city\":\"agra\"}\n",
        "dict1\n"
      ]
    },
    {
      "cell_type": "code",
      "execution_count": 8,
      "metadata": {
        "colab": {
          "base_uri": "https://localhost:8080/"
        },
        "id": "8YMmJiJabeGN",
        "outputId": "60177c0f-5b1a-4ca2-bcd3-9e86819642be"
      },
      "outputs": [
        {
          "output_type": "execute_result",
          "data": {
            "text/plain": [
              "{'age': 20, 'city': 'agra'}"
            ]
          },
          "metadata": {},
          "execution_count": 8
        }
      ],
      "source": [
        "del dict1['salery']\n",
        "del dict1['name']\n",
        "dict1\n"
      ]
    },
    {
      "cell_type": "code",
      "execution_count": 9,
      "metadata": {
        "id": "KC7h5JElWVxc",
        "colab": {
          "base_uri": "https://localhost:8080/"
        },
        "outputId": "1ea52377-46c8-44ea-f3d3-b4a81651ec5a"
      },
      "outputs": [
        {
          "output_type": "execute_result",
          "data": {
            "text/plain": [
              "{'city': 'Agra', 'age': 20}"
            ]
          },
          "metadata": {},
          "execution_count": 9
        }
      ],
      "source": [
        " MyDict = {\n",
        "  \"name\": \"Rajit\",\n",
        "  \"city\": \"Agra\",\n",
        "  \"age\":20,\n",
        "  \"salary\": 8000000000\n",
        "\n",
        "\n",
        "}\n",
        "\n",
        "#keysToRemove = [\"name\", \"salary\"]\n",
        "\n",
        "\n",
        "MyDict.pop('name')\n",
        "MyDict.pop('salary')\n",
        "\n",
        "MyDict"
      ]
    },
    {
      "cell_type": "markdown",
      "metadata": {
        "id": "3Y9waQ5NQFhT"
      },
      "source": [
        "Question - 3 : Write a python program to concatenate following dictionaries to create a new one.\n",
        "\n",
        "Dictionary :\n",
        "\n",
        "dic1={1:10, 2:20}\n",
        "\n",
        "dic2={3:30, 4:40}\n",
        "\n",
        "dic3={5:50,6:60}\n",
        "\n",
        "Result : {1: 10, 2: 20, 3: 30, 4: 40, 5: 50, 6: 60}"
      ]
    },
    {
      "cell_type": "code",
      "execution_count": null,
      "metadata": {
        "id": "JN8ZktfwQHad"
      },
      "outputs": [],
      "source": [
        "#write your code here"
      ]
    },
    {
      "cell_type": "code",
      "execution_count": 10,
      "metadata": {
        "id": "8fyNitsRWXHS",
        "colab": {
          "base_uri": "https://localhost:8080/"
        },
        "outputId": "ba1515ed-c5d4-4c20-8c5c-98b2d97ca25e"
      },
      "outputs": [
        {
          "output_type": "stream",
          "name": "stdout",
          "text": [
            "{1: 10, 2: 20, 3: 30, 4: 40, 5: 50, 6: 60}\n"
          ]
        }
      ],
      "source": [
        "dic1={1:10, 2:20}\n",
        "dic2={3:30, 4:40}\n",
        "dic3={5:50,6:60}\n",
        "dic4 = {}\n",
        "for d in (dic1, dic2, dic3):\n",
        "   dic4.update(d)\n",
        "print(dic4)"
      ]
    },
    {
      "cell_type": "markdown",
      "metadata": {
        "id": "t4qeeOi8QIDa"
      },
      "source": [
        "Question - 4 : Write a python program to check if a value 200 exists in a dictionary.\n",
        "\n",
        "Dict = {'a': 100, 'b': 200, 'c': 300}"
      ]
    },
    {
      "cell_type": "code",
      "execution_count": null,
      "metadata": {
        "colab": {
          "background_save": true
        },
        "id": "rlLixcqVQKgB",
        "outputId": "c2cef6a6-a255-4a36-8373-91fd58e07233"
      },
      "outputs": [
        {
          "data": {
            "text/plain": [
              "False"
            ]
          },
          "execution_count": 49,
          "metadata": {},
          "output_type": "execute_result"
        }
      ],
      "source": [
        "#write your code here"
      ]
    },
    {
      "cell_type": "code",
      "execution_count": 11,
      "metadata": {
        "id": "wgtgCVMtWYOr",
        "colab": {
          "base_uri": "https://localhost:8080/"
        },
        "outputId": "aee7635b-3cc8-4ca6-a5c4-20376aaed04a"
      },
      "outputs": [
        {
          "output_type": "stream",
          "name": "stdout",
          "text": [
            "True\n"
          ]
        }
      ],
      "source": [
        "Dict = {'a': 100, 'b': 200, 'c': 300}\n",
        "print(200 in Dict.values())"
      ]
    },
    {
      "cell_type": "markdown",
      "metadata": {
        "id": "mDIl-P8MQLBy"
      },
      "source": [
        "Question - 5 : Write a python program to rename key <b>city</b> to <b>location</b> in the following dictionary.\n",
        "\n",
        "MyDict = {\n",
        "  \"name\": \"Rajit\",\n",
        "  \"age\":21,\n",
        "  \"salary\": 8000000000,\n",
        "  \"city\": \"Agra\"\n",
        "  \n",
        "}"
      ]
    },
    {
      "cell_type": "code",
      "execution_count": null,
      "metadata": {
        "colab": {
          "background_save": true
        },
        "id": "-DMH-QriQMjO",
        "outputId": "b7e8c92c-3f83-4d6f-d34b-0cec413a6aa6"
      },
      "outputs": [
        {
          "ename": "SyntaxError",
          "evalue": "ignored",
          "output_type": "error",
          "traceback": [
            "\u001b[0;36m  File \u001b[0;32m\"<ipython-input-59-5b4a89bcd5cf>\"\u001b[0;36m, line \u001b[0;32m4\u001b[0m\n\u001b[0;31m    my dict\u001b[0m\n\u001b[0m       ^\u001b[0m\n\u001b[0;31mSyntaxError\u001b[0m\u001b[0;31m:\u001b[0m invalid syntax\n"
          ]
        }
      ],
      "source": [
        "#write your code here"
      ]
    },
    {
      "cell_type": "code",
      "execution_count": 12,
      "metadata": {
        "id": "Wl8rY4zpWZZp",
        "colab": {
          "base_uri": "https://localhost:8080/"
        },
        "outputId": "ab911cf3-db97-4814-e178-7d637e8e053e"
      },
      "outputs": [
        {
          "output_type": "stream",
          "name": "stdout",
          "text": [
            "{'name': 'Rajit', 'age': 21, 'salary': 8000000000, 'location': 'Agra'}\n"
          ]
        }
      ],
      "source": [
        "MyDict = {\n",
        "  \"name\": \"Rajit\",\n",
        "  \"age\":21,\n",
        "  \"salary\": 8000000000,\n",
        "  \"city\": \"Agra\"\n",
        "\n",
        "}\n",
        "\n",
        "MyDict['location'] = MyDict['city']\n",
        "MyDict.pop(\"city\")\n",
        "\n",
        "print(MyDict)"
      ]
    },
    {
      "cell_type": "markdown",
      "metadata": {
        "id": "vQyRXsEsQNBY"
      },
      "source": [
        "Question - 6 : Write a python program to get the key corresponding to the minimum value from the following dictionary.\n",
        "\n",
        "sampleDict = {\n",
        "  'Physics': 82,\n",
        "  'Math': 65,\n",
        "  'history': 75\n",
        "}\n",
        "\n",
        "\n",
        "output:\n",
        "Math"
      ]
    },
    {
      "cell_type": "code",
      "execution_count": null,
      "metadata": {
        "id": "S_TaQVbtQO8i"
      },
      "outputs": [],
      "source": [
        "#write your code here"
      ]
    },
    {
      "cell_type": "code",
      "execution_count": 13,
      "metadata": {
        "id": "eg0-JHVTWbVZ",
        "colab": {
          "base_uri": "https://localhost:8080/"
        },
        "outputId": "3639b27a-3342-488e-bcbd-f09172789949"
      },
      "outputs": [
        {
          "output_type": "stream",
          "name": "stdout",
          "text": [
            "Math\n"
          ]
        }
      ],
      "source": [
        "sampleDict = {\n",
        "  'Physics': 82,\n",
        "  'Math': 65,\n",
        "  'history': 75\n",
        "}\n",
        "\n",
        "\n",
        "minVal = min(sampleDict, key=sampleDict.get)\n",
        "\n",
        "print(minVal)"
      ]
    },
    {
      "cell_type": "markdown",
      "metadata": {
        "id": "RgOC8s3gQPZx"
      },
      "source": [
        "Question - 7 : Write a python program to given a Python dictionary, Change Shiva’s salary to 8500\n",
        "\n",
        "Dict1 = {\n",
        "\n",
        "     'emp1': {'name': 'Ram', 'salary': 7500},\n",
        "\n",
        "     'emp2': {'name': 'Shyam', 'salary': 8000},\n",
        "\n",
        "     'emp3': {'name': 'Shiva', 'salary': 6500}\n",
        "\n",
        "}\n",
        "\n",
        "output:\n",
        "\n",
        "Dict1 = {\n",
        "  \n",
        "     'emp1': {'name': 'Ram', 'salary': 7500},\n",
        "     'emp2': {'name': 'Shyam', 'salary': 8000},\n",
        "     'emp3': {'name': 'Shiva', 'salary': 8500}\n",
        "\n",
        "}"
      ]
    },
    {
      "cell_type": "code",
      "execution_count": null,
      "metadata": {
        "id": "2pC1bsEbQREl"
      },
      "outputs": [],
      "source": [
        "#write your code here"
      ]
    },
    {
      "cell_type": "code",
      "execution_count": 14,
      "metadata": {
        "id": "yEVqY77MWeVL",
        "colab": {
          "base_uri": "https://localhost:8080/"
        },
        "outputId": "84bb37bb-0c27-48bb-8f63-a42fb5411613"
      },
      "outputs": [
        {
          "output_type": "stream",
          "name": "stdout",
          "text": [
            "{'emp1': {'name': 'Ram', 'salary': 7500}, 'emp2': {'name': 'Shyam', 'salary': 8000}, 'emp3': {'name': 'Shiva', 'salary': 8500}}\n"
          ]
        }
      ],
      "source": [
        "Dict1 = {\n",
        "\n",
        "     'emp1': {'name': 'Ram', 'salary': 7500},\n",
        "\n",
        "     'emp2': {'name': 'Shyam', 'salary': 8000},\n",
        "\n",
        "     'emp3': {'name': 'Shiva', 'salary': 6500}\n",
        "\n",
        "}\n",
        "\n",
        "Dict1['emp3']['salary'] = 8500\n",
        "print(Dict1)"
      ]
    },
    {
      "cell_type": "markdown",
      "metadata": {
        "id": "MFtEBv8MQRnb"
      },
      "source": [
        "\n",
        "\n",
        "```\n",
        "# This is formatted as code\n",
        "```\n",
        "\n",
        "Question - 8 : Write a python program to generate and print a dictionary that contains a number (between 1 and n) in the form (x, x*x).\n",
        "\n",
        "Dictionary ( n = 5) :\n",
        "\n",
        "Output : {1: 1, 2: 4, 3: 9, 4: 16, 5: 25}"
      ]
    },
    {
      "cell_type": "code",
      "execution_count": null,
      "metadata": {
        "id": "KwAGtZktQTK8"
      },
      "outputs": [],
      "source": [
        "#write your code here"
      ]
    },
    {
      "cell_type": "code",
      "execution_count": 15,
      "metadata": {
        "id": "k5BFvRSAWgth",
        "colab": {
          "base_uri": "https://localhost:8080/"
        },
        "outputId": "b67cac5f-a1b0-41c8-e16b-6fd57ad46291"
      },
      "outputs": [
        {
          "output_type": "stream",
          "name": "stdout",
          "text": [
            "Input a number 5\n",
            "{1: 1, 2: 4, 3: 9, 4: 16, 5: 25}\n"
          ]
        }
      ],
      "source": [
        "n=int(input(\"Input a number \"))\n",
        "d = dict()\n",
        "\n",
        "for x in range(1,n+1):\n",
        "    d[x]=x*x\n",
        "\n",
        "print(d)"
      ]
    },
    {
      "cell_type": "markdown",
      "metadata": {
        "id": "53Cb33aLQTrh"
      },
      "source": [
        "Question - 9 : Write a python program Write a Python program to multiply all the items in a dictionary.\n",
        "\n",
        "my_dict = {'data1':100,'data2':-54,'data3':247}\n",
        "\n",
        "\n",
        " Output:\n",
        "-1333800"
      ]
    },
    {
      "cell_type": "code",
      "execution_count": null,
      "metadata": {
        "id": "glKT7em_QVRs"
      },
      "outputs": [],
      "source": [
        "#write your code here"
      ]
    },
    {
      "cell_type": "code",
      "execution_count": 16,
      "metadata": {
        "id": "ZO3kL1OLWh0A",
        "colab": {
          "base_uri": "https://localhost:8080/"
        },
        "outputId": "14a760e5-a564-46d5-c302-37f4b648e2b5"
      },
      "outputs": [
        {
          "output_type": "stream",
          "name": "stdout",
          "text": [
            "-1333800\n"
          ]
        }
      ],
      "source": [
        "my_dict = {'data1':100,'data2':-54,'data3':247}\n",
        "\n",
        "lt = my_dict.values()\n",
        "\n",
        "lt1 = list(lt)\n",
        "n=len(lt1)\n",
        "m = 1\n",
        "\n",
        "for x in range(0 , n):\n",
        "  m=lt1[x]*m\n",
        "\n",
        "print(m)"
      ]
    },
    {
      "cell_type": "markdown",
      "metadata": {
        "id": "Cqlg2Dq0QVuV"
      },
      "source": [
        "Question - 10 : Write a python program  to get the maximum and minimum value in a dictionary.\n",
        "\n",
        ":\n",
        "\n",
        "my_dict = {'x':500, 'y':5874, 'z': 560}\n",
        "\n",
        " Output:\n",
        "\n",
        "Maximum Value:  5874                                                                                          \n",
        "Minimum Value:  500"
      ]
    },
    {
      "cell_type": "code",
      "execution_count": 17,
      "metadata": {
        "id": "tHdj4FxqZTWD"
      },
      "outputs": [],
      "source": [
        "#write your code here"
      ]
    },
    {
      "cell_type": "code",
      "execution_count": 18,
      "metadata": {
        "id": "BSSPgMtiWi7c",
        "colab": {
          "base_uri": "https://localhost:8080/"
        },
        "outputId": "02424c74-6f7b-4bec-efde-f5e9c4681f41"
      },
      "outputs": [
        {
          "output_type": "stream",
          "name": "stdout",
          "text": [
            "Maximum value :   5874\n",
            "Minimum value :   500\n"
          ]
        }
      ],
      "source": [
        "my_dict = {'x':500, 'y':5874, 'z': 560}\n",
        "\n",
        "lt = list(my_dict.values())\n",
        "\n",
        "print(\"Maximum value :  \",max(lt))\n",
        "\n",
        "print(\"Minimum value :  \",min(lt))"
      ]
    }
  ],
  "metadata": {
    "colab": {
      "provenance": []
    },
    "kernelspec": {
      "display_name": "Python 3",
      "name": "python3"
    }
  },
  "nbformat": 4,
  "nbformat_minor": 0
}