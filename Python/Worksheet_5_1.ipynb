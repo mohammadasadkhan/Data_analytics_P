{
  "cells": [
    {
      "cell_type": "markdown",
      "metadata": {
        "id": "ZiV6qm5YFo2h"
      },
      "source": [
        "##List Manipulation - Worksheet(5.1)"
      ]
    },
    {
      "cell_type": "markdown",
      "metadata": {
        "id": "KdgnmZkIF11Q"
      },
      "source": [
        "1 - Write a program to create a empty list and append some items."
      ]
    },
    {
      "cell_type": "code",
      "execution_count": null,
      "metadata": {
        "id": "FVRcisGuGJd1"
      },
      "outputs": [],
      "source": [
        "v #write your code here."
      ]
    },
    {
      "cell_type": "code",
      "execution_count": null,
      "metadata": {
        "colab": {
          "base_uri": "https://localhost:8080/"
        },
        "id": "j0mtJWkF7ds5",
        "outputId": "1609bace-2a51-4507-9ba1-971810aa99e0"
      },
      "outputs": [
        {
          "data": {
            "text/plain": [
              "['a']"
            ]
          },
          "execution_count": 6,
          "metadata": {},
          "output_type": "execute_result"
        }
      ],
      "source": [
        "lt = []\n",
        "lt.append('a')\n",
        "lt"
      ]
    },
    {
      "cell_type": "code",
      "execution_count": null,
      "metadata": {
        "colab": {
          "base_uri": "https://localhost:8080/"
        },
        "id": "P-GNGTN0-G3o",
        "outputId": "1ffd2916-8e01-4035-8e87-b19c543eca97"
      },
      "outputs": [
        {
          "data": {
            "text/plain": [
              "[1]"
            ]
          },
          "execution_count": 9,
          "metadata": {},
          "output_type": "execute_result"
        }
      ],
      "source": [
        "lst=[]\n",
        "lst.append(1)\n",
        "lst"
      ]
    },
    {
      "cell_type": "code",
      "execution_count": null,
      "metadata": {
        "colab": {
          "base_uri": "https://localhost:8080/"
        },
        "id": "GX5wa8oR-eBb",
        "outputId": "b9f6c157-25e1-48b5-d3fc-4ab64a3de2fa"
      },
      "outputs": [
        {
          "data": {
            "text/plain": [
              "list"
            ]
          },
          "execution_count": 10,
          "metadata": {},
          "output_type": "execute_result"
        }
      ],
      "source": [
        "lst=[]\n",
        "type(lst)"
      ]
    },
    {
      "cell_type": "code",
      "execution_count": null,
      "metadata": {
        "colab": {
          "base_uri": "https://localhost:8080/"
        },
        "id": "pkmVFI_9-omS",
        "outputId": "9415ad3e-7620-4db7-ac5e-2112d14c7501"
      },
      "outputs": [
        {
          "data": {
            "text/plain": [
              "[[1, 2, 3]]"
            ]
          },
          "execution_count": 15,
          "metadata": {},
          "output_type": "execute_result"
        }
      ],
      "source": [
        "lst=[]\n",
        "lst.append([1,2,3])\n",
        "lst"
      ]
    },
    {
      "cell_type": "markdown",
      "metadata": {
        "id": "FiSCd_vIGJ6t"
      },
      "source": [
        "2 - Write a Python program to sum all the items in a list.\n",
        "\n",
        "lt = [2,1,3,11,34]"
      ]
    },
    {
      "cell_type": "code",
      "execution_count": null,
      "metadata": {
        "id": "3e8iGoc_Haa7"
      },
      "outputs": [],
      "source": [
        "#write your code here."
      ]
    },
    {
      "cell_type": "code",
      "execution_count": 1,
      "metadata": {
        "id": "I2GTifkvHag6",
        "colab": {
          "base_uri": "https://localhost:8080/"
        },
        "outputId": "6e39b918-16bc-4e66-cf14-3a870f2318f9"
      },
      "outputs": [
        {
          "output_type": "stream",
          "name": "stdout",
          "text": [
            "51\n"
          ]
        }
      ],
      "source": [
        "lt = [2,1,3,11,34 ]\n",
        "n=len(lt)\n",
        "s=0\n",
        "for x in range(0 , n):\n",
        "  s=lt[x]+s\n",
        "print(s)"
      ]
    },
    {
      "cell_type": "code",
      "execution_count": null,
      "metadata": {
        "colab": {
          "base_uri": "https://localhost:8080/"
        },
        "id": "pSxtnW8ud5Cp",
        "outputId": "8e68fbea-94d7-4262-c0ab-2ae5e84142b7"
      },
      "outputs": [
        {
          "data": {
            "text/plain": [
              "51"
            ]
          },
          "execution_count": 16,
          "metadata": {},
          "output_type": "execute_result"
        }
      ],
      "source": [
        "lst=[2,1,3,11,34]\n",
        "sum(lst)"
      ]
    },
    {
      "cell_type": "markdown",
      "metadata": {
        "id": "4PLfHGmDHbAA"
      },
      "source": [
        "3 - Write a Python program to get the largest number from a list.\n",
        "\n",
        "lt =[1,11,44,2,3,5,6,7,55]"
      ]
    },
    {
      "cell_type": "code",
      "execution_count": null,
      "metadata": {
        "id": "u0b0jZmUHplk"
      },
      "outputs": [],
      "source": [
        "#write your code here."
      ]
    },
    {
      "cell_type": "code",
      "execution_count": 2,
      "metadata": {
        "id": "JLCnus9jd7Nf",
        "colab": {
          "base_uri": "https://localhost:8080/"
        },
        "outputId": "00fde838-4da7-4c15-8e73-2b36c390f7f3"
      },
      "outputs": [
        {
          "output_type": "stream",
          "name": "stdout",
          "text": [
            "55\n"
          ]
        }
      ],
      "source": [
        "lt=[1,11,44,2,3,5,6,7,55]\n",
        "print(max(lt))"
      ]
    },
    {
      "cell_type": "code",
      "execution_count": 3,
      "metadata": {
        "colab": {
          "base_uri": "https://localhost:8080/"
        },
        "id": "b5d1XixGHpsK",
        "outputId": "31d4d2bc-b82c-4086-b644-5e5b34372ece"
      },
      "outputs": [
        {
          "output_type": "execute_result",
          "data": {
            "text/plain": [
              "55"
            ]
          },
          "metadata": {},
          "execution_count": 3
        }
      ],
      "source": [
        "l=[1,11,44,2,3,5,6,7,55]\n",
        "max(l)"
      ]
    },
    {
      "cell_type": "markdown",
      "metadata": {
        "id": "60CA5ucwHqM7"
      },
      "source": [
        "4 - Write a Python program to get the second smallest number from a list.\n",
        "\n",
        "lt = [1,2,7,4,11,5,9]"
      ]
    },
    {
      "cell_type": "code",
      "execution_count": null,
      "metadata": {
        "id": "WJGAfPDnH5hm"
      },
      "outputs": [],
      "source": [
        "#write your code here."
      ]
    },
    {
      "cell_type": "code",
      "execution_count": 12,
      "metadata": {
        "colab": {
          "base_uri": "https://localhost:8080/"
        },
        "id": "BgjIZLRx7fLv",
        "outputId": "cb05f770-463b-4dbd-ea6d-7bede455b917"
      },
      "outputs": [
        {
          "output_type": "execute_result",
          "data": {
            "text/plain": [
              "[1, 2, 4, 5, 7, 9, 11]"
            ]
          },
          "metadata": {},
          "execution_count": 12
        }
      ],
      "source": [
        "lst=[1,2,7,4,11,5,9]\n",
        "lst.sort()\n",
        "lst"
      ]
    },
    {
      "cell_type": "markdown",
      "metadata": {
        "id": "lKcQhgr6H6Ge"
      },
      "source": [
        "5 - Write a Python program to get the list in an ascending order.\n",
        "\n",
        "lt = [1,2,5,7,9,3,4]"
      ]
    },
    {
      "cell_type": "code",
      "execution_count": null,
      "metadata": {
        "id": "ofLiwXCMIyEY"
      },
      "outputs": [],
      "source": [
        "#write your code here."
      ]
    },
    {
      "cell_type": "code",
      "execution_count": 9,
      "metadata": {
        "id": "9pGtM8eSeDiH",
        "colab": {
          "base_uri": "https://localhost:8080/"
        },
        "outputId": "ddfbff28-088c-457a-93c4-06154a2b1827"
      },
      "outputs": [
        {
          "output_type": "stream",
          "name": "stdout",
          "text": [
            "Second Smallest element is: 4\n"
          ]
        }
      ],
      "source": [
        "list1 = [12, 45, 2, 41, 31, 10, 8, 6, 4]\n",
        "\n",
        "largest = list1[0]\n",
        "lowest = list1[0]\n",
        "largest2 = None\n",
        "lowest2 = None\n",
        "for item in list1[1:]:\n",
        "  if item > largest:\n",
        "    largest2 = largest\n",
        "    largest = item\n",
        "  elif largest2 == None or largest2 < item:\n",
        "      largest2 = item\n",
        "  if item < lowest:\n",
        "      lowest2 = lowest\n",
        "      lowest = item\n",
        "  elif lowest2 == None or lowest2 > item:\n",
        "      lowest2 = item\n",
        "\n",
        "print(\"Second Smallest element is:\", lowest2)"
      ]
    },
    {
      "cell_type": "markdown",
      "metadata": {
        "id": "Gf_kSqfBIyqk"
      },
      "source": [
        "6 - Write a Python program to remove duplicates items from a list.\n",
        "\n",
        "lt = [1,2,5,4,3,1,6,7,3,43,2]\n"
      ]
    },
    {
      "cell_type": "code",
      "execution_count": null,
      "metadata": {
        "id": "g7DnUC06JC7-"
      },
      "outputs": [],
      "source": [
        "#write your code here."
      ]
    },
    {
      "cell_type": "code",
      "execution_count": 8,
      "metadata": {
        "id": "eF9dbaIHeE6m",
        "colab": {
          "base_uri": "https://localhost:8080/"
        },
        "outputId": "95ba6697-7fe0-45c6-f112-c6645514df8f"
      },
      "outputs": [
        {
          "output_type": "stream",
          "name": "stdout",
          "text": [
            "[1, 2, 5, 4, 3, 6, 7, 43]\n"
          ]
        }
      ],
      "source": [
        "lt = [1,2,5,4,3,1,6,7,3,43,2]\n",
        "\n",
        "final_list = []\n",
        "for num in lt:\n",
        "    if num not in final_list:\n",
        "        final_list.append(num)\n",
        "print(final_list)\n"
      ]
    },
    {
      "cell_type": "markdown",
      "metadata": {
        "id": "h9brnuvMJIA5"
      },
      "source": [
        "7 - Write a Python program to count similiar items from a list.\n",
        "\n",
        "lt = [1,2,5,4,3,1,6,7,3,43,2]"
      ]
    },
    {
      "cell_type": "code",
      "execution_count": null,
      "metadata": {
        "id": "x8VHkAgfJSpg"
      },
      "outputs": [],
      "source": [
        "#write your code here."
      ]
    },
    {
      "cell_type": "code",
      "execution_count": 7,
      "metadata": {
        "id": "PQgVPW85eF2Y",
        "colab": {
          "base_uri": "https://localhost:8080/"
        },
        "outputId": "ed8a150c-3e0b-463e-9c4f-9b99e5d77d67"
      },
      "outputs": [
        {
          "output_type": "stream",
          "name": "stdout",
          "text": [
            "1 2\n",
            "2 2\n",
            "3 2\n"
          ]
        }
      ],
      "source": [
        "lt = [1,2,5,4,3,1,6,7,3,43,2]\n",
        "\n",
        "lt1=[0,1,2,3,4,5,6,7,8,9]\n",
        "\n",
        "\n",
        "for x in lt1:\n",
        "  count = lt.count(x)\n",
        "  if count > 1:\n",
        "    print(str(x), count)"
      ]
    },
    {
      "cell_type": "markdown",
      "metadata": {
        "id": "-YF2sRmnJTeE"
      },
      "source": [
        "8 - Write a Python program to check a list is empty or not."
      ]
    },
    {
      "cell_type": "code",
      "execution_count": null,
      "metadata": {
        "id": "kXRvTVukJjis"
      },
      "outputs": [],
      "source": [
        "#write your code here."
      ]
    },
    {
      "cell_type": "code",
      "execution_count": 6,
      "metadata": {
        "id": "iVSpg2PFeI0t",
        "colab": {
          "base_uri": "https://localhost:8080/"
        },
        "outputId": "045f2296-0e0a-4dee-f580-782b4fd35d2e"
      },
      "outputs": [
        {
          "output_type": "stream",
          "name": "stdout",
          "text": [
            "list is empty\n"
          ]
        }
      ],
      "source": [
        "lt = []\n",
        "\n",
        "if len(lt)>0:\n",
        "  print('list is not empty')\n",
        "else:\n",
        "  print('list is empty')"
      ]
    },
    {
      "cell_type": "markdown",
      "metadata": {
        "id": "nPo12_hZJkEM"
      },
      "source": [
        "9 - Write a Python program to clone or copy a list.\n",
        "\n",
        "lt = [1,2,3,4,5,6,7,8]"
      ]
    },
    {
      "cell_type": "code",
      "execution_count": null,
      "metadata": {
        "id": "NhTRjsNgJvpt"
      },
      "outputs": [],
      "source": [
        "#write your code here."
      ]
    },
    {
      "cell_type": "code",
      "execution_count": 5,
      "metadata": {
        "id": "0wyIwdvOeLS0",
        "colab": {
          "base_uri": "https://localhost:8080/"
        },
        "outputId": "fbf2e359-e395-43af-869b-617152ab68be"
      },
      "outputs": [
        {
          "output_type": "stream",
          "name": "stdout",
          "text": [
            "[1, 2, 3, 4, 5, 6, 7, 8]\n"
          ]
        }
      ],
      "source": [
        "lt = [1,2,3,4,5,6,7,8]\n",
        "mylist = lt.copy()\n",
        "print(mylist)"
      ]
    },
    {
      "cell_type": "markdown",
      "metadata": {
        "id": "ziW1paCjJwX-"
      },
      "source": [
        "10 - Write a Python program that takes two lists and returns True if they have at least one common member."
      ]
    },
    {
      "cell_type": "code",
      "execution_count": null,
      "metadata": {
        "id": "fAbZS0uwJ8FR"
      },
      "outputs": [],
      "source": [
        "#write your code here."
      ]
    },
    {
      "cell_type": "code",
      "execution_count": 4,
      "metadata": {
        "id": "arc7svPReMyQ",
        "colab": {
          "base_uri": "https://localhost:8080/"
        },
        "outputId": "7f39e9f4-5121-472a-e0fa-0d73b14e3d81"
      },
      "outputs": [
        {
          "output_type": "stream",
          "name": "stdout",
          "text": [
            "yes 1\n"
          ]
        }
      ],
      "source": [
        "lt=[1,2,3,4,5]\n",
        "\n",
        "lt1=[6,7,8, 1 , 2]\n",
        "\n",
        "n = len(lt)\n",
        "\n",
        "for x in range(0 , n):\n",
        "  if lt[x] in lt1:\n",
        "    print(\"yes\" , +lt[x])\n",
        "    break\n",
        "  else:\n",
        "    print(\"No\" , +lt[x])\n"
      ]
    }
  ],
  "metadata": {
    "colab": {
      "provenance": []
    },
    "kernelspec": {
      "display_name": "Python 3",
      "name": "python3"
    }
  },
  "nbformat": 4,
  "nbformat_minor": 0
}