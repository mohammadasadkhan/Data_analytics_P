{
  "nbformat": 4,
  "nbformat_minor": 0,
  "metadata": {
    "colab": {
      "provenance": []
    },
    "kernelspec": {
      "name": "python3",
      "display_name": "Python 3"
    }
  },
  "cells": [
    {
      "cell_type": "markdown",
      "metadata": {
        "id": "YSMdeOqxRyRs"
      },
      "source": [
        "##List Manipulation - Worksheet(5.3)\n"
      ]
    },
    {
      "cell_type": "markdown",
      "metadata": {
        "id": "lpP_h_kFR2Bi"
      },
      "source": [
        "1 - Write a Python program to insert a given string at the beginning of all items in a list.\n",
        "\n",
        "lt =  [1,2,3,4]\n",
        "\n",
        "string : emp\n",
        "\n",
        "\n",
        "output : ['emp1', 'emp2', 'emp3', 'emp4']"
      ]
    },
    {
      "cell_type": "code",
      "metadata": {
        "id": "U0DdXb_oPUxw"
      },
      "source": [
        "#write your code here"
      ],
      "execution_count": null,
      "outputs": []
    },
    {
      "cell_type": "code",
      "metadata": {
        "id": "15W4oXq7tyiY",
        "colab": {
          "base_uri": "https://localhost:8080/"
        },
        "outputId": "1d75f3e8-05ff-42c6-fb97-0a8514a9f6f2"
      },
      "source": [
        "num = [1,2,3,4]\n",
        "print(['emp{0}'.format(i) for i in  num])"
      ],
      "execution_count": 10,
      "outputs": [
        {
          "output_type": "stream",
          "name": "stdout",
          "text": [
            "['emp1', 'emp2', 'emp3', 'emp4']\n"
          ]
        }
      ]
    },
    {
      "cell_type": "markdown",
      "metadata": {
        "id": "8I8rIvHPPVf2"
      },
      "source": [
        "2 - Write a Python program to count integer in a given mixed list.\n",
        "\n",
        "E.g :\n",
        "\n",
        "lt = [1, 'abcd', 3, 1.2, 4, 'xyz', 5, 'pqr', 7, -5, -12.22 , 'shiva' , 'rajit']\n",
        "\n",
        "Number of integers in the list:\n",
        "\n",
        "6\n"
      ]
    },
    {
      "cell_type": "code",
      "metadata": {
        "id": "wsN9KS24P539"
      },
      "source": [
        "#write your code here"
      ],
      "execution_count": null,
      "outputs": []
    },
    {
      "cell_type": "code",
      "metadata": {
        "id": "WkZfeHwrt0gd",
        "colab": {
          "base_uri": "https://localhost:8080/"
        },
        "outputId": "29c4c7f3-ca45-40bc-a71d-1fea58b7626f"
      },
      "source": [
        "test_list = [1, 'abcd', 3, 1.2, 4, 'xyz', 5, 'pqr', 7, -5, -12.22 , 'shiva' , 'rajit']\n",
        "\n",
        "res = len(list(i for i in test_list if isinstance(i, int)))\n",
        "\n",
        "print (\"The length of integers in list is : \" + str(res))"
      ],
      "execution_count": 9,
      "outputs": [
        {
          "output_type": "stream",
          "name": "stdout",
          "text": [
            "The length of integers in list is : 6\n"
          ]
        }
      ]
    },
    {
      "cell_type": "markdown",
      "metadata": {
        "id": "EVNwiK1iP6iC"
      },
      "source": [
        "3 - Write a Python program to find the number of  occurrence of value x in a given list.\n",
        "\n",
        "Examples:\n",
        "\n",
        "lt = [1, 2, 8, 5, 8, 7, 8]\n",
        "\n",
        "x = 8\n",
        "\n",
        "Output : 3"
      ]
    },
    {
      "cell_type": "code",
      "metadata": {
        "id": "R0E6ag-jQa9Q"
      },
      "source": [
        "#write your code here"
      ],
      "execution_count": null,
      "outputs": []
    },
    {
      "cell_type": "code",
      "metadata": {
        "id": "iLtk8_iQt1i9",
        "colab": {
          "base_uri": "https://localhost:8080/"
        },
        "outputId": "f90521ba-df7a-42db-eaff-6b49dd39f8a6"
      },
      "source": [
        "L = [1, 2, 8, 5, 8, 7, 8]\n",
        "\n",
        "frequency = print(L.count(max(L)))"
      ],
      "execution_count": 8,
      "outputs": [
        {
          "output_type": "stream",
          "name": "stdout",
          "text": [
            "3\n"
          ]
        }
      ]
    },
    {
      "cell_type": "markdown",
      "metadata": {
        "id": "HKcFdurfQb23"
      },
      "source": [
        "4 -  Write a Python program to check whether a specified list is sorted or not.\n",
        "\n",
        "\n",
        "lt = [1, 2, 4, 6, 8, 10, 12, 14, 16, 17]\n",
        "\n",
        "If the said list is sorted! :\n",
        "True\n",
        "\n",
        "otherwise\n",
        "\n",
        "if the said list is not sorted! :\n",
        "False"
      ]
    },
    {
      "cell_type": "code",
      "metadata": {
        "id": "sLbjB6dLQ-qb"
      },
      "source": [
        "#write your code here"
      ],
      "execution_count": null,
      "outputs": []
    },
    {
      "cell_type": "code",
      "metadata": {
        "id": "4K9spuVut2iY",
        "colab": {
          "base_uri": "https://localhost:8080/"
        },
        "outputId": "45ab297a-ef23-4dcd-b120-7888bade8062"
      },
      "source": [
        "lt = [1,2,4,6,8,10,12,14,16,17]\n",
        "\n",
        "sort = sorted(lt)\n",
        "\n",
        "if lt == sort:\n",
        "    print('List is sorted :', lt)\n",
        "else:\n",
        "    print('List is not sorted :', lt)"
      ],
      "execution_count": 7,
      "outputs": [
        {
          "output_type": "stream",
          "name": "stdout",
          "text": [
            "List is sorted : [1, 2, 4, 6, 8, 10, 12, 14, 16, 17]\n"
          ]
        }
      ]
    },
    {
      "cell_type": "markdown",
      "metadata": {
        "id": "sUNk9fyzRBe9"
      },
      "source": [
        "5 - Write a Python program to check if the elements of a given list are unique or not.\n",
        "\n",
        "\n",
        "lt = [1, 2, 4, 6, 8, 2, 1, 4, 10, 12, 14, 12, 16, 17]\n",
        "\n",
        "if the said list contains all unique elements! :\n",
        "False\n",
        "\n",
        "\n",
        "\n",
        "lt = [2, 4, 6, 8, 10, 12, 14]\n",
        "\n",
        "if the said list contains all unique elements! :\n",
        "True"
      ]
    },
    {
      "cell_type": "code",
      "metadata": {
        "id": "J5kcEBjWRfD-"
      },
      "source": [
        "#write your code here"
      ],
      "execution_count": null,
      "outputs": []
    },
    {
      "cell_type": "code",
      "metadata": {
        "id": "4Up6asmJt3Zc",
        "colab": {
          "base_uri": "https://localhost:8080/"
        },
        "outputId": "dbad5315-001b-4413-c942-34f18cc8625c"
      },
      "source": [
        "lt = [2,4,6,8,10,12,14]\n",
        "lt1=[]\n",
        "\n",
        "n = len(lt)\n",
        "\n",
        "for x in range(0, n):\n",
        "  if lt[x] not in lt1:\n",
        "    lt1.append(lt[x])\n",
        "  else:\n",
        "    pass\n",
        "\n",
        "if lt1 == lt:\n",
        "  print(\"list contains all unique elements : \",(lt1 == lt))\n",
        "else:\n",
        "  print(\"list contains all unique elements : \",(lt1 == lt))"
      ],
      "execution_count": 6,
      "outputs": [
        {
          "output_type": "stream",
          "name": "stdout",
          "text": [
            "list contains all unique elements :  True\n"
          ]
        }
      ]
    },
    {
      "cell_type": "markdown",
      "metadata": {
        "id": "gUs32CmORfqp"
      },
      "source": [
        "6 - Write a Python program to remove all elements from a given list present in another list.\n",
        "\n",
        "\n",
        "lt  = [1, 2, 3, 4, 5, 6, 7, 8, 9, 10]\n",
        "\n",
        "lt2 =  [2, 4, 6, 8]\n",
        "\n",
        "Remove all elements from 'lt1' present in 'lt2:\n",
        "\n",
        "[1, 3, 5, 7, 9, 10]"
      ]
    },
    {
      "cell_type": "code",
      "metadata": {
        "id": "aKVplRO7R3H0"
      },
      "source": [
        "#write your code here"
      ],
      "execution_count": null,
      "outputs": []
    },
    {
      "cell_type": "code",
      "metadata": {
        "id": "wek8tcaZR3OF",
        "colab": {
          "base_uri": "https://localhost:8080/"
        },
        "outputId": "0319029d-e3cc-45fa-ab97-1244b2abc47d"
      },
      "source": [
        "lt =  [1,2,3,4,5,6,7,8,9,10]\n",
        "\n",
        "lt2 = [2,4,6,8]\n",
        "\n",
        "lt1=[]\n",
        "\n",
        "n = len(lt)\n",
        "\n",
        "for x in  range(0, n):\n",
        "  if lt[x] not in lt2:\n",
        "    lt1.append(lt[x])\n",
        "  else:\n",
        "    pass\n",
        "lt1"
      ],
      "execution_count": 5,
      "outputs": [
        {
          "output_type": "execute_result",
          "data": {
            "text/plain": [
              "[1, 3, 5, 7, 9, 10]"
            ]
          },
          "metadata": {},
          "execution_count": 5
        }
      ]
    },
    {
      "cell_type": "markdown",
      "metadata": {
        "id": "ER4lDoB1R3u_"
      },
      "source": [
        "7 - Write a Python program to given a list and turn every item of a list into its square\n",
        "e.g :\n",
        "\n",
        "lt = [1, 2, 3, 4, 5, 6, 7]\n",
        "\n",
        "output:\n",
        "\n",
        "[1, 4, 9, 16, 25, 36, 49]"
      ]
    },
    {
      "cell_type": "code",
      "metadata": {
        "id": "uozvyVa4Sj-y"
      },
      "source": [
        "#write your code here"
      ],
      "execution_count": null,
      "outputs": []
    },
    {
      "cell_type": "code",
      "metadata": {
        "id": "hcZSClXyt5b-",
        "colab": {
          "base_uri": "https://localhost:8080/"
        },
        "outputId": "f0de7d72-3fca-4b59-8183-b8bbd72bb900"
      },
      "source": [
        "lt = [1,2,3,4,5,6,7]\n",
        "lt1=[]\n",
        "for x in lt:\n",
        "  sqr =x*x\n",
        "  lt1.append(sqr)\n",
        "\n",
        "lt1"
      ],
      "execution_count": 4,
      "outputs": [
        {
          "output_type": "execute_result",
          "data": {
            "text/plain": [
              "[1, 4, 9, 16, 25, 36, 49]"
            ]
          },
          "metadata": {},
          "execution_count": 4
        }
      ]
    },
    {
      "cell_type": "markdown",
      "metadata": {
        "id": "URjFeR0sSk60"
      },
      "source": [
        "8 - Write a python program to given a two Python list. Iterate both lists simultaneously such that list1 should display item in original order and list2 in reverse order\n",
        "\n",
        "lt1 = [10, 20, 30, 40]\n",
        "\n",
        "lt2 = [100, 200, 300, 400]\n",
        "\n",
        " output :\n",
        "\n",
        "10 400\n",
        "\n",
        "20 300\n",
        "\n",
        "30 200\n",
        "\n",
        "40 100"
      ]
    },
    {
      "cell_type": "code",
      "metadata": {
        "id": "KiQnBHlQSz9i"
      },
      "source": [
        "#write your code here"
      ],
      "execution_count": null,
      "outputs": []
    },
    {
      "cell_type": "code",
      "metadata": {
        "id": "mD3vx7oUt6rl",
        "colab": {
          "base_uri": "https://localhost:8080/"
        },
        "outputId": "7b399cb4-fbed-4c1a-b87e-7d921feca055"
      },
      "source": [
        "lt1 = [10,20,30,40]\n",
        "\n",
        "lt2 = [100,200,300,400]\n",
        "\n",
        "lt3 = lt2.reverse()\n",
        "n = len(lt1)\n",
        "\n",
        "for x in range(0, n):\n",
        "  print(lt1[x] , \"\", +lt2[x])"
      ],
      "execution_count": 3,
      "outputs": [
        {
          "output_type": "stream",
          "name": "stdout",
          "text": [
            "10  400\n",
            "20  300\n",
            "30  200\n",
            "40  100\n"
          ]
        }
      ]
    },
    {
      "cell_type": "markdown",
      "metadata": {
        "id": "qtQQ0XNwS0g0"
      },
      "source": [
        "9 - Write a python program to remove empty string from the list of strings\n",
        "\n",
        "lt = [\"shiva\", \"\", \"rajit\", \"nikhil\", \"\", \"gaurav\"]\n",
        "\n",
        "output:\n",
        "\n",
        "[\"shiva\", \"rajit\", \"nikhil\", \"gaurav\"]"
      ]
    },
    {
      "cell_type": "code",
      "metadata": {
        "id": "OUIG0mWNTeiZ"
      },
      "source": [
        "#write your code here"
      ],
      "execution_count": null,
      "outputs": []
    },
    {
      "cell_type": "code",
      "metadata": {
        "id": "7Vww8vMeTepE",
        "colab": {
          "base_uri": "https://localhost:8080/"
        },
        "outputId": "bc27e1f3-b5a1-4d60-90de-3abc11c48e34"
      },
      "source": [
        "test_list = [\"shiva\" , \"\", \"rajit\", \"nikhil\", \"\", \"gaurav\"]\n",
        "\n",
        "test_list = ' '.join(test_list).split()\n",
        "\n",
        "print (\"Modified list is : \" + str(test_list))"
      ],
      "execution_count": 2,
      "outputs": [
        {
          "output_type": "stream",
          "name": "stdout",
          "text": [
            "Modified list is : ['shiva', 'rajit', 'nikhil', 'gaurav']\n"
          ]
        }
      ]
    },
    {
      "cell_type": "markdown",
      "metadata": {
        "id": "t_aRaub4TfA5"
      },
      "source": [
        "10 - Write a  python program  given a list, find value 20 in the list, and if it is present, replace it with 200. Only update the first occurrence of a value .\n",
        "\n",
        "lt = [5, 10, 15, 20, 25, 50, 20]\n",
        "\n",
        "output:\n",
        "\n",
        "lt = [5, 10, 15, 200, 25, 50, 20]"
      ]
    },
    {
      "cell_type": "code",
      "metadata": {
        "id": "4dcQmoV3T9kL"
      },
      "source": [
        "#write your code here"
      ],
      "execution_count": null,
      "outputs": []
    },
    {
      "cell_type": "code",
      "metadata": {
        "id": "Q24CWslmT9q_",
        "colab": {
          "base_uri": "https://localhost:8080/"
        },
        "outputId": "4b94f2f9-c5b7-4cde-a5a0-376fdc8c4d3e"
      },
      "source": [
        "lt = [5,10,15,20,25,50,20]\n",
        "\n",
        "n = 20\n",
        "\n",
        "x = lt.index(n)\n",
        "\n",
        "lt[x] = 200\n",
        "lt"
      ],
      "execution_count": 1,
      "outputs": [
        {
          "output_type": "execute_result",
          "data": {
            "text/plain": [
              "[5, 10, 15, 200, 25, 50, 20]"
            ]
          },
          "metadata": {},
          "execution_count": 1
        }
      ]
    }
  ]
}